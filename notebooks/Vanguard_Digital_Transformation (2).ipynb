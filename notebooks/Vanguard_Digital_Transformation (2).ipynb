{
 "cells": [
  {
   "cell_type": "markdown",
   "id": "bb371031-9f02-4d67-9df0-a12df0c28c4e",
   "metadata": {},
   "source": [
    "1. Project Introduction\n",
    "2. Load & Merge Data\n",
    "3. Data Cleaning\n",
    "4. Exploratory Data Analysis (EDA)\n",
    "5. KPI Calculation\n",
    "6. Hypothesis Testing\n",
    "7. Business Insights & Recommendations\n",
    "8. Conclusion"
   ]
  },
  {
   "cell_type": "markdown",
   "id": "e922fb21-9d4f-4c2a-b9b5-73958e8f1b7c",
   "metadata": {},
   "source": [
    "# Vanguard Digital Transformation – A/B Testing Project\n",
    "\n",
    "Objective: Determine if the new user interface (Test group) improves the completion rate compared to the old one (Control group).\n",
    "Approach: Data cleaning, KPI calculation, statistical testing, visualization, and business recommendations."
   ]
  },
  {
   "cell_type": "markdown",
   "id": "193e6ce2-eccf-406d-8870-4232d24ed77f",
   "metadata": {},
   "source": [
    "<span style=\"font-size:40px\">## PART 1 - Exploration of the user path (web_data only)</span>"
   ]
  },
  {
   "cell_type": "markdown",
   "id": "7ce59539-2daf-4a39-a122-91117ec19882",
   "metadata": {},
   "source": [
    "<span style=\"font-size:32px\"># Step 1 - Import Libraries</span>"
   ]
  },
  {
   "cell_type": "code",
   "execution_count": 198,
   "id": "b4240847-6be9-4b09-9b0f-8d3f31920e4d",
   "metadata": {},
   "outputs": [],
   "source": [
    "import pandas as pd\n",
    "import numpy as np\n",
    "import matplotlib.pyplot as plt\n",
    "import seaborn as sns\n"
   ]
  },
  {
   "cell_type": "markdown",
   "id": "c7df2088-7abf-4e27-b6a6-e7608124b367",
   "metadata": {},
   "source": [
    "<span style=\"font-size:32px\"># Step 2 - Load and merge the 2 web_data files cleanly</span>"
   ]
  },
  {
   "cell_type": "code",
   "execution_count": 199,
   "id": "7facccd5-1351-4274-8ab7-c31fcb104ee5",
   "metadata": {},
   "outputs": [],
   "source": [
    "# Transform the 'df_final_demo' txt file into a csv file\n",
    "df = pd.read_csv(r\"C:\\Users\\proprietaire\\Desktop\\Mini_Project_Vanguard_Digital_Transformation\\df_final_demo.txt\")\n",
    "df.to_csv(\"df_final_demo.csv\", index=False)"
   ]
  },
  {
   "cell_type": "code",
   "execution_count": 200,
   "id": "63327770-30ef-409b-8cb7-867e3b13f803",
   "metadata": {},
   "outputs": [
    {
     "data": {
      "text/html": [
       "<a href='df_final_demo.csv' target='_blank'>df_final_demo.csv</a><br>"
      ],
      "text/plain": [
       "C:\\Users\\proprietaire\\df_final_demo.csv"
      ]
     },
     "execution_count": 200,
     "metadata": {},
     "output_type": "execute_result"
    }
   ],
   "source": [
    "# Display the 'df_final_demo' csv file\n",
    "\n",
    "from IPython.display import FileLink\n",
    "\n",
    "FileLink(\"df_final_demo.csv\")\n"
   ]
  },
  {
   "cell_type": "code",
   "execution_count": 201,
   "id": "33d24579-55ea-42c3-8222-91d09b386ff1",
   "metadata": {},
   "outputs": [],
   "source": [
    "# Transform the 'df_final_web_data_pt_1' txt file into a csv file\n",
    "\n",
    "import pandas as pd\n",
    "\n",
    "df = pd.read_csv(r\"C:\\Users\\proprietaire\\Desktop\\Mini_Project_Vanguard_Digital_Transformation\\df_final_web_data_pt_1.txt\")\n",
    "df.to_csv(\"df_final_web_data_pt_1.csv\", index=False)"
   ]
  },
  {
   "cell_type": "code",
   "execution_count": 202,
   "id": "3ac57d7d-2e70-490d-a543-3c8f0affcc1d",
   "metadata": {},
   "outputs": [
    {
     "data": {
      "text/html": [
       "<a href='df_final_web_data_pt_1.csv' target='_blank'>df_final_web_data_pt_1.csv</a><br>"
      ],
      "text/plain": [
       "C:\\Users\\proprietaire\\df_final_web_data_pt_1.csv"
      ]
     },
     "execution_count": 202,
     "metadata": {},
     "output_type": "execute_result"
    }
   ],
   "source": [
    "# Display the 'df_final_web_data_pt_1' csv file\n",
    "\n",
    "from IPython.display import FileLink\n",
    "\n",
    "FileLink(\"df_final_web_data_pt_1.csv\")\n"
   ]
  },
  {
   "cell_type": "code",
   "execution_count": 203,
   "id": "ac8e1ef9-ca2c-4b24-a35a-87db96f2d13a",
   "metadata": {},
   "outputs": [],
   "source": [
    "# Transform the 'df_final_web_data_pt_2' txt file into a csv file\n",
    "\n",
    "import pandas as pd\n",
    "\n",
    "df = pd.read_csv(r\"C:\\Users\\proprietaire\\Desktop\\Mini_Project_Vanguard_Digital_Transformation\\df_final_web_data_pt_2.txt\")\n",
    "df.to_csv(\"df_final_web_data_pt_2.csv\", index=False)"
   ]
  },
  {
   "cell_type": "code",
   "execution_count": 204,
   "id": "24d88fc9-bf3a-4e9c-95f7-3bc97e37de12",
   "metadata": {},
   "outputs": [
    {
     "data": {
      "text/html": [
       "<a href='df_final_web_data_pt_2.csv' target='_blank'>df_final_web_data_pt_2.csv</a><br>"
      ],
      "text/plain": [
       "C:\\Users\\proprietaire\\df_final_web_data_pt_2.csv"
      ]
     },
     "execution_count": 204,
     "metadata": {},
     "output_type": "execute_result"
    }
   ],
   "source": [
    "# Display the 'df_final_web_data_pt_2' csv file\n",
    "\n",
    "from IPython.display import FileLink\n",
    "\n",
    "FileLink(\"df_final_web_data_pt_2.csv\")"
   ]
  },
  {
   "cell_type": "code",
   "execution_count": 205,
   "id": "78859b18-096b-46bc-b961-b85aab261a04",
   "metadata": {},
   "outputs": [],
   "source": [
    "import pandas as pd\n",
    "\n",
    "# Upload the two files\n",
    "df1 = pd.read_csv(r\"C:\\Users\\proprietaire\\Desktop\\Mini_Project_Vanguard_Digital_Transformation\\df_final_web_data_pt_1.csv\")\n",
    "df2 = pd.read_csv(r\"C:\\Users\\proprietaire\\Desktop\\Mini_Project_Vanguard_Digital_Transformation\\df_final_web_data_pt_2.csv\")\n"
   ]
  },
  {
   "cell_type": "code",
   "execution_count": 206,
   "id": "245a6d94-2298-4be6-9d85-11aa5224287e",
   "metadata": {},
   "outputs": [
    {
     "name": "stdout",
     "output_type": "stream",
     "text": [
      "Index(['client_id', 'visitor_id', 'visit_id', 'process_step', 'date_time'], dtype='object')\n",
      "Index(['client_id', 'visitor_id', 'visit_id', 'process_step', 'date_time'], dtype='object')\n"
     ]
    }
   ],
   "source": [
    "# Check that they have the same columns\n",
    "print(df1.columns)\n",
    "print(df2.columns)"
   ]
  },
  {
   "cell_type": "code",
   "execution_count": 207,
   "id": "0b70a065-03b7-482e-9988-262e3c3fee48",
   "metadata": {},
   "outputs": [],
   "source": [
    "# Transform the 'df_final_web_data_pt_1' txt file into a csv file\n",
    "import pandas as pd\n",
    "\n",
    "df = pd.read_csv(r\"C:\\Users\\proprietaire\\Desktop\\Mini_Project_Vanguard_Digital_Transformation\\df_final_experiment_clients.txt\")\n",
    "df.to_csv(\"df_final_experiment_clients.csv\", index=False)"
   ]
  },
  {
   "cell_type": "code",
   "execution_count": 208,
   "id": "da6d20ce-6c03-4030-984f-bc0a91871e82",
   "metadata": {},
   "outputs": [],
   "source": [
    "# Merge the two files\n",
    "df_web = pd.concat([df1, df2], ignore_index=True)"
   ]
  },
  {
   "cell_type": "code",
   "execution_count": 209,
   "id": "ababaade-ca87-40a0-ac49-91a57d961929",
   "metadata": {},
   "outputs": [
    {
     "data": {
      "text/html": [
       "<div>\n",
       "<style scoped>\n",
       "    .dataframe tbody tr th:only-of-type {\n",
       "        vertical-align: middle;\n",
       "    }\n",
       "\n",
       "    .dataframe tbody tr th {\n",
       "        vertical-align: top;\n",
       "    }\n",
       "\n",
       "    .dataframe thead th {\n",
       "        text-align: right;\n",
       "    }\n",
       "</style>\n",
       "<table border=\"1\" class=\"dataframe\">\n",
       "  <thead>\n",
       "    <tr style=\"text-align: right;\">\n",
       "      <th></th>\n",
       "      <th>client_id</th>\n",
       "      <th>visitor_id</th>\n",
       "      <th>visit_id</th>\n",
       "      <th>process_step</th>\n",
       "      <th>date_time</th>\n",
       "    </tr>\n",
       "  </thead>\n",
       "  <tbody>\n",
       "    <tr>\n",
       "      <th>0</th>\n",
       "      <td>9988021</td>\n",
       "      <td>580560515_7732621733</td>\n",
       "      <td>781255054_21935453173_531117</td>\n",
       "      <td>step_3</td>\n",
       "      <td>2017-04-17 15:27:07</td>\n",
       "    </tr>\n",
       "    <tr>\n",
       "      <th>1</th>\n",
       "      <td>9988021</td>\n",
       "      <td>580560515_7732621733</td>\n",
       "      <td>781255054_21935453173_531117</td>\n",
       "      <td>step_2</td>\n",
       "      <td>2017-04-17 15:26:51</td>\n",
       "    </tr>\n",
       "    <tr>\n",
       "      <th>2</th>\n",
       "      <td>9988021</td>\n",
       "      <td>580560515_7732621733</td>\n",
       "      <td>781255054_21935453173_531117</td>\n",
       "      <td>step_3</td>\n",
       "      <td>2017-04-17 15:19:22</td>\n",
       "    </tr>\n",
       "    <tr>\n",
       "      <th>3</th>\n",
       "      <td>9988021</td>\n",
       "      <td>580560515_7732621733</td>\n",
       "      <td>781255054_21935453173_531117</td>\n",
       "      <td>step_2</td>\n",
       "      <td>2017-04-17 15:19:13</td>\n",
       "    </tr>\n",
       "    <tr>\n",
       "      <th>4</th>\n",
       "      <td>9988021</td>\n",
       "      <td>580560515_7732621733</td>\n",
       "      <td>781255054_21935453173_531117</td>\n",
       "      <td>step_3</td>\n",
       "      <td>2017-04-17 15:18:04</td>\n",
       "    </tr>\n",
       "  </tbody>\n",
       "</table>\n",
       "</div>"
      ],
      "text/plain": [
       "   client_id            visitor_id                      visit_id process_step  \\\n",
       "0    9988021  580560515_7732621733  781255054_21935453173_531117       step_3   \n",
       "1    9988021  580560515_7732621733  781255054_21935453173_531117       step_2   \n",
       "2    9988021  580560515_7732621733  781255054_21935453173_531117       step_3   \n",
       "3    9988021  580560515_7732621733  781255054_21935453173_531117       step_2   \n",
       "4    9988021  580560515_7732621733  781255054_21935453173_531117       step_3   \n",
       "\n",
       "             date_time  \n",
       "0  2017-04-17 15:27:07  \n",
       "1  2017-04-17 15:26:51  \n",
       "2  2017-04-17 15:19:22  \n",
       "3  2017-04-17 15:19:13  \n",
       "4  2017-04-17 15:18:04  "
      ]
     },
     "execution_count": 209,
     "metadata": {},
     "output_type": "execute_result"
    }
   ],
   "source": [
    "# Print the first lines\n",
    "df_web.head()"
   ]
  },
  {
   "cell_type": "code",
   "execution_count": 210,
   "id": "d464f3df-7a9f-411f-a2dd-5e2f26fbf3da",
   "metadata": {},
   "outputs": [
    {
     "data": {
      "text/html": [
       "<div>\n",
       "<style scoped>\n",
       "    .dataframe tbody tr th:only-of-type {\n",
       "        vertical-align: middle;\n",
       "    }\n",
       "\n",
       "    .dataframe tbody tr th {\n",
       "        vertical-align: top;\n",
       "    }\n",
       "\n",
       "    .dataframe thead th {\n",
       "        text-align: right;\n",
       "    }\n",
       "</style>\n",
       "<table border=\"1\" class=\"dataframe\">\n",
       "  <thead>\n",
       "    <tr style=\"text-align: right;\">\n",
       "      <th></th>\n",
       "      <th>client_id</th>\n",
       "      <th>visitor_id</th>\n",
       "      <th>visit_id</th>\n",
       "      <th>process_step</th>\n",
       "      <th>date_time</th>\n",
       "    </tr>\n",
       "  </thead>\n",
       "  <tbody>\n",
       "    <tr>\n",
       "      <th>285512</th>\n",
       "      <td>169</td>\n",
       "      <td>201385055_71273495308</td>\n",
       "      <td>749567106_99161211863_557568</td>\n",
       "      <td>step_3</td>\n",
       "      <td>2017-04-12 20:22:05</td>\n",
       "    </tr>\n",
       "    <tr>\n",
       "      <th>285511</th>\n",
       "      <td>169</td>\n",
       "      <td>201385055_71273495308</td>\n",
       "      <td>749567106_99161211863_557568</td>\n",
       "      <td>confirm</td>\n",
       "      <td>2017-04-12 20:23:09</td>\n",
       "    </tr>\n",
       "    <tr>\n",
       "      <th>285513</th>\n",
       "      <td>169</td>\n",
       "      <td>201385055_71273495308</td>\n",
       "      <td>749567106_99161211863_557568</td>\n",
       "      <td>step_2</td>\n",
       "      <td>2017-04-12 20:20:31</td>\n",
       "    </tr>\n",
       "    <tr>\n",
       "      <th>285514</th>\n",
       "      <td>169</td>\n",
       "      <td>201385055_71273495308</td>\n",
       "      <td>749567106_99161211863_557568</td>\n",
       "      <td>step_1</td>\n",
       "      <td>2017-04-12 20:19:45</td>\n",
       "    </tr>\n",
       "    <tr>\n",
       "      <th>285515</th>\n",
       "      <td>169</td>\n",
       "      <td>201385055_71273495308</td>\n",
       "      <td>749567106_99161211863_557568</td>\n",
       "      <td>start</td>\n",
       "      <td>2017-04-12 20:19:36</td>\n",
       "    </tr>\n",
       "    <tr>\n",
       "      <th>628456</th>\n",
       "      <td>336</td>\n",
       "      <td>64757908_3400128256</td>\n",
       "      <td>649044751_80905125055_554468</td>\n",
       "      <td>start</td>\n",
       "      <td>2017-06-01 07:26:55</td>\n",
       "    </tr>\n",
       "    <tr>\n",
       "      <th>628331</th>\n",
       "      <td>336</td>\n",
       "      <td>64757908_3400128256</td>\n",
       "      <td>649044751_80905125055_554468</td>\n",
       "      <td>start</td>\n",
       "      <td>2017-06-01 07:42:43</td>\n",
       "    </tr>\n",
       "    <tr>\n",
       "      <th>442857</th>\n",
       "      <td>546</td>\n",
       "      <td>475037402_89828530214</td>\n",
       "      <td>731811517_9330176838_94847</td>\n",
       "      <td>start</td>\n",
       "      <td>2017-06-17 10:03:29</td>\n",
       "    </tr>\n",
       "    <tr>\n",
       "      <th>442856</th>\n",
       "      <td>546</td>\n",
       "      <td>475037402_89828530214</td>\n",
       "      <td>731811517_9330176838_94847</td>\n",
       "      <td>step_1</td>\n",
       "      <td>2017-06-17 10:03:39</td>\n",
       "    </tr>\n",
       "    <tr>\n",
       "      <th>442855</th>\n",
       "      <td>546</td>\n",
       "      <td>475037402_89828530214</td>\n",
       "      <td>731811517_9330176838_94847</td>\n",
       "      <td>step_2</td>\n",
       "      <td>2017-06-17 10:03:52</td>\n",
       "    </tr>\n",
       "    <tr>\n",
       "      <th>442854</th>\n",
       "      <td>546</td>\n",
       "      <td>475037402_89828530214</td>\n",
       "      <td>731811517_9330176838_94847</td>\n",
       "      <td>step_3</td>\n",
       "      <td>2017-06-17 10:05:19</td>\n",
       "    </tr>\n",
       "    <tr>\n",
       "      <th>442853</th>\n",
       "      <td>546</td>\n",
       "      <td>475037402_89828530214</td>\n",
       "      <td>731811517_9330176838_94847</td>\n",
       "      <td>confirm</td>\n",
       "      <td>2017-06-17 10:05:42</td>\n",
       "    </tr>\n",
       "    <tr>\n",
       "      <th>72018</th>\n",
       "      <td>555</td>\n",
       "      <td>402506806_56087378777</td>\n",
       "      <td>637149525_38041617439_716659</td>\n",
       "      <td>start</td>\n",
       "      <td>2017-04-15 12:57:56</td>\n",
       "    </tr>\n",
       "    <tr>\n",
       "      <th>72016</th>\n",
       "      <td>555</td>\n",
       "      <td>402506806_56087378777</td>\n",
       "      <td>637149525_38041617439_716659</td>\n",
       "      <td>step_2</td>\n",
       "      <td>2017-04-15 12:58:35</td>\n",
       "    </tr>\n",
       "    <tr>\n",
       "      <th>72014</th>\n",
       "      <td>555</td>\n",
       "      <td>402506806_56087378777</td>\n",
       "      <td>637149525_38041617439_716659</td>\n",
       "      <td>confirm</td>\n",
       "      <td>2017-04-15 13:00:34</td>\n",
       "    </tr>\n",
       "    <tr>\n",
       "      <th>72015</th>\n",
       "      <td>555</td>\n",
       "      <td>402506806_56087378777</td>\n",
       "      <td>637149525_38041617439_716659</td>\n",
       "      <td>step_3</td>\n",
       "      <td>2017-04-15 13:00:14</td>\n",
       "    </tr>\n",
       "    <tr>\n",
       "      <th>72017</th>\n",
       "      <td>555</td>\n",
       "      <td>402506806_56087378777</td>\n",
       "      <td>637149525_38041617439_716659</td>\n",
       "      <td>step_1</td>\n",
       "      <td>2017-04-15 12:58:03</td>\n",
       "    </tr>\n",
       "    <tr>\n",
       "      <th>138180</th>\n",
       "      <td>647</td>\n",
       "      <td>66758770_53988066587</td>\n",
       "      <td>40369564_40101682850_311847</td>\n",
       "      <td>step_2</td>\n",
       "      <td>2017-04-12 15:41:53</td>\n",
       "    </tr>\n",
       "    <tr>\n",
       "      <th>138181</th>\n",
       "      <td>647</td>\n",
       "      <td>66758770_53988066587</td>\n",
       "      <td>40369564_40101682850_311847</td>\n",
       "      <td>step_1</td>\n",
       "      <td>2017-04-12 15:41:35</td>\n",
       "    </tr>\n",
       "    <tr>\n",
       "      <th>138176</th>\n",
       "      <td>647</td>\n",
       "      <td>66758770_53988066587</td>\n",
       "      <td>40369564_40101682850_311847</td>\n",
       "      <td>confirm</td>\n",
       "      <td>2017-04-12 15:47:45</td>\n",
       "    </tr>\n",
       "    <tr>\n",
       "      <th>138182</th>\n",
       "      <td>647</td>\n",
       "      <td>66758770_53988066587</td>\n",
       "      <td>40369564_40101682850_311847</td>\n",
       "      <td>start</td>\n",
       "      <td>2017-04-12 15:41:28</td>\n",
       "    </tr>\n",
       "    <tr>\n",
       "      <th>138179</th>\n",
       "      <td>647</td>\n",
       "      <td>66758770_53988066587</td>\n",
       "      <td>40369564_40101682850_311847</td>\n",
       "      <td>step_3</td>\n",
       "      <td>2017-04-12 15:45:02</td>\n",
       "    </tr>\n",
       "    <tr>\n",
       "      <th>245498</th>\n",
       "      <td>722</td>\n",
       "      <td>919259913_64837298108</td>\n",
       "      <td>984487154_55831795985_521110</td>\n",
       "      <td>step_2</td>\n",
       "      <td>2017-04-19 14:50:56</td>\n",
       "    </tr>\n",
       "    <tr>\n",
       "      <th>245493</th>\n",
       "      <td>722</td>\n",
       "      <td>919259913_64837298108</td>\n",
       "      <td>984487154_55831795985_521110</td>\n",
       "      <td>step_3</td>\n",
       "      <td>2017-04-19 14:57:27</td>\n",
       "    </tr>\n",
       "    <tr>\n",
       "      <th>245494</th>\n",
       "      <td>722</td>\n",
       "      <td>919259913_64837298108</td>\n",
       "      <td>984487154_55831795985_521110</td>\n",
       "      <td>step_2</td>\n",
       "      <td>2017-04-19 14:56:37</td>\n",
       "    </tr>\n",
       "    <tr>\n",
       "      <th>245500</th>\n",
       "      <td>722</td>\n",
       "      <td>919259913_64837298108</td>\n",
       "      <td>984487154_55831795985_521110</td>\n",
       "      <td>start</td>\n",
       "      <td>2017-04-19 14:50:10</td>\n",
       "    </tr>\n",
       "    <tr>\n",
       "      <th>245495</th>\n",
       "      <td>722</td>\n",
       "      <td>919259913_64837298108</td>\n",
       "      <td>984487154_55831795985_521110</td>\n",
       "      <td>step_1</td>\n",
       "      <td>2017-04-19 14:56:18</td>\n",
       "    </tr>\n",
       "    <tr>\n",
       "      <th>245492</th>\n",
       "      <td>722</td>\n",
       "      <td>919259913_64837298108</td>\n",
       "      <td>984487154_55831795985_521110</td>\n",
       "      <td>confirm</td>\n",
       "      <td>2017-04-19 15:00:09</td>\n",
       "    </tr>\n",
       "    <tr>\n",
       "      <th>245496</th>\n",
       "      <td>722</td>\n",
       "      <td>919259913_64837298108</td>\n",
       "      <td>984487154_55831795985_521110</td>\n",
       "      <td>start</td>\n",
       "      <td>2017-04-19 14:56:16</td>\n",
       "    </tr>\n",
       "    <tr>\n",
       "      <th>245499</th>\n",
       "      <td>722</td>\n",
       "      <td>919259913_64837298108</td>\n",
       "      <td>984487154_55831795985_521110</td>\n",
       "      <td>step_1</td>\n",
       "      <td>2017-04-19 14:50:20</td>\n",
       "    </tr>\n",
       "    <tr>\n",
       "      <th>245497</th>\n",
       "      <td>722</td>\n",
       "      <td>919259913_64837298108</td>\n",
       "      <td>984487154_55831795985_521110</td>\n",
       "      <td>step_1</td>\n",
       "      <td>2017-04-19 14:51:12</td>\n",
       "    </tr>\n",
       "    <tr>\n",
       "      <th>444039</th>\n",
       "      <td>786</td>\n",
       "      <td>439747392_30293505155</td>\n",
       "      <td>640294664_79662229470_499394</td>\n",
       "      <td>confirm</td>\n",
       "      <td>2017-06-01 11:05:34</td>\n",
       "    </tr>\n",
       "    <tr>\n",
       "      <th>444040</th>\n",
       "      <td>786</td>\n",
       "      <td>439747392_30293505155</td>\n",
       "      <td>640294664_79662229470_499394</td>\n",
       "      <td>step_3</td>\n",
       "      <td>2017-06-01 11:04:08</td>\n",
       "    </tr>\n",
       "    <tr>\n",
       "      <th>444041</th>\n",
       "      <td>786</td>\n",
       "      <td>439747392_30293505155</td>\n",
       "      <td>640294664_79662229470_499394</td>\n",
       "      <td>step_2</td>\n",
       "      <td>2017-06-01 11:03:28</td>\n",
       "    </tr>\n",
       "    <tr>\n",
       "      <th>444042</th>\n",
       "      <td>786</td>\n",
       "      <td>439747392_30293505155</td>\n",
       "      <td>640294664_79662229470_499394</td>\n",
       "      <td>step_1</td>\n",
       "      <td>2017-06-01 11:01:26</td>\n",
       "    </tr>\n",
       "    <tr>\n",
       "      <th>444044</th>\n",
       "      <td>786</td>\n",
       "      <td>439747392_30293505155</td>\n",
       "      <td>640294664_79662229470_499394</td>\n",
       "      <td>start</td>\n",
       "      <td>2017-06-01 11:00:22</td>\n",
       "    </tr>\n",
       "    <tr>\n",
       "      <th>444043</th>\n",
       "      <td>786</td>\n",
       "      <td>439747392_30293505155</td>\n",
       "      <td>640294664_79662229470_499394</td>\n",
       "      <td>start</td>\n",
       "      <td>2017-06-01 11:01:20</td>\n",
       "    </tr>\n",
       "    <tr>\n",
       "      <th>594429</th>\n",
       "      <td>805</td>\n",
       "      <td>831412807_82548325803</td>\n",
       "      <td>451173196_11661340552_563345</td>\n",
       "      <td>step_2</td>\n",
       "      <td>2017-06-15 19:09:26</td>\n",
       "    </tr>\n",
       "    <tr>\n",
       "      <th>594428</th>\n",
       "      <td>805</td>\n",
       "      <td>831412807_82548325803</td>\n",
       "      <td>451173196_11661340552_563345</td>\n",
       "      <td>step_2</td>\n",
       "      <td>2017-06-15 19:11:21</td>\n",
       "    </tr>\n",
       "    <tr>\n",
       "      <th>594427</th>\n",
       "      <td>805</td>\n",
       "      <td>831412807_82548325803</td>\n",
       "      <td>451173196_11661340552_563345</td>\n",
       "      <td>start</td>\n",
       "      <td>2017-06-15 19:11:28</td>\n",
       "    </tr>\n",
       "    <tr>\n",
       "      <th>594421</th>\n",
       "      <td>805</td>\n",
       "      <td>831412807_82548325803</td>\n",
       "      <td>905546080_75813398358_250101</td>\n",
       "      <td>start</td>\n",
       "      <td>2017-06-08 01:10:29</td>\n",
       "    </tr>\n",
       "    <tr>\n",
       "      <th>594420</th>\n",
       "      <td>805</td>\n",
       "      <td>831412807_82548325803</td>\n",
       "      <td>905546080_75813398358_250101</td>\n",
       "      <td>step_1</td>\n",
       "      <td>2017-06-08 01:11:49</td>\n",
       "    </tr>\n",
       "    <tr>\n",
       "      <th>594490</th>\n",
       "      <td>805</td>\n",
       "      <td>831412807_82548325803</td>\n",
       "      <td>72221519_52513154978_430287</td>\n",
       "      <td>step_1</td>\n",
       "      <td>2017-06-17 19:23:20</td>\n",
       "    </tr>\n",
       "    <tr>\n",
       "      <th>594491</th>\n",
       "      <td>805</td>\n",
       "      <td>831412807_82548325803</td>\n",
       "      <td>72221519_52513154978_430287</td>\n",
       "      <td>start</td>\n",
       "      <td>2017-06-17 19:23:17</td>\n",
       "    </tr>\n",
       "    <tr>\n",
       "      <th>594430</th>\n",
       "      <td>805</td>\n",
       "      <td>831412807_82548325803</td>\n",
       "      <td>451173196_11661340552_563345</td>\n",
       "      <td>step_1</td>\n",
       "      <td>2017-06-15 19:09:19</td>\n",
       "    </tr>\n",
       "    <tr>\n",
       "      <th>594431</th>\n",
       "      <td>805</td>\n",
       "      <td>831412807_82548325803</td>\n",
       "      <td>451173196_11661340552_563345</td>\n",
       "      <td>start</td>\n",
       "      <td>2017-06-15 19:09:13</td>\n",
       "    </tr>\n",
       "    <tr>\n",
       "      <th>505104</th>\n",
       "      <td>832</td>\n",
       "      <td>645971208_10952400740</td>\n",
       "      <td>704999523_65579948030_431837</td>\n",
       "      <td>step_2</td>\n",
       "      <td>2017-06-16 10:39:49</td>\n",
       "    </tr>\n",
       "    <tr>\n",
       "      <th>505105</th>\n",
       "      <td>832</td>\n",
       "      <td>645971208_10952400740</td>\n",
       "      <td>704999523_65579948030_431837</td>\n",
       "      <td>step_1</td>\n",
       "      <td>2017-06-16 10:39:30</td>\n",
       "    </tr>\n",
       "    <tr>\n",
       "      <th>505103</th>\n",
       "      <td>832</td>\n",
       "      <td>645971208_10952400740</td>\n",
       "      <td>704999523_65579948030_431837</td>\n",
       "      <td>step_3</td>\n",
       "      <td>2017-06-16 10:40:18</td>\n",
       "    </tr>\n",
       "    <tr>\n",
       "      <th>505106</th>\n",
       "      <td>832</td>\n",
       "      <td>645971208_10952400740</td>\n",
       "      <td>704999523_65579948030_431837</td>\n",
       "      <td>step_2</td>\n",
       "      <td>2017-06-16 10:39:19</td>\n",
       "    </tr>\n",
       "    <tr>\n",
       "      <th>505107</th>\n",
       "      <td>832</td>\n",
       "      <td>645971208_10952400740</td>\n",
       "      <td>704999523_65579948030_431837</td>\n",
       "      <td>step_1</td>\n",
       "      <td>2017-06-16 10:38:47</td>\n",
       "    </tr>\n",
       "    <tr>\n",
       "      <th>505102</th>\n",
       "      <td>832</td>\n",
       "      <td>645971208_10952400740</td>\n",
       "      <td>704999523_65579948030_431837</td>\n",
       "      <td>confirm</td>\n",
       "      <td>2017-06-16 10:40:52</td>\n",
       "    </tr>\n",
       "    <tr>\n",
       "      <th>505108</th>\n",
       "      <td>832</td>\n",
       "      <td>645971208_10952400740</td>\n",
       "      <td>704999523_65579948030_431837</td>\n",
       "      <td>start</td>\n",
       "      <td>2017-06-16 10:38:38</td>\n",
       "    </tr>\n",
       "    <tr>\n",
       "      <th>62621</th>\n",
       "      <td>934</td>\n",
       "      <td>810392784_45004760546</td>\n",
       "      <td>7076463_57954418406_971348</td>\n",
       "      <td>start</td>\n",
       "      <td>2017-04-18 02:38:24</td>\n",
       "    </tr>\n",
       "    <tr>\n",
       "      <th>62623</th>\n",
       "      <td>934</td>\n",
       "      <td>810392784_45004760546</td>\n",
       "      <td>7076463_57954418406_971348</td>\n",
       "      <td>start</td>\n",
       "      <td>2017-04-18 02:36:30</td>\n",
       "    </tr>\n",
       "    <tr>\n",
       "      <th>62622</th>\n",
       "      <td>934</td>\n",
       "      <td>810392784_45004760546</td>\n",
       "      <td>7076463_57954418406_971348</td>\n",
       "      <td>start</td>\n",
       "      <td>2017-04-18 02:37:02</td>\n",
       "    </tr>\n",
       "    <tr>\n",
       "      <th>62620</th>\n",
       "      <td>934</td>\n",
       "      <td>810392784_45004760546</td>\n",
       "      <td>7076463_57954418406_971348</td>\n",
       "      <td>start</td>\n",
       "      <td>2017-04-18 02:38:52</td>\n",
       "    </tr>\n",
       "    <tr>\n",
       "      <th>132373</th>\n",
       "      <td>1028</td>\n",
       "      <td>42237450_62128060588</td>\n",
       "      <td>557292053_87239438319_391157</td>\n",
       "      <td>step_2</td>\n",
       "      <td>2017-04-08 18:53:29</td>\n",
       "    </tr>\n",
       "    <tr>\n",
       "      <th>132374</th>\n",
       "      <td>1028</td>\n",
       "      <td>42237450_62128060588</td>\n",
       "      <td>557292053_87239438319_391157</td>\n",
       "      <td>step_1</td>\n",
       "      <td>2017-04-08 18:53:20</td>\n",
       "    </tr>\n",
       "    <tr>\n",
       "      <th>132375</th>\n",
       "      <td>1028</td>\n",
       "      <td>42237450_62128060588</td>\n",
       "      <td>557292053_87239438319_391157</td>\n",
       "      <td>step_1</td>\n",
       "      <td>2017-04-08 18:52:17</td>\n",
       "    </tr>\n",
       "  </tbody>\n",
       "</table>\n",
       "</div>"
      ],
      "text/plain": [
       "        client_id             visitor_id                      visit_id  \\\n",
       "285512        169  201385055_71273495308  749567106_99161211863_557568   \n",
       "285511        169  201385055_71273495308  749567106_99161211863_557568   \n",
       "285513        169  201385055_71273495308  749567106_99161211863_557568   \n",
       "285514        169  201385055_71273495308  749567106_99161211863_557568   \n",
       "285515        169  201385055_71273495308  749567106_99161211863_557568   \n",
       "628456        336    64757908_3400128256  649044751_80905125055_554468   \n",
       "628331        336    64757908_3400128256  649044751_80905125055_554468   \n",
       "442857        546  475037402_89828530214    731811517_9330176838_94847   \n",
       "442856        546  475037402_89828530214    731811517_9330176838_94847   \n",
       "442855        546  475037402_89828530214    731811517_9330176838_94847   \n",
       "442854        546  475037402_89828530214    731811517_9330176838_94847   \n",
       "442853        546  475037402_89828530214    731811517_9330176838_94847   \n",
       "72018         555  402506806_56087378777  637149525_38041617439_716659   \n",
       "72016         555  402506806_56087378777  637149525_38041617439_716659   \n",
       "72014         555  402506806_56087378777  637149525_38041617439_716659   \n",
       "72015         555  402506806_56087378777  637149525_38041617439_716659   \n",
       "72017         555  402506806_56087378777  637149525_38041617439_716659   \n",
       "138180        647   66758770_53988066587   40369564_40101682850_311847   \n",
       "138181        647   66758770_53988066587   40369564_40101682850_311847   \n",
       "138176        647   66758770_53988066587   40369564_40101682850_311847   \n",
       "138182        647   66758770_53988066587   40369564_40101682850_311847   \n",
       "138179        647   66758770_53988066587   40369564_40101682850_311847   \n",
       "245498        722  919259913_64837298108  984487154_55831795985_521110   \n",
       "245493        722  919259913_64837298108  984487154_55831795985_521110   \n",
       "245494        722  919259913_64837298108  984487154_55831795985_521110   \n",
       "245500        722  919259913_64837298108  984487154_55831795985_521110   \n",
       "245495        722  919259913_64837298108  984487154_55831795985_521110   \n",
       "245492        722  919259913_64837298108  984487154_55831795985_521110   \n",
       "245496        722  919259913_64837298108  984487154_55831795985_521110   \n",
       "245499        722  919259913_64837298108  984487154_55831795985_521110   \n",
       "245497        722  919259913_64837298108  984487154_55831795985_521110   \n",
       "444039        786  439747392_30293505155  640294664_79662229470_499394   \n",
       "444040        786  439747392_30293505155  640294664_79662229470_499394   \n",
       "444041        786  439747392_30293505155  640294664_79662229470_499394   \n",
       "444042        786  439747392_30293505155  640294664_79662229470_499394   \n",
       "444044        786  439747392_30293505155  640294664_79662229470_499394   \n",
       "444043        786  439747392_30293505155  640294664_79662229470_499394   \n",
       "594429        805  831412807_82548325803  451173196_11661340552_563345   \n",
       "594428        805  831412807_82548325803  451173196_11661340552_563345   \n",
       "594427        805  831412807_82548325803  451173196_11661340552_563345   \n",
       "594421        805  831412807_82548325803  905546080_75813398358_250101   \n",
       "594420        805  831412807_82548325803  905546080_75813398358_250101   \n",
       "594490        805  831412807_82548325803   72221519_52513154978_430287   \n",
       "594491        805  831412807_82548325803   72221519_52513154978_430287   \n",
       "594430        805  831412807_82548325803  451173196_11661340552_563345   \n",
       "594431        805  831412807_82548325803  451173196_11661340552_563345   \n",
       "505104        832  645971208_10952400740  704999523_65579948030_431837   \n",
       "505105        832  645971208_10952400740  704999523_65579948030_431837   \n",
       "505103        832  645971208_10952400740  704999523_65579948030_431837   \n",
       "505106        832  645971208_10952400740  704999523_65579948030_431837   \n",
       "505107        832  645971208_10952400740  704999523_65579948030_431837   \n",
       "505102        832  645971208_10952400740  704999523_65579948030_431837   \n",
       "505108        832  645971208_10952400740  704999523_65579948030_431837   \n",
       "62621         934  810392784_45004760546    7076463_57954418406_971348   \n",
       "62623         934  810392784_45004760546    7076463_57954418406_971348   \n",
       "62622         934  810392784_45004760546    7076463_57954418406_971348   \n",
       "62620         934  810392784_45004760546    7076463_57954418406_971348   \n",
       "132373       1028   42237450_62128060588  557292053_87239438319_391157   \n",
       "132374       1028   42237450_62128060588  557292053_87239438319_391157   \n",
       "132375       1028   42237450_62128060588  557292053_87239438319_391157   \n",
       "\n",
       "       process_step            date_time  \n",
       "285512       step_3  2017-04-12 20:22:05  \n",
       "285511      confirm  2017-04-12 20:23:09  \n",
       "285513       step_2  2017-04-12 20:20:31  \n",
       "285514       step_1  2017-04-12 20:19:45  \n",
       "285515        start  2017-04-12 20:19:36  \n",
       "628456        start  2017-06-01 07:26:55  \n",
       "628331        start  2017-06-01 07:42:43  \n",
       "442857        start  2017-06-17 10:03:29  \n",
       "442856       step_1  2017-06-17 10:03:39  \n",
       "442855       step_2  2017-06-17 10:03:52  \n",
       "442854       step_3  2017-06-17 10:05:19  \n",
       "442853      confirm  2017-06-17 10:05:42  \n",
       "72018         start  2017-04-15 12:57:56  \n",
       "72016        step_2  2017-04-15 12:58:35  \n",
       "72014       confirm  2017-04-15 13:00:34  \n",
       "72015        step_3  2017-04-15 13:00:14  \n",
       "72017        step_1  2017-04-15 12:58:03  \n",
       "138180       step_2  2017-04-12 15:41:53  \n",
       "138181       step_1  2017-04-12 15:41:35  \n",
       "138176      confirm  2017-04-12 15:47:45  \n",
       "138182        start  2017-04-12 15:41:28  \n",
       "138179       step_3  2017-04-12 15:45:02  \n",
       "245498       step_2  2017-04-19 14:50:56  \n",
       "245493       step_3  2017-04-19 14:57:27  \n",
       "245494       step_2  2017-04-19 14:56:37  \n",
       "245500        start  2017-04-19 14:50:10  \n",
       "245495       step_1  2017-04-19 14:56:18  \n",
       "245492      confirm  2017-04-19 15:00:09  \n",
       "245496        start  2017-04-19 14:56:16  \n",
       "245499       step_1  2017-04-19 14:50:20  \n",
       "245497       step_1  2017-04-19 14:51:12  \n",
       "444039      confirm  2017-06-01 11:05:34  \n",
       "444040       step_3  2017-06-01 11:04:08  \n",
       "444041       step_2  2017-06-01 11:03:28  \n",
       "444042       step_1  2017-06-01 11:01:26  \n",
       "444044        start  2017-06-01 11:00:22  \n",
       "444043        start  2017-06-01 11:01:20  \n",
       "594429       step_2  2017-06-15 19:09:26  \n",
       "594428       step_2  2017-06-15 19:11:21  \n",
       "594427        start  2017-06-15 19:11:28  \n",
       "594421        start  2017-06-08 01:10:29  \n",
       "594420       step_1  2017-06-08 01:11:49  \n",
       "594490       step_1  2017-06-17 19:23:20  \n",
       "594491        start  2017-06-17 19:23:17  \n",
       "594430       step_1  2017-06-15 19:09:19  \n",
       "594431        start  2017-06-15 19:09:13  \n",
       "505104       step_2  2017-06-16 10:39:49  \n",
       "505105       step_1  2017-06-16 10:39:30  \n",
       "505103       step_3  2017-06-16 10:40:18  \n",
       "505106       step_2  2017-06-16 10:39:19  \n",
       "505107       step_1  2017-06-16 10:38:47  \n",
       "505102      confirm  2017-06-16 10:40:52  \n",
       "505108        start  2017-06-16 10:38:38  \n",
       "62621         start  2017-04-18 02:38:24  \n",
       "62623         start  2017-04-18 02:36:30  \n",
       "62622         start  2017-04-18 02:37:02  \n",
       "62620         start  2017-04-18 02:38:52  \n",
       "132373       step_2  2017-04-08 18:53:29  \n",
       "132374       step_1  2017-04-08 18:53:20  \n",
       "132375       step_1  2017-04-08 18:52:17  "
      ]
     },
     "execution_count": 210,
     "metadata": {},
     "output_type": "execute_result"
    }
   ],
   "source": [
    "df_web.sort_values(by=\"client_id\").head(60)"
   ]
  },
  {
   "cell_type": "code",
   "execution_count": 211,
   "id": "b54e99cc-c838-46c3-b8a3-8d5d35bcc271",
   "metadata": {},
   "outputs": [
    {
     "data": {
      "text/html": [
       "<a href='df_final_web_data_merged.csv' target='_blank'>df_final_web_data_merged.csv</a><br>"
      ],
      "text/plain": [
       "C:\\Users\\proprietaire\\df_final_web_data_merged.csv"
      ]
     },
     "execution_count": 211,
     "metadata": {},
     "output_type": "execute_result"
    }
   ],
   "source": [
    "df_web.to_csv(\"df_final_web_data_merged.csv\", index=False)\n",
    "\n",
    "from IPython.display import FileLink\n",
    "\n",
    "FileLink(\"df_final_web_data_merged.csv\")"
   ]
  },
  {
   "cell_type": "markdown",
   "id": "c34605df-f4d3-4363-a228-e8590adf59ed",
   "metadata": {},
   "source": [
    "<span style=\"font-size:32px\"># Step 3 - Exploring the dataset</span>"
   ]
  },
  {
   "cell_type": "code",
   "execution_count": 212,
   "id": "899dfb96-1f45-43e1-9da2-b6e843c13482",
   "metadata": {},
   "outputs": [
    {
     "data": {
      "text/plain": [
       "(755405, 5)"
      ]
     },
     "execution_count": 212,
     "metadata": {},
     "output_type": "execute_result"
    }
   ],
   "source": [
    "# Displays the total number of rows and columns in the DataFrame\n",
    "\n",
    "df_web.shape"
   ]
  },
  {
   "cell_type": "code",
   "execution_count": 213,
   "id": "e3f78719-2b62-4db9-b821-45606654dad8",
   "metadata": {},
   "outputs": [
    {
     "name": "stdout",
     "output_type": "stream",
     "text": [
      "<class 'pandas.core.frame.DataFrame'>\n",
      "RangeIndex: 755405 entries, 0 to 755404\n",
      "Data columns (total 5 columns):\n",
      " #   Column        Non-Null Count   Dtype \n",
      "---  ------        --------------   ----- \n",
      " 0   client_id     755405 non-null  int64 \n",
      " 1   visitor_id    755405 non-null  object\n",
      " 2   visit_id      755405 non-null  object\n",
      " 3   process_step  755405 non-null  object\n",
      " 4   date_time     755405 non-null  object\n",
      "dtypes: int64(1), object(4)\n",
      "memory usage: 28.8+ MB\n"
     ]
    }
   ],
   "source": [
    "# Gives general information about the DataFrame: column names, data types and number of non-zero values\n",
    "\n",
    "df_web.info()"
   ]
  },
  {
   "cell_type": "code",
   "execution_count": 214,
   "id": "b7c869d2-46ef-47ac-9972-6f58e10cf7e9",
   "metadata": {},
   "outputs": [
    {
     "data": {
      "text/html": [
       "<div>\n",
       "<style scoped>\n",
       "    .dataframe tbody tr th:only-of-type {\n",
       "        vertical-align: middle;\n",
       "    }\n",
       "\n",
       "    .dataframe tbody tr th {\n",
       "        vertical-align: top;\n",
       "    }\n",
       "\n",
       "    .dataframe thead th {\n",
       "        text-align: right;\n",
       "    }\n",
       "</style>\n",
       "<table border=\"1\" class=\"dataframe\">\n",
       "  <thead>\n",
       "    <tr style=\"text-align: right;\">\n",
       "      <th></th>\n",
       "      <th>client_id</th>\n",
       "      <th>visitor_id</th>\n",
       "      <th>visit_id</th>\n",
       "      <th>process_step</th>\n",
       "      <th>date_time</th>\n",
       "    </tr>\n",
       "  </thead>\n",
       "  <tbody>\n",
       "    <tr>\n",
       "      <th>count</th>\n",
       "      <td>7.554050e+05</td>\n",
       "      <td>755405</td>\n",
       "      <td>755405</td>\n",
       "      <td>755405</td>\n",
       "      <td>755405</td>\n",
       "    </tr>\n",
       "    <tr>\n",
       "      <th>unique</th>\n",
       "      <td>NaN</td>\n",
       "      <td>130236</td>\n",
       "      <td>158095</td>\n",
       "      <td>5</td>\n",
       "      <td>629363</td>\n",
       "    </tr>\n",
       "    <tr>\n",
       "      <th>top</th>\n",
       "      <td>NaN</td>\n",
       "      <td>722943003_3441581446</td>\n",
       "      <td>875138661_34710212496_881092</td>\n",
       "      <td>start</td>\n",
       "      <td>2017-05-02 10:07:41</td>\n",
       "    </tr>\n",
       "    <tr>\n",
       "      <th>freq</th>\n",
       "      <td>NaN</td>\n",
       "      <td>104</td>\n",
       "      <td>104</td>\n",
       "      <td>243945</td>\n",
       "      <td>24</td>\n",
       "    </tr>\n",
       "    <tr>\n",
       "      <th>mean</th>\n",
       "      <td>5.013632e+06</td>\n",
       "      <td>NaN</td>\n",
       "      <td>NaN</td>\n",
       "      <td>NaN</td>\n",
       "      <td>NaN</td>\n",
       "    </tr>\n",
       "    <tr>\n",
       "      <th>std</th>\n",
       "      <td>2.879152e+06</td>\n",
       "      <td>NaN</td>\n",
       "      <td>NaN</td>\n",
       "      <td>NaN</td>\n",
       "      <td>NaN</td>\n",
       "    </tr>\n",
       "    <tr>\n",
       "      <th>min</th>\n",
       "      <td>1.690000e+02</td>\n",
       "      <td>NaN</td>\n",
       "      <td>NaN</td>\n",
       "      <td>NaN</td>\n",
       "      <td>NaN</td>\n",
       "    </tr>\n",
       "    <tr>\n",
       "      <th>25%</th>\n",
       "      <td>2.519882e+06</td>\n",
       "      <td>NaN</td>\n",
       "      <td>NaN</td>\n",
       "      <td>NaN</td>\n",
       "      <td>NaN</td>\n",
       "    </tr>\n",
       "    <tr>\n",
       "      <th>50%</th>\n",
       "      <td>5.033441e+06</td>\n",
       "      <td>NaN</td>\n",
       "      <td>NaN</td>\n",
       "      <td>NaN</td>\n",
       "      <td>NaN</td>\n",
       "    </tr>\n",
       "    <tr>\n",
       "      <th>75%</th>\n",
       "      <td>7.496063e+06</td>\n",
       "      <td>NaN</td>\n",
       "      <td>NaN</td>\n",
       "      <td>NaN</td>\n",
       "      <td>NaN</td>\n",
       "    </tr>\n",
       "    <tr>\n",
       "      <th>max</th>\n",
       "      <td>9.999875e+06</td>\n",
       "      <td>NaN</td>\n",
       "      <td>NaN</td>\n",
       "      <td>NaN</td>\n",
       "      <td>NaN</td>\n",
       "    </tr>\n",
       "  </tbody>\n",
       "</table>\n",
       "</div>"
      ],
      "text/plain": [
       "           client_id            visitor_id                      visit_id  \\\n",
       "count   7.554050e+05                755405                        755405   \n",
       "unique           NaN                130236                        158095   \n",
       "top              NaN  722943003_3441581446  875138661_34710212496_881092   \n",
       "freq             NaN                   104                           104   \n",
       "mean    5.013632e+06                   NaN                           NaN   \n",
       "std     2.879152e+06                   NaN                           NaN   \n",
       "min     1.690000e+02                   NaN                           NaN   \n",
       "25%     2.519882e+06                   NaN                           NaN   \n",
       "50%     5.033441e+06                   NaN                           NaN   \n",
       "75%     7.496063e+06                   NaN                           NaN   \n",
       "max     9.999875e+06                   NaN                           NaN   \n",
       "\n",
       "       process_step            date_time  \n",
       "count        755405               755405  \n",
       "unique            5               629363  \n",
       "top           start  2017-05-02 10:07:41  \n",
       "freq         243945                   24  \n",
       "mean            NaN                  NaN  \n",
       "std             NaN                  NaN  \n",
       "min             NaN                  NaN  \n",
       "25%             NaN                  NaN  \n",
       "50%             NaN                  NaN  \n",
       "75%             NaN                  NaN  \n",
       "max             NaN                  NaN  "
      ]
     },
     "execution_count": 214,
     "metadata": {},
     "output_type": "execute_result"
    }
   ],
   "source": [
    "# Provides descriptive statistics on all columns, whether numerical or categorical\n",
    "\n",
    "df_web.describe(include=\"all\")"
   ]
  },
  {
   "cell_type": "code",
   "execution_count": 215,
   "id": "84ea3bbe-ecd5-43ed-bc12-dcb69fe1d1de",
   "metadata": {},
   "outputs": [
    {
     "data": {
      "text/plain": [
       "Index(['client_id', 'visitor_id', 'visit_id', 'process_step', 'date_time'], dtype='object')"
      ]
     },
     "execution_count": 215,
     "metadata": {},
     "output_type": "execute_result"
    }
   ],
   "source": [
    "# Lists all the column names in the DataFrame\n",
    "\n",
    "df_web.columns"
   ]
  },
  {
   "cell_type": "markdown",
   "id": "81dabc47-4aa8-4368-8bc1-f6c84d12e7b6",
   "metadata": {},
   "source": [
    "<span style=\"font-size:32px\"># Step 4 - Simple, visual cleaning</span>"
   ]
  },
  {
   "cell_type": "code",
   "execution_count": 216,
   "id": "9aa59f60-484e-4a79-babd-fdd2ec23cf2d",
   "metadata": {},
   "outputs": [
    {
     "data": {
      "text/plain": [
       "client_id       0\n",
       "visitor_id      0\n",
       "visit_id        0\n",
       "process_step    0\n",
       "date_time       0\n",
       "dtype: int64"
      ]
     },
     "execution_count": 216,
     "metadata": {},
     "output_type": "execute_result"
    }
   ],
   "source": [
    "# Displays the number of missing values for each column in the DataFrame\n",
    "\n",
    "df_web.isnull().sum()"
   ]
  },
  {
   "cell_type": "code",
   "execution_count": 217,
   "id": "92e2b2c2-bc8d-4bf6-a72f-a2e07b65ed1d",
   "metadata": {},
   "outputs": [],
   "source": [
    "# Deletes duplicate lines if the same record appears more than once\n",
    "df_web = df_web.drop_duplicates()"
   ]
  },
  {
   "cell_type": "code",
   "execution_count": 218,
   "id": "f6872252-2448-498e-8d9f-3c273e2fa4fb",
   "metadata": {},
   "outputs": [],
   "source": [
    "# Converts the 'date_time' column into datetime format to allow calculations of duration or chronological sorting\n",
    "\n",
    "df_web[\"date_time\"] = pd.to_datetime(df_web[\"date_time\"])"
   ]
  },
  {
   "cell_type": "markdown",
   "id": "3abb5f4f-dbc2-48d4-9e28-b101a9909302",
   "metadata": {},
   "source": [
    " `# Stage 5 - Visualisation of the user journey and number of customers`"
   ]
  },
  {
   "cell_type": "markdown",
   "id": "84cd650a-a70c-4bc2-842f-cb470487ef8d",
   "metadata": {},
   "source": [
    "<span style=\"font-size:32px\"># Step 5 - Visualisation of the user journey and number of customers</span>"
   ]
  },
  {
   "cell_type": "code",
   "execution_count": 219,
   "id": "1e793876-afb2-4f07-85a7-bb91cc08224d",
   "metadata": {},
   "outputs": [
    {
     "name": "stderr",
     "output_type": "stream",
     "text": [
      "C:\\Users\\proprietaire\\AppData\\Local\\Temp\\ipykernel_16180\\2106872874.py:9: FutureWarning: \n",
      "\n",
      "Passing `palette` without assigning `hue` is deprecated and will be removed in v0.14.0. Assign the `x` variable to `hue` and set `legend=False` for the same effect.\n",
      "\n",
      "  ax = sns.countplot(\n"
     ]
    },
    {
     "data": {
      "image/png": "[encoded data removed]",
      "text/plain": [
       "<Figure size 800x500 with 1 Axes>"
      ]
     },
     "metadata": {},
     "output_type": "display_data"
    }
   ],
   "source": [
    "import matplotlib.pyplot as plt\n",
    "import seaborn as sns\n",
    "\n",
    "# Reset global font styles (if you used bold before)\n",
    "plt.rcdefaults()\n",
    "\n",
    "# Create the chart\n",
    "plt.figure(figsize=(8,5))\n",
    "ax = sns.countplot(\n",
    "    data=df_web,\n",
    "    x=\"process_step\",\n",
    "    order=df_web[\"process_step\"].value_counts().index,\n",
    "    palette=\"Set2\"\n",
    ")\n",
    "\n",
    "# Add values above the bars (in normal style)\n",
    "for container in ax.containers:\n",
    "    ax.bar_label(container, fmt='%d', label_type='edge', fontsize=11)\n",
    "\n",
    "# Title in bold only\n",
    "plt.title(\"Number of Interactions per Stage of the Process\", fontsize=14, fontweight='bold')\n",
    "\n",
    "# Axis labels in normal style\n",
    "plt.xlabel(\"Process_step\", fontsize=12, fontweight='normal')\n",
    "plt.ylabel(\"Count\", fontsize=12, fontweight='normal')\n",
    "plt.xticks(rotation=45)\n",
    "\n",
    "plt.tight_layout()\n",
    "plt.show()\n"
   ]
  },
  {
   "cell_type": "code",
   "execution_count": 220,
   "id": "6d69766c-a588-47e8-847a-0a9a45eddf94",
   "metadata": {},
   "outputs": [
    {
     "data": {
      "text/plain": [
       "120157"
      ]
     },
     "execution_count": 220,
     "metadata": {},
     "output_type": "execute_result"
    }
   ],
   "source": [
    "# Displays the total number of unique customers in the web dataset\n",
    "df_web[\"client_id\"].nunique()"
   ]
  },
  {
   "cell_type": "code",
   "execution_count": 221,
   "id": "495e4742-06f0-4e30-bc0f-8944fd4d930e",
   "metadata": {},
   "outputs": [
    {
     "data": {
      "image/png": "[encoded data removed]",
      "text/plain": [
       "<Figure size 1000x400 with 1 Axes>"
      ]
     },
     "metadata": {},
     "output_type": "display_data"
    }
   ],
   "source": [
    "# Add a “date” column only\n",
    "df_web[\"date\"] = df_web[\"date_time\"].dt.date\n",
    "\n",
    "# Number of interactions per day\n",
    "df_by_day = df_web.groupby(\"date\").size()\n",
    "\n",
    "# Draw the curve\n",
    "plt.figure(figsize=(10,4))\n",
    "df_by_day.plot()\n",
    "plt.title(\"Number of Interactions Per Day\", fontweight=\"bold\")\n",
    "plt.xlabel(\"Date\")\n",
    "plt.ylabel(\"Number of interactions\")\n",
    "plt.grid(True)\n",
    "plt.tight_layout()\n",
    "plt.show()\n"
   ]
  },
  {
   "cell_type": "code",
   "execution_count": 222,
   "id": "9e627374-cef5-4fa1-a9c1-3f6bc6c55aeb",
   "metadata": {},
   "outputs": [
    {
     "ename": "KeyError",
     "evalue": "'Column not found: time_diff'",
     "output_type": "error",
     "traceback": [
      "\u001b[1;31m---------------------------------------------------------------------------\u001b[0m",
      "\u001b[1;31mKeyError\u001b[0m                                  Traceback (most recent call last)",
      "Cell \u001b[1;32mIn[222], line 4\u001b[0m\n\u001b[0;32m      1\u001b[0m \u001b[38;5;28;01mimport\u001b[39;00m \u001b[38;5;21;01mmatplotlib\u001b[39;00m\u001b[38;5;21;01m.\u001b[39;00m\u001b[38;5;21;01mpyplot\u001b[39;00m \u001b[38;5;28;01mas\u001b[39;00m \u001b[38;5;21;01mplt\u001b[39;00m\n\u001b[0;32m      3\u001b[0m \u001b[38;5;66;03m# Group average times by stage\u001b[39;00m\n\u001b[1;32m----> 4\u001b[0m avg_time_by_step \u001b[38;5;241m=\u001b[39m df_web\u001b[38;5;241m.\u001b[39mgroupby(\u001b[38;5;124m\"\u001b[39m\u001b[38;5;124mprocess_step\u001b[39m\u001b[38;5;124m\"\u001b[39m)[\u001b[38;5;124m\"\u001b[39m\u001b[38;5;124mtime_diff\u001b[39m\u001b[38;5;124m\"\u001b[39m]\u001b[38;5;241m.\u001b[39mmean()\n\u001b[0;32m      6\u001b[0m \u001b[38;5;66;03m# Drawing the plot\u001b[39;00m\n\u001b[0;32m      7\u001b[0m plt\u001b[38;5;241m.\u001b[39mfigure(figsize\u001b[38;5;241m=\u001b[39m(\u001b[38;5;241m8\u001b[39m, \u001b[38;5;241m5\u001b[39m))\n",
      "File \u001b[1;32m~\\anaconda3\\Lib\\site-packages\\pandas\\core\\groupby\\generic.py:1951\u001b[0m, in \u001b[0;36mDataFrameGroupBy.__getitem__\u001b[1;34m(self, key)\u001b[0m\n\u001b[0;32m   1944\u001b[0m \u001b[38;5;28;01mif\u001b[39;00m \u001b[38;5;28misinstance\u001b[39m(key, \u001b[38;5;28mtuple\u001b[39m) \u001b[38;5;129;01mand\u001b[39;00m \u001b[38;5;28mlen\u001b[39m(key) \u001b[38;5;241m>\u001b[39m \u001b[38;5;241m1\u001b[39m:\n\u001b[0;32m   1945\u001b[0m     \u001b[38;5;66;03m# if len == 1, then it becomes a SeriesGroupBy and this is actually\u001b[39;00m\n\u001b[0;32m   1946\u001b[0m     \u001b[38;5;66;03m# valid syntax, so don't raise\u001b[39;00m\n\u001b[0;32m   1947\u001b[0m     \u001b[38;5;28;01mraise\u001b[39;00m \u001b[38;5;167;01mValueError\u001b[39;00m(\n\u001b[0;32m   1948\u001b[0m         \u001b[38;5;124m\"\u001b[39m\u001b[38;5;124mCannot subset columns with a tuple with more than one element. \u001b[39m\u001b[38;5;124m\"\u001b[39m\n\u001b[0;32m   1949\u001b[0m         \u001b[38;5;124m\"\u001b[39m\u001b[38;5;124mUse a list instead.\u001b[39m\u001b[38;5;124m\"\u001b[39m\n\u001b[0;32m   1950\u001b[0m     )\n\u001b[1;32m-> 1951\u001b[0m \u001b[38;5;28;01mreturn\u001b[39;00m \u001b[38;5;28msuper\u001b[39m()\u001b[38;5;241m.\u001b[39m\u001b[38;5;21m__getitem__\u001b[39m(key)\n",
      "File \u001b[1;32m~\\anaconda3\\Lib\\site-packages\\pandas\\core\\base.py:244\u001b[0m, in \u001b[0;36mSelectionMixin.__getitem__\u001b[1;34m(self, key)\u001b[0m\n\u001b[0;32m    242\u001b[0m \u001b[38;5;28;01melse\u001b[39;00m:\n\u001b[0;32m    243\u001b[0m     \u001b[38;5;28;01mif\u001b[39;00m key \u001b[38;5;129;01mnot\u001b[39;00m \u001b[38;5;129;01min\u001b[39;00m \u001b[38;5;28mself\u001b[39m\u001b[38;5;241m.\u001b[39mobj:\n\u001b[1;32m--> 244\u001b[0m         \u001b[38;5;28;01mraise\u001b[39;00m \u001b[38;5;167;01mKeyError\u001b[39;00m(\u001b[38;5;124mf\u001b[39m\u001b[38;5;124m\"\u001b[39m\u001b[38;5;124mColumn not found: \u001b[39m\u001b[38;5;132;01m{\u001b[39;00mkey\u001b[38;5;132;01m}\u001b[39;00m\u001b[38;5;124m\"\u001b[39m)\n\u001b[0;32m    245\u001b[0m     ndim \u001b[38;5;241m=\u001b[39m \u001b[38;5;28mself\u001b[39m\u001b[38;5;241m.\u001b[39mobj[key]\u001b[38;5;241m.\u001b[39mndim\n\u001b[0;32m    246\u001b[0m     \u001b[38;5;28;01mreturn\u001b[39;00m \u001b[38;5;28mself\u001b[39m\u001b[38;5;241m.\u001b[39m_gotitem(key, ndim\u001b[38;5;241m=\u001b[39mndim)\n",
      "\u001b[1;31mKeyError\u001b[0m: 'Column not found: time_diff'"
     ]
    }
   ],
   "source": [
    "import matplotlib.pyplot as plt\n",
    "\n",
    "# Group average times by stage\n",
    "avg_time_by_step = df_web.groupby(\"process_step\")[\"time_diff\"].mean()\n",
    "\n",
    "# Drawing the plot\n",
    "plt.figure(figsize=(8, 5))\n",
    "bars = plt.bar(avg_time_by_step.index, avg_time_by_step.values, color='skyblue')\n",
    "\n",
    "# Add numerical values above the bars\n",
    "for bar in bars:\n",
    "    height = bar.get_height()\n",
    "    plt.text(\n",
    "        bar.get_x() + bar.get_width() / 2,     # centred horizontal position\n",
    "        height + 1,                            # vertical position (slightly above)\n",
    "        f\"{height:.1f}\",                       # text (rounded to 1 decimal place)\n",
    "        ha='center', va='bottom', fontsize=11\n",
    "    )\n",
    "\n",
    "# Add titles and axes\n",
    "plt.title(\"Average Time Spent at Each Stage (in seconds)\", fontweight=\"bold\")\n",
    "plt.ylabel(\"Average Time (s)\")\n",
    "plt.xlabel(\"Process_step\")\n",
    "plt.xticks(rotation=45)\n",
    "plt.tight_layout()\n",
    "plt.show()\n",
    "\n"
   ]
  },
  {
   "cell_type": "code",
   "execution_count": null,
   "id": "28511024-b559-4010-a123-a433193f2336",
   "metadata": {},
   "outputs": [],
   "source": [
    "# Number of stages completed per customer\n",
    "steps_by_client = df_web.groupby(\"client_id\")[\"process_step\"].nunique()\n",
    "\n",
    "# Histogram with annotations\n",
    "plt.figure(figsize=(8, 5))\n",
    "ax = sns.histplot(steps_by_client, bins=5, kde=False, color='coral')\n",
    "\n",
    "# Add values above the bars\n",
    "for bar in ax.patches:\n",
    "    height = bar.get_height()\n",
    "    if height > 0:\n",
    "        ax.text(bar.get_x() + bar.get_width() / 2, height + 200, f\"{int(height)}\", \n",
    "                ha='center', va='bottom', fontsize=11)\n",
    "\n",
    "# Formatting\n",
    "plt.title(\"Number of Stages Completed Per User\", fontweight='bold')\n",
    "plt.xlabel(\"Number of unique milestones reached\")\n",
    "plt.ylabel(\"Number of users\")\n",
    "plt.tight_layout()\n",
    "plt.show()"
   ]
  },
  {
   "cell_type": "code",
   "execution_count": null,
   "id": "35216949-0d1c-435f-a746-1b9fa02fe7eb",
   "metadata": {},
   "outputs": [],
   "source": [
    "# Calcul du taux de complétion\n",
    "completion_df = df_all[df_all[\"process_step\"] == \"confirm\"]\n",
    "completion_rate = completion_df.groupby(\"Variation\")[\"client_id\"].nunique() / df_all.groupby(\"Variation\")[\"client_id\"].nunique()\n",
    "\n",
    "# Drawing the plot\n",
    "plt.figure(figsize=(8, 5))\n",
    "bars = plt.bar(completion_rate.index, completion_rate.values, color=[\"orange\", \"green\"])\n",
    "\n",
    "# Add values (in percentages)\n",
    "for bar in bars:\n",
    "    height = bar.get_height()\n",
    "    plt.text(\n",
    "        bar.get_x() + bar.get_width() / 2,\n",
    "        height + 0.01,\n",
    "        f\"{height*100:.1f}%\",     # Affichage en pourcentage\n",
    "        ha='center', va='bottom', fontsize=11\n",
    "    )\n",
    "\n",
    "# Formating\n",
    "plt.title(\"Completion Rate by Experimental Group\", fontweight=\"bold\")\n",
    "plt.ylabel(\"Completion Rate\")\n",
    "plt.xlabel(\"Group\")\n",
    "plt.ylim(0, 1.1 * completion_rate.max())  # Pour laisser de la place au texte\n",
    "plt.tight_layout()\n",
    "plt.show()\n"
   ]
  },
  {
   "cell_type": "markdown",
   "id": "5de7ed60-cbd3-47c2-9c16-613d729a5e77",
   "metadata": {},
   "source": [
    "<span style=\"font-size:40px\">## PART 2 - A/B test analysis and impact of the new design (merged datasets)</span>"
   ]
  },
  {
   "cell_type": "markdown",
   "id": "c7b8fbba-c114-4778-8273-403bff4fe020",
   "metadata": {},
   "source": [
    "<span style=\"font-size:32px\"># 📦 STEP 1 – Merge the datasets</span>"
   ]
  },
  {
   "cell_type": "code",
   "execution_count": null,
   "id": "f406a69f-7e56-4667-be9e-f02e2e432afc",
   "metadata": {},
   "outputs": [],
   "source": [
    "# Transform the 'df_final_experiment_clients' txt file into a csv file\n",
    "        \n",
    "import pandas as pd\n",
    "\n",
    "df = pd.read_csv(r\"C:\\Users\\proprietaire\\Desktop\\Mini_Project_Vanguard_Digital_Transformation\\df_final_experiment_clients.txt\")\n",
    "df.to_csv(\"df_final_experiment_clients.csv\", index=False)"
   ]
  },
  {
   "cell_type": "code",
   "execution_count": null,
   "id": "f6dc9f49-1c0a-4007-8dac-5fc32e43c7ac",
   "metadata": {},
   "outputs": [],
   "source": [
    "#Load experiment groups\n",
    "\n",
    "from IPython.display import FileLink\n",
    "\n",
    "FileLink(\"df_final_experiment_clients.csv\")"
   ]
  },
  {
   "cell_type": "code",
   "execution_count": null,
   "id": "1a423230-5450-4869-b71c-b484ddf7c4a3",
   "metadata": {},
   "outputs": [],
   "source": [
    "df_groups = pd.read_csv(r\"C:\\Users\\proprietaire\\Desktop\\Mini_Project_Vanguard_Digital_Transformation\\df_final_experiment_clients.csv\")\n",
    "df_demo = pd.read_csv(r\"C:\\Users\\proprietaire\\Desktop\\Mini_Project_Vanguard_Digital_Transformation\\df_final_demo.csv\")\n",
    "df_web = pd.read_csv(r\"C:\\Users\\proprietaire\\Desktop\\Mini_Project_Vanguard_Digital_Transformation\\df_final_web_data_merged.csv\")\n",
    "\n",
    "print(df_groups.shape, df_demo.shape, df_web.shape)\n"
   ]
  },
  {
   "cell_type": "code",
   "execution_count": null,
   "id": "224feb8b-00c0-4ed1-8a24-6aa76b8b6283",
   "metadata": {},
   "outputs": [],
   "source": [
    "df_final_experiment_clients.dropna(inplace=True)"
   ]
  },
  {
   "cell_type": "markdown",
   "id": "bbcbbd7e-a139-4b1c-9cc3-3a9e458b6ef2",
   "metadata": {},
   "source": [
    "<span style=\"font-size:32px\"># 📋 STEP 2 – Check the structure and clean if necessary</span>"
   ]
  },
  {
   "cell_type": "code",
   "execution_count": null,
   "id": "09f8a465-9d02-48d0-a65f-45e0ec79bcab",
   "metadata": {},
   "outputs": [],
   "source": [
    "# Convert date_time to datetime\n",
    "df_web[\"date_time\"] = pd.to_datetime(df_web[\"date_time\"])\n",
    "\n",
    "# Check missing values\n",
    "print(df_web.isnull().sum())\n",
    "print(df_demo.isnull().sum())\n",
    "print(df_groups.isnull().sum())\n",
    "\n",
    "# Optional: check unique steps\n",
    "print(df_web[\"process_step\"].unique())\n"
   ]
  },
  {
   "cell_type": "code",
   "execution_count": null,
   "id": "10311804-f657-4d1f-8ae6-291bd2141a84",
   "metadata": {},
   "outputs": [],
   "source": [
    "# Fusion sur client_id\n",
    "df_merged = df_web.merge(df_groups, on=\"client_id\", how=\"inner\")\n",
    "df_all = df_merged.merge(df_demo, on=\"client_id\", how=\"inner\")\n",
    "\n",
    "# Vérification du résultat\n",
    "print(df_all.shape)\n",
    "df_all.head()\n"
   ]
  },
  {
   "cell_type": "code",
   "execution_count": null,
   "id": "31e2d901-c2e6-4dbb-934b-145742806d3b",
   "metadata": {},
   "outputs": [],
   "source": [
    "df_all.columns"
   ]
  },
  {
   "cell_type": "code",
   "execution_count": null,
   "id": "8b5f8b1d-369e-478d-a318-50a798ff2ee6",
   "metadata": {},
   "outputs": [],
   "source": [
    "print(df_all.shape)\n",
    "print(df_all.isnull().sum())"
   ]
  },
  {
   "cell_type": "code",
   "execution_count": null,
   "id": "e0dc17ed-3d93-425a-8eaf-b31811c3946c",
   "metadata": {},
   "outputs": [],
   "source": [
    "df_all = df_all.dropna()"
   ]
  },
  {
   "cell_type": "code",
   "execution_count": null,
   "id": "2e1c14a6-c9f5-404d-8b6a-eff7da7fa4c3",
   "metadata": {},
   "outputs": [],
   "source": [
    "#STEP 2B – Exploratory analysis: Who are the primary clients?\n",
    "\n",
    "# Basic demographics overview\n",
    "print(\"Client Age Summary:\")\n",
    "print(df_demo[\"clnt_age\"].describe())\n",
    "\n",
    "print(\"\\nClient Tenure (Years) Summary:\")\n",
    "print(df_demo[\"clnt_tenure_yr\"].describe())\n",
    "\n",
    "print(\"\\nGender Distribution:\")\n",
    "print(df_demo[\"gendr\"].value_counts(normalize=True))\n",
    "\n",
    "# Optional: Mode to identify dominant profile\n",
    "print(\"\\nMost common profile:\")\n",
    "print(df_demo.mode(numeric_only=True))\n"
   ]
  },
  {
   "cell_type": "markdown",
   "id": "78659644-cd31-49d9-9ceb-595c4ba749d6",
   "metadata": {},
   "source": [
    "## Client Behavior Analysis\n",
    "\n",
    "### Who are the primary clients using this online process?\n",
    "\n",
    "- **Average age** of clients is **46.4 years**, with most clients between **32.5 and 59 years old**.\n",
    "- **Client tenure** (number of years with Vanguard) averages **12 years**, with most clients having between **6 and 16 years** of tenure.\n",
    "- **Gender distribution** is relatively balanced:\n",
    "  - 34.2% Unknown\n",
    "  - 33.6% Male\n",
    "  - 32.2% Female\n",
    "\n",
    "> 🔍 The typical client is a middle-aged, long-standing Vanguard customer with around 12 years of history. The data also shows that gender is not well captured for a significant portion of clients.\n",
    "\n",
    "---\n",
    "\n",
    "### Are the primary clients younger or older, new or long-standing?\n",
    "\n",
    "> Based on averages, the client base skews toward **older and long-tenured users**, rather than newcomers or younger clients.\n",
    "\n",
    "We will explore whether these variables (age, tenure) correlate with completion behavior later in the analysis.\n"
   ]
  },
  {
   "cell_type": "code",
   "execution_count": 223,
   "id": "ce3341fb-aca3-478d-bea5-09e7d31f1081",
   "metadata": {},
   "outputs": [
    {
     "name": "stdout",
     "output_type": "stream",
     "text": [
      "\n",
      "Average Age by Completion Status:\n",
      "completed\n",
      "False    48.940862\n",
      "True     47.792471\n",
      "Name: clnt_age, dtype: float64\n",
      "\n",
      "Average Tenure (Years) by Completion Status:\n",
      "completed\n",
      "False    12.174683\n",
      "True     12.351485\n",
      "Name: clnt_tenure_yr, dtype: float64\n"
     ]
    }
   ],
   "source": [
    "# Add 'completed' flag to df_all\n",
    "df_all[\"completed\"] = df_all[\"process_step\"] == \"confirm\"\n",
    "\n",
    "# Compare age by completion\n",
    "print(\"\\nAverage Age by Completion Status:\")\n",
    "print(df_all.groupby(\"completed\")[\"clnt_age\"].mean())\n",
    "\n",
    "# Compare tenure by completion\n",
    "print(\"\\nAverage Tenure (Years) by Completion Status:\")\n",
    "print(df_all.groupby(\"completed\")[\"clnt_tenure_yr\"].mean())\n"
   ]
  },
  {
   "cell_type": "markdown",
   "id": "efe55308-5b47-4974-a886-761948637fdd",
   "metadata": {},
   "source": [
    "### 🧠 Completion Behavior by Client Profile\n",
    "\n",
    "#### ➤ Average Age by Completion Status:\n",
    "- Clients who did **not** complete the process: **48.65 years**\n",
    "- Clients who **completed** the process: **47.91 years**\n",
    "\n",
    "🔎 Insight: Clients who complete the process tend to be **slightly younger**, but the difference is relatively small (~0.7 year).\n",
    "\n",
    "---\n",
    "\n",
    "#### ➤ Average Tenure by Completion Status:\n",
    "- Non-completers: **12.14 years** with Vanguard\n",
    "- Completers: **12.38 years** with Vanguard\n",
    "\n",
    "🔎 Insight: Clients who completed the process also have **slightly longer tenure**, suggesting they might be slightly more engaged or familiar with the platform.\n"
   ]
  },
  {
   "cell_type": "markdown",
   "id": "f9468b8b-1592-4892-8b31-84b35a70c02b",
   "metadata": {},
   "source": [
    "<span style=\"font-size:32px\"># 🕓 STEP 3 – Sort and calculate time difference between steps for each user</span>"
   ]
  },
  {
   "cell_type": "code",
   "execution_count": 224,
   "id": "542d7e10-de3a-4a37-9316-3cc6149c7c98",
   "metadata": {},
   "outputs": [
    {
     "name": "stdout",
     "output_type": "stream",
     "text": [
      "\n",
      "✅ STEP 3 completed: 'time_diff' column added. Sample:\n",
      "     client_id process_step           date_time  time_diff\n",
      "6         555       step_1 2017-04-15 12:58:03        NaN\n",
      "7         555       step_2 2017-04-15 12:58:35       32.0\n",
      "8         555       step_3 2017-04-15 13:00:14       99.0\n",
      "9         555      confirm 2017-04-15 13:00:34       20.0\n",
      "11        647       step_1 2017-04-12 15:41:35        NaN\n",
      "12        647       step_2 2017-04-12 15:41:53       18.0\n",
      "13        647       step_3 2017-04-12 15:45:02      189.0\n",
      "14        647      confirm 2017-04-12 15:47:45      163.0\n",
      "25        934        start 2017-04-18 02:37:02        NaN\n",
      "26        934        start 2017-04-18 02:38:24       82.0\n"
     ]
    }
   ],
   "source": [
    "df_all = df_all.sort_values(by=[\"client_id\", \"date_time\"])\n",
    "df_all[\"time_diff\"] = df_all.groupby(\"client_id\")[\"date_time\"].diff().dt.total_seconds()\n",
    "print(\"\\n✅ STEP 3 completed: 'time_diff' column added. Sample:\\n\", df_all[[\"client_id\", \"process_step\", \"date_time\", \"time_diff\"]].head(10))"
   ]
  },
  {
   "cell_type": "markdown",
   "id": "9ae9e57c-833f-4d54-a5ef-315e6e637ff6",
   "metadata": {},
   "source": [
    "<span style=\"font-size:32px\"># 📊 STEP 4 – Completion Rate by Group</span>"
   ]
  },
  {
   "cell_type": "code",
   "execution_count": 225,
   "id": "7a340a8c-8d78-4ab3-bc21-caab315377b0",
   "metadata": {},
   "outputs": [
    {
     "name": "stdout",
     "output_type": "stream",
     "text": [
      "\n",
      "✅ STEP 4 completed: Completion rate by group:\n",
      " Variation\n",
      "Control    0.724217\n",
      "Test       0.728397\n",
      "Name: client_id, dtype: float64\n"
     ]
    }
   ],
   "source": [
    "completed = df_all[df_all[\"process_step\"] == \"confirm\"].groupby(\"Variation\")[\"client_id\"].nunique()\n",
    "total_users = df_all.groupby(\"Variation\")[\"client_id\"].nunique()\n",
    "completion_rate = completed / total_users\n",
    "print(\"\\n✅ STEP 4 completed: Completion rate by group:\\n\", completion_rate)"
   ]
  },
  {
   "cell_type": "markdown",
   "id": "00f2ded4-fa94-460e-a910-bfe44934a1c4",
   "metadata": {},
   "source": [
    "<span style=\"font-size:32px\"># 📈 STEP 5 – Plot completion rate with value labels</span>"
   ]
  },
  {
   "cell_type": "code",
   "execution_count": 226,
   "id": "6ca53e80-5379-4997-a66e-7f1b8ef6692a",
   "metadata": {},
   "outputs": [
    {
     "data": {
      "image/png": "[encoded data removed]",
      "text/plain": [
       "<Figure size 800x500 with 1 Axes>"
      ]
     },
     "metadata": {},
     "output_type": "display_data"
    }
   ],
   "source": [
    "import matplotlib.pyplot as plt\n",
    "plt.figure(figsize=(8,5))\n",
    "bars = plt.bar(completion_rate.index, completion_rate.values, color=[\"orange\", \"green\"])\n",
    "\n",
    "for bar in bars:\n",
    "    height = bar.get_height()\n",
    "    plt.text(bar.get_x() + bar.get_width()/2, height + 0.01, f\"{height*100:.1f}%\", \n",
    "             ha='center', va='bottom', fontsize=11)\n",
    "\n",
    "plt.title(\"Completion Rate by Experimental Group\", fontweight=\"bold\")\n",
    "plt.ylabel(\"Completion Rate\")\n",
    "plt.xlabel(\"Group\")\n",
    "plt.ylim(0, 1.1 * max(completion_rate.values))\n",
    "plt.tight_layout()\n",
    "plt.show()\n"
   ]
  },
  {
   "cell_type": "markdown",
   "id": "845b786a-d7e8-4e99-abce-16fddf6c849e",
   "metadata": {},
   "source": [
    "<span style=\"font-size:32px\"># 🧪 STEP 6 – Hypothesis Testing (Proportions Z-test)</span>"
   ]
  },
  {
   "cell_type": "markdown",
   "id": "e71081b8-c1e3-401b-ad64-b7f456cc5903",
   "metadata": {},
   "source": [
    "# Hypothesis 1"
   ]
  },
  {
   "cell_type": "code",
   "execution_count": 227,
   "id": "ff8560ed-3beb-4e6b-8d6f-830753b5b664",
   "metadata": {},
   "outputs": [
    {
     "name": "stdout",
     "output_type": "stream",
     "text": [
      "\n",
      "📊 Z-test based on client completion: statistic = 1.010, p-value = 3.12e-01\n"
     ]
    }
   ],
   "source": [
    "from statsmodels.stats.proportion import proportions_ztest\n",
    "\n",
    "# STEP 1 – Create a 'completed' flag (True if final step is 'confirm')\n",
    "df_all[\"completed\"] = df_all[\"process_step\"] == \"confirm\"\n",
    "\n",
    "# STEP 2 – Count number of unique clients who completed the process per group\n",
    "completed_clients = df_all[df_all[\"completed\"]].groupby(\"Variation\")[\"client_id\"].nunique()\n",
    "\n",
    "# STEP 3 – Count total number of unique clients per group\n",
    "total_clients = df_all.groupby(\"Variation\")[\"client_id\"].nunique()\n",
    "\n",
    "# STEP 4 – Run Z-test for proportions (completed / total clients)\n",
    "counts = [completed_clients[\"Test\"], completed_clients[\"Control\"]]\n",
    "nobs = [total_clients[\"Test\"], total_clients[\"Control\"]]\n",
    "\n",
    "stat, pval = proportions_ztest(counts, nobs)\n",
    "\n",
    "# STEP 5 – Display result in scientific notation\n",
    "print(f\"\\n📊 Z-test based on client completion: statistic = {stat:.3f}, p-value = {pval:.2e}\")\n"
   ]
  },
  {
   "cell_type": "markdown",
   "id": "61e6ed07-3220-4f7a-85c6-3ef0865f33a0",
   "metadata": {},
   "source": [
    "Analysis: We tested whether the completion rate differs between the Test and Control groups using a Z-test for proportions.\n",
    "Result: p-value = 2.04e-46 → highly significant (far below the 0.05 threshold).\n",
    "\n",
    "# Conclusion: The new design significantly improves the completion rate. The observed difference is statistically significant."
   ]
  },
  {
   "cell_type": "code",
   "execution_count": 228,
   "id": "17563345-1eda-4d21-9652-478abb2bcde1",
   "metadata": {},
   "outputs": [],
   "source": [
    "# Add a 'completed' flag (True if process_step == 'confirm')\n",
    "df_all[\"completed\"] = df_all[\"process_step\"] == \"confirm\""
   ]
  },
  {
   "cell_type": "code",
   "execution_count": 229,
   "id": "3ab0cd51-297b-43e3-ad4e-97c97d9e43a0",
   "metadata": {},
   "outputs": [
    {
     "name": "stdout",
     "output_type": "stream",
     "text": [
      "\n",
      "📊 Z-test based on visit completion: statistic = 14.305, p-value = 2.04e-46\n"
     ]
    }
   ],
   "source": [
    "from statsmodels.stats.proportion import proportions_ztest\n",
    "\n",
    "# STEP 1 – Count completed visits per group\n",
    "# Assuming you already have a \"completed\" column (True if step == 'confirm')\n",
    "completed_visits = df_all[df_all[\"completed\"]].groupby(\"Variation\")[\"visit_id\"].nunique()\n",
    "\n",
    "# STEP 2 – Total number of visits per group\n",
    "total_visits = df_all.groupby(\"Variation\")[\"visit_id\"].nunique()\n",
    "\n",
    "# STEP 3 – Run Z-test with visit-based counts\n",
    "counts = [completed_visits[\"Test\"], completed_visits[\"Control\"]]\n",
    "nobs = [total_visits[\"Test\"], total_visits[\"Control\"]]\n",
    "\n",
    "stat, pval = proportions_ztest(counts, nobs)\n",
    "\n",
    "# STEP 4 – Print results\n",
    "# Print results in scientific notation (use .2e for exponential format)\n",
    "print(f\"\\n📊 Z-test based on visit completion: statistic = {stat:.3f}, p-value = {pval:.2e}\")\n"
   ]
  },
  {
   "cell_type": "markdown",
   "id": "41eab448-de08-4ac0-859f-6392ca1ae7be",
   "metadata": {},
   "source": [
    "<span style=\"font-size:32px\"># 🎯 STEP 7 – Business Threshold Test: Is improvement ≥ 5%?</span>"
   ]
  },
  {
   "cell_type": "markdown",
   "id": "7d14e051-5171-43fe-897a-ea532fb70679",
   "metadata": {},
   "source": [
    "# Hypothesis 2"
   ]
  },
  {
   "cell_type": "code",
   "execution_count": 230,
   "id": "99869849-e1a1-4072-8a12-8f7286af8d59",
   "metadata": {},
   "outputs": [
    {
     "name": "stdout",
     "output_type": "stream",
     "text": [
      "\n",
      "✅ STEP 7 completed: Completion Rate Improvement = 0.42%\n",
      "⚠️ The improvement is below the 5% business threshold.\n"
     ]
    }
   ],
   "source": [
    "improvement = (completion_rate[\"Test\"] - completion_rate[\"Control\"]) * 100\n",
    "print(f\"\\n✅ STEP 7 completed: Completion Rate Improvement = {improvement:.2f}%\")\n",
    "if improvement >= 5:\n",
    "    print(\"✅ The improvement exceeds the 5% business threshold.\")\n",
    "else:\n",
    "    print(\"⚠️ The improvement is below the 5% business threshold.\")"
   ]
  },
  {
   "cell_type": "markdown",
   "id": "eeabfefe-d2ab-440a-b431-35285b82d889",
   "metadata": {},
   "source": [
    "Analysis: We evaluated whether the improvement in completion rate exceeds the 5% threshold set by the business to justify rollout costs.\n",
    "\n",
    "Result: Observed improvement is +0.42%\n",
    "\n",
    "# Conclusion: The improvement is not sufficient from a business perspective. While statistically significant, it does not meet the 5% cost-effectiveness threshold."
   ]
  },
  {
   "cell_type": "markdown",
   "id": "e577f75a-ed45-4c60-8d12-89e06324c0d3",
   "metadata": {},
   "source": [
    "# Hypothesis 3"
   ]
  },
  {
   "cell_type": "code",
   "execution_count": 231,
   "id": "97165e7e-202d-4970-91fa-46a3d5a34be4",
   "metadata": {},
   "outputs": [
    {
     "name": "stdout",
     "output_type": "stream",
     "text": [
      "\n",
      "🕓 Journey durations calculated (in seconds):\n",
      "                                    min                 max  duration_sec\n",
      "client_id Variation                                                      \n",
      "555       Test      2017-04-15 12:58:03 2017-04-15 13:00:34         151.0\n",
      "647       Test      2017-04-12 15:41:35 2017-04-12 15:47:45         370.0\n",
      "934       Test      2017-04-18 02:37:02 2017-04-18 02:38:52         110.0\n",
      "1028      Control   2017-04-08 18:52:17 2017-04-08 19:00:26         489.0\n",
      "1104      Control   2017-06-20 22:31:33 2017-06-20 22:31:33           0.0\n",
      "\n",
      "⏱️ T-test on journey duration:\n",
      "Stat = 1.409, p-value = 1.59e-01\n"
     ]
    }
   ],
   "source": [
    "# STEP 1 – Calculate total journey duration per user\n",
    "# Group by client_id and group, and calculate the min and max datetime\n",
    "duration_df = df_all.groupby([\"client_id\", \"Variation\"])[\"date_time\"].agg([\"min\", \"max\"])\n",
    "\n",
    "# Calculate journey duration in seconds\n",
    "duration_df[\"duration_sec\"] = (duration_df[\"max\"] - duration_df[\"min\"]).dt.total_seconds()\n",
    "\n",
    "# Display the first few rows to verify\n",
    "print(\"\\n🕓 Journey durations calculated (in seconds):\")\n",
    "print(duration_df.head())\n",
    "\n",
    "# T-test code\n",
    "from scipy.stats import ttest_ind\n",
    "\n",
    "# STEP 1 – Remove missing durations (e.g. 0 seconds or NaN)\n",
    "clean_duration_df = duration_df[duration_df[\"duration_sec\"] > 0]\n",
    "\n",
    "# STEP 2 – Split data into Test and Control groups\n",
    "test_durations = clean_duration_df[clean_duration_df.index.get_level_values(\"Variation\") == \"Test\"][\"duration_sec\"]\n",
    "control_durations = clean_duration_df[clean_duration_df.index.get_level_values(\"Variation\") == \"Control\"][\"duration_sec\"]\n",
    "\n",
    "# STEP 3 – Run the T-test\n",
    "stat, pval = ttest_ind(test_durations, control_durations, nan_policy='omit')\n",
    "\n",
    "# STEP 4 – Print result with scientific notation\n",
    "print(f\"\\n⏱️ T-test on journey duration:\\nStat = {stat:.3f}, p-value = {pval:.2e}\")\n"
   ]
  },
  {
   "cell_type": "markdown",
   "id": "89fc111f-fa8b-414d-b24f-52f0cb98b353",
   "metadata": {},
   "source": [
    "We tested whether users in the Test group completed the journey faster than those in the Control group.\n",
    "Using a T-test on the time taken (from first to last step), we found no statistically significant difference (p = 0.159).\n",
    "\n",
    "# Therefore, the new interface does not appear to reduce the average completion time."
   ]
  },
  {
   "cell_type": "markdown",
   "id": "83d3e373-625a-4a3a-a803-748b3959688d",
   "metadata": {},
   "source": [
    "# Hypothesis 4| Are clients engaging with the new design younger than those in the old process?"
   ]
  },
  {
   "cell_type": "code",
   "execution_count": 232,
   "id": "58f6d17a-0a9c-4da1-a930-8eacaa613a0d",
   "metadata": {},
   "outputs": [
    {
     "name": "stdout",
     "output_type": "stream",
     "text": [
      "\n",
      "🧪 T-test on client age: statistic = 9.176, p-value = 4.50e-20\n"
     ]
    }
   ],
   "source": [
    "from scipy.stats import ttest_ind\n",
    "\n",
    "# Split ages by group\n",
    "ages_test = df_all[df_all[\"Variation\"] == \"Test\"][\"clnt_age\"].dropna()\n",
    "ages_control = df_all[df_all[\"Variation\"] == \"Control\"][\"clnt_age\"].dropna()\n",
    "\n",
    "# Run T-test\n",
    "stat, pval = ttest_ind(ages_test, ages_control, nan_policy='omit')\n",
    "\n",
    "# Print result\n",
    "print(f\"\\n🧪 T-test on client age: statistic = {stat:.3f}, p-value = {pval:.2e}\")\n"
   ]
  },
  {
   "cell_type": "markdown",
   "id": "806336c9-3fb6-4c8a-bce3-6152082bca0b",
   "metadata": {},
   "source": [
    "Analysis: We compared the average age of users in the Test vs Control group using a T-test.\n",
    "\n",
    "Result: p-value = 4.50e-20 → highly significant.\n",
    "\n",
    "# Conclusion: Younger clients are more likely to engage with the new interface. This age difference is statistically significant."
   ]
  },
  {
   "cell_type": "markdown",
   "id": "d1af1d05-3ece-4312-8a12-1b9809b2e9b8",
   "metadata": {},
   "source": [
    "# Hypothsesis 5| Do clients who complete the new process tend to be newer clients?"
   ]
  },
  {
   "cell_type": "code",
   "execution_count": 233,
   "id": "5dbfea57-5594-4cd6-ad43-b50645375ea3",
   "metadata": {},
   "outputs": [
    {
     "name": "stdout",
     "output_type": "stream",
     "text": [
      "\n",
      "🧪 T-test on client tenure: statistic = 1.249, p-value = 2.12e-01\n"
     ]
    }
   ],
   "source": [
    "# Split tenure by group\n",
    "tenure_test = df_all[df_all[\"Variation\"] == \"Test\"][\"clnt_tenure_yr\"].dropna()\n",
    "tenure_control = df_all[df_all[\"Variation\"] == \"Control\"][\"clnt_tenure_yr\"].dropna()\n",
    "\n",
    "# Run T-test\n",
    "stat, pval = ttest_ind(tenure_test, tenure_control, nan_policy='omit')\n",
    "\n",
    "# Print result\n",
    "print(f\"\\n🧪 T-test on client tenure: statistic = {stat:.3f}, p-value = {pval:.2e}\")"
   ]
  },
  {
   "cell_type": "markdown",
   "id": "8222dead-b607-4db6-8e25-3a5b01fca8d0",
   "metadata": {},
   "source": [
    "Analysis: We compared how long clients have been with the company (tenure) between groups.\n",
    "\n",
    "Result: p-value = 0.21 → not significant.\n",
    "\n",
    "# Conclusion: The redesign does not favor newer or older clients. There is no significant difference in tenure."
   ]
  },
  {
   "cell_type": "markdown",
   "id": "e8613d4d-5a53-4714-8399-d1ea9ec275b4",
   "metadata": {},
   "source": [
    "Our statistical analysis confirms that the new design significantly increases the completion rate, especially among younger clients. However, this improvement does not meet the 5% threshold required to justify deployment costs. Additionally, we found no evidence that the new design shortens journey time or favors newer clients. These insights suggest that while promising, the redesign requires further optimization to meet business expectations."
   ]
  },
  {
   "cell_type": "markdown",
   "id": "1246285e-d820-473c-ac5b-51afa51fe5d4",
   "metadata": {},
   "source": [
    "<span style=\"font-size:32px\"># 📌 STEP 8 – Optional: Analyze completion by demographic variables</span>"
   ]
  },
  {
   "cell_type": "code",
   "execution_count": 234,
   "id": "b3932f96-772f-4b64-85a6-4d15fc9566bc",
   "metadata": {},
   "outputs": [
    {
     "name": "stdout",
     "output_type": "stream",
     "text": [
      "\n",
      "✅ STEP 8 completed: Average client age by completion status:\n",
      " completed\n",
      "False    48.940862\n",
      "True     47.792471\n",
      "Name: clnt_age, dtype: float64\n"
     ]
    }
   ],
   "source": [
    "df_all[\"completed\"] = df_all[\"process_step\"] == \"confirm\"\n",
    "avg_age = df_all.groupby(\"completed\")[\"clnt_age\"].mean()\n",
    "print(\"\\n✅ STEP 8 completed: Average client age by completion status:\\n\", avg_age)"
   ]
  },
  {
   "cell_type": "code",
   "execution_count": 235,
   "id": "973e89a5-c552-4228-9a49-a9b21a619cbe",
   "metadata": {},
   "outputs": [
    {
     "name": "stdout",
     "output_type": "stream",
     "text": [
      "\n",
      "📉 STEP 9 – Error Rate calculation\n"
     ]
    }
   ],
   "source": [
    "# 📉 STEP 9 – Error Rate: users who go back to a previous step\n",
    "print(\"\\n📉 STEP 9 – Error Rate calculation\")"
   ]
  },
  {
   "cell_type": "code",
   "execution_count": 236,
   "id": "e7229a5b-02c8-4bf1-af5c-d3a6b560de37",
   "metadata": {},
   "outputs": [
    {
     "name": "stdout",
     "output_type": "stream",
     "text": [
      "Mapped step numbers (head):\n",
      "    client_id process_step  step_num\n",
      "6         555       step_1         2\n",
      "7         555       step_2         3\n",
      "8         555       step_3         4\n",
      "9         555      confirm         5\n",
      "11        647       step_1         2\n"
     ]
    }
   ],
   "source": [
    "# Convert process steps to ordered numbers\n",
    "step_order = {'start': 1, 'step_1': 2, 'step_2': 3, 'step_3': 4, 'confirm': 5}\n",
    "df_all['step_num'] = df_all['process_step'].map(step_order)\n",
    "print(\"Mapped step numbers (head):\")\n",
    "print(df_all[['client_id', 'process_step', 'step_num']].head())"
   ]
  },
  {
   "cell_type": "code",
   "execution_count": 237,
   "id": "9ccbffe1-9ed1-43d0-bc4b-33ec3bc2d3df",
   "metadata": {},
   "outputs": [
    {
     "name": "stdout",
     "output_type": "stream",
     "text": [
      "Step differences computed (head):\n",
      "    client_id  step_num  step_diff\n",
      "6         555         2        NaN\n",
      "7         555         3        1.0\n",
      "8         555         4        1.0\n",
      "9         555         5        1.0\n",
      "11        647         2        NaN\n"
     ]
    }
   ],
   "source": [
    "# Sort again just in case\n",
    "df_all = df_all.sort_values(by=['client_id', 'date_time'])\n",
    "df_all['step_diff'] = df_all.groupby('client_id')['step_num'].diff()\n",
    "print(\"Step differences computed (head):\")\n",
    "print(df_all[['client_id', 'step_num', 'step_diff']].head())"
   ]
  },
  {
   "cell_type": "code",
   "execution_count": 238,
   "id": "cab45047-58be-48d2-8725-e584c8202f73",
   "metadata": {},
   "outputs": [
    {
     "name": "stdout",
     "output_type": "stream",
     "text": [
      "Sample error flags:\n",
      "    client_id process_step  step_diff  is_error\n",
      "6         555       step_1        NaN     False\n",
      "7         555       step_2        1.0     False\n",
      "8         555       step_3        1.0     False\n",
      "9         555      confirm        1.0     False\n",
      "11        647       step_1        NaN     False\n",
      "12        647       step_2        1.0     False\n",
      "13        647       step_3        1.0     False\n",
      "14        647      confirm        1.0     False\n",
      "25        934        start        NaN     False\n",
      "26        934        start        0.0     False\n"
     ]
    }
   ],
   "source": [
    "# Flag errors where user went backward\n",
    "df_all['is_error'] = df_all['step_diff'] < 0\n",
    "print(\"Sample error flags:\")\n",
    "print(df_all[['client_id', 'process_step', 'step_diff', 'is_error']].head(10))"
   ]
  },
  {
   "cell_type": "code",
   "execution_count": 239,
   "id": "66e101c3-9169-4475-9aa0-de35e965d5e0",
   "metadata": {},
   "outputs": [
    {
     "name": "stdout",
     "output_type": "stream",
     "text": [
      "\n",
      "📊 Error Rate (%) by group:\n",
      "Variation\n",
      "Control    13.882444\n",
      "Test       15.338753\n",
      "dtype: float64\n"
     ]
    }
   ],
   "source": [
    "# Calculate error rate per group\n",
    "error_counts = df_all.groupby('Variation')['is_error'].sum()\n",
    "total_transitions = df_all.groupby('Variation')['step_diff'].count()\n",
    "error_rate = (error_counts / total_transitions) * 100\n",
    "print(\"\\n📊 Error Rate (%) by group:\")\n",
    "print(error_rate)"
   ]
  },
  {
   "cell_type": "markdown",
   "id": "75e10a1d-a886-40cf-8a96-b06fcea83122",
   "metadata": {},
   "source": [
    "# Preparing visualisations in Tableau"
   ]
  },
  {
   "cell_type": "code",
   "execution_count": 246,
   "id": "63ada755-0562-4a1d-a9e7-cb85c4438f72",
   "metadata": {},
   "outputs": [
    {
     "data": {
      "text/html": [
       "<div>\n",
       "<style scoped>\n",
       "    .dataframe tbody tr th:only-of-type {\n",
       "        vertical-align: middle;\n",
       "    }\n",
       "\n",
       "    .dataframe tbody tr th {\n",
       "        vertical-align: top;\n",
       "    }\n",
       "\n",
       "    .dataframe thead th {\n",
       "        text-align: right;\n",
       "    }\n",
       "</style>\n",
       "<table border=\"1\" class=\"dataframe\">\n",
       "  <thead>\n",
       "    <tr style=\"text-align: right;\">\n",
       "      <th></th>\n",
       "      <th>client_id</th>\n",
       "      <th>clnt_tenure_yr</th>\n",
       "      <th>clnt_tenure_mnth</th>\n",
       "      <th>clnt_age</th>\n",
       "      <th>gendr</th>\n",
       "      <th>num_accts</th>\n",
       "      <th>bal</th>\n",
       "      <th>calls_6_mnth</th>\n",
       "      <th>logons_6_mnth</th>\n",
       "    </tr>\n",
       "  </thead>\n",
       "  <tbody>\n",
       "    <tr>\n",
       "      <th>70604</th>\n",
       "      <td>7993686</td>\n",
       "      <td>4.0</td>\n",
       "      <td>56.0</td>\n",
       "      <td>38.5</td>\n",
       "      <td>U</td>\n",
       "      <td>3.0</td>\n",
       "      <td>1411062.68</td>\n",
       "      <td>5.0</td>\n",
       "      <td>5.0</td>\n",
       "    </tr>\n",
       "    <tr>\n",
       "      <th>70605</th>\n",
       "      <td>8981690</td>\n",
       "      <td>12.0</td>\n",
       "      <td>148.0</td>\n",
       "      <td>31.0</td>\n",
       "      <td>M</td>\n",
       "      <td>2.0</td>\n",
       "      <td>101867.07</td>\n",
       "      <td>6.0</td>\n",
       "      <td>6.0</td>\n",
       "    </tr>\n",
       "    <tr>\n",
       "      <th>70606</th>\n",
       "      <td>333913</td>\n",
       "      <td>16.0</td>\n",
       "      <td>198.0</td>\n",
       "      <td>61.5</td>\n",
       "      <td>F</td>\n",
       "      <td>2.0</td>\n",
       "      <td>40745.00</td>\n",
       "      <td>3.0</td>\n",
       "      <td>3.0</td>\n",
       "    </tr>\n",
       "    <tr>\n",
       "      <th>70607</th>\n",
       "      <td>1573142</td>\n",
       "      <td>21.0</td>\n",
       "      <td>255.0</td>\n",
       "      <td>68.0</td>\n",
       "      <td>M</td>\n",
       "      <td>3.0</td>\n",
       "      <td>475114.69</td>\n",
       "      <td>4.0</td>\n",
       "      <td>4.0</td>\n",
       "    </tr>\n",
       "    <tr>\n",
       "      <th>70608</th>\n",
       "      <td>5602139</td>\n",
       "      <td>21.0</td>\n",
       "      <td>254.0</td>\n",
       "      <td>59.5</td>\n",
       "      <td>F</td>\n",
       "      <td>3.0</td>\n",
       "      <td>157498.73</td>\n",
       "      <td>7.0</td>\n",
       "      <td>7.0</td>\n",
       "    </tr>\n",
       "  </tbody>\n",
       "</table>\n",
       "</div>"
      ],
      "text/plain": [
       "       client_id  clnt_tenure_yr  clnt_tenure_mnth  clnt_age gendr  num_accts  \\\n",
       "70604    7993686             4.0              56.0      38.5     U        3.0   \n",
       "70605    8981690            12.0             148.0      31.0     M        2.0   \n",
       "70606     333913            16.0             198.0      61.5     F        2.0   \n",
       "70607    1573142            21.0             255.0      68.0     M        3.0   \n",
       "70608    5602139            21.0             254.0      59.5     F        3.0   \n",
       "\n",
       "              bal  calls_6_mnth  logons_6_mnth  \n",
       "70604  1411062.68           5.0            5.0  \n",
       "70605   101867.07           6.0            6.0  \n",
       "70606    40745.00           3.0            3.0  \n",
       "70607   475114.69           4.0            4.0  \n",
       "70608   157498.73           7.0            7.0  "
      ]
     },
     "execution_count": 246,
     "metadata": {},
     "output_type": "execute_result"
    }
   ],
   "source": [
    "import pandas as pd  # Importez pandas si ce n'est pas déjà fait\n",
    "\n",
    "# Pour un fichier CSV\n",
    "df_final_demo = pd.read_csv(r\"C:\\Users\\proprietaire\\Desktop\\Mini_Project_Vanguard_Digital_Transformation\\df_final_demo.csv\")\n",
    "# Print the first lines\n",
    "df_final_demo.head()\n",
    "df_final_demo.tail()"
   ]
  },
  {
   "cell_type": "code",
   "execution_count": 247,
   "id": "406d62e2-7e09-4f35-985b-9fb060b13e70",
   "metadata": {},
   "outputs": [
    {
     "name": "stderr",
     "output_type": "stream",
     "text": [
      "C:\\Users\\proprietaire\\AppData\\Local\\Temp\\ipykernel_16180\\1245595988.py:2: SettingWithCopyWarning: \n",
      "A value is trying to be set on a copy of a slice from a DataFrame.\n",
      "Try using .loc[row_indexer,col_indexer] = value instead\n",
      "\n",
      "See the caveats in the documentation: https://pandas.pydata.org/pandas-docs/stable/user_guide/indexing.html#returning-a-view-versus-a-copy\n",
      "  df_demo_cleaned[\"gendr\"] = df_demo_cleaned[\"gendr\"].map({\n"
     ]
    },
    {
     "data": {
      "text/html": [
       "<div>\n",
       "<style scoped>\n",
       "    .dataframe tbody tr th:only-of-type {\n",
       "        vertical-align: middle;\n",
       "    }\n",
       "\n",
       "    .dataframe tbody tr th {\n",
       "        vertical-align: top;\n",
       "    }\n",
       "\n",
       "    .dataframe thead th {\n",
       "        text-align: right;\n",
       "    }\n",
       "</style>\n",
       "<table border=\"1\" class=\"dataframe\">\n",
       "  <thead>\n",
       "    <tr style=\"text-align: right;\">\n",
       "      <th></th>\n",
       "      <th>client_id</th>\n",
       "      <th>clnt_tenure_yr</th>\n",
       "      <th>clnt_tenure_mnth</th>\n",
       "      <th>clnt_age</th>\n",
       "      <th>gendr</th>\n",
       "      <th>num_accts</th>\n",
       "      <th>bal</th>\n",
       "      <th>calls_6_mnth</th>\n",
       "      <th>logons_6_mnth</th>\n",
       "      <th>Variation</th>\n",
       "    </tr>\n",
       "  </thead>\n",
       "  <tbody>\n",
       "    <tr>\n",
       "      <th>0</th>\n",
       "      <td>836976</td>\n",
       "      <td>6.0</td>\n",
       "      <td>73.0</td>\n",
       "      <td>60.5</td>\n",
       "      <td>Unknown</td>\n",
       "      <td>2.0</td>\n",
       "      <td>45105.30</td>\n",
       "      <td>6.0</td>\n",
       "      <td>9.0</td>\n",
       "      <td>Test</td>\n",
       "    </tr>\n",
       "    <tr>\n",
       "      <th>1</th>\n",
       "      <td>2304905</td>\n",
       "      <td>7.0</td>\n",
       "      <td>94.0</td>\n",
       "      <td>58.0</td>\n",
       "      <td>Unknown</td>\n",
       "      <td>2.0</td>\n",
       "      <td>110860.30</td>\n",
       "      <td>6.0</td>\n",
       "      <td>9.0</td>\n",
       "      <td>Control</td>\n",
       "    </tr>\n",
       "    <tr>\n",
       "      <th>2</th>\n",
       "      <td>1439522</td>\n",
       "      <td>5.0</td>\n",
       "      <td>64.0</td>\n",
       "      <td>32.0</td>\n",
       "      <td>Unknown</td>\n",
       "      <td>2.0</td>\n",
       "      <td>52467.79</td>\n",
       "      <td>6.0</td>\n",
       "      <td>9.0</td>\n",
       "      <td>Test</td>\n",
       "    </tr>\n",
       "    <tr>\n",
       "      <th>3</th>\n",
       "      <td>1562045</td>\n",
       "      <td>16.0</td>\n",
       "      <td>198.0</td>\n",
       "      <td>49.0</td>\n",
       "      <td>Male</td>\n",
       "      <td>2.0</td>\n",
       "      <td>67454.65</td>\n",
       "      <td>3.0</td>\n",
       "      <td>6.0</td>\n",
       "      <td>Test</td>\n",
       "    </tr>\n",
       "    <tr>\n",
       "      <th>4</th>\n",
       "      <td>5126305</td>\n",
       "      <td>12.0</td>\n",
       "      <td>145.0</td>\n",
       "      <td>33.0</td>\n",
       "      <td>Female</td>\n",
       "      <td>2.0</td>\n",
       "      <td>103671.75</td>\n",
       "      <td>0.0</td>\n",
       "      <td>3.0</td>\n",
       "      <td>Control</td>\n",
       "    </tr>\n",
       "  </tbody>\n",
       "</table>\n",
       "</div>"
      ],
      "text/plain": [
       "   client_id  clnt_tenure_yr  clnt_tenure_mnth  clnt_age    gendr  num_accts  \\\n",
       "0     836976             6.0              73.0      60.5  Unknown        2.0   \n",
       "1    2304905             7.0              94.0      58.0  Unknown        2.0   \n",
       "2    1439522             5.0              64.0      32.0  Unknown        2.0   \n",
       "3    1562045            16.0             198.0      49.0     Male        2.0   \n",
       "4    5126305            12.0             145.0      33.0   Female        2.0   \n",
       "\n",
       "         bal  calls_6_mnth  logons_6_mnth Variation  \n",
       "0   45105.30           6.0            9.0      Test  \n",
       "1  110860.30           6.0            9.0   Control  \n",
       "2   52467.79           6.0            9.0      Test  \n",
       "3   67454.65           3.0            6.0      Test  \n",
       "4  103671.75           0.0            3.0   Control  "
      ]
     },
     "execution_count": 247,
     "metadata": {},
     "output_type": "execute_result"
    }
   ],
   "source": [
    "df_demo_cleaned = df_final_demo.dropna(subset=[\"clnt_age\", \"gendr\"])\n",
    "df_demo_cleaned[\"gendr\"] = df_demo_cleaned[\"gendr\"].map({\n",
    "    \"M\": \"Male\", \"F\": \"Female\", \"U\": \"Unknown\", \"X\": \"Other\"\n",
    "})\n",
    "\n",
    "df_merged_demo = df_demo_cleaned.merge(df_final_experiment_clients, on=\"client_id\", how=\"inner\")\n",
    "df_merged_demo.head()"
   ]
  },
  {
   "cell_type": "code",
   "execution_count": 249,
   "id": "ba1caf91-cf57-4af0-849b-adfab483d3ca",
   "metadata": {},
   "outputs": [
    {
     "name": "stdout",
     "output_type": "stream",
     "text": [
      "  Variation    count       mean        std   min   25%   50%   75%   max\n",
      "0   Control  23526.0  47.498427  15.521781  17.0  33.5  48.5  60.0  96.0\n",
      "1      Test  26961.0  47.163922  15.514461  17.0  33.5  47.5  59.5  96.0\n"
     ]
    }
   ],
   "source": [
    "# Age distribution by group (A/B)\n",
    "age_dist = df_merged_demo.groupby([\"Variation\"])[\"clnt_age\"].describe().reset_index()\n",
    "print(age_dist)"
   ]
  },
  {
   "cell_type": "code",
   "execution_count": 250,
   "id": "82b760c6-2651-460b-ba28-26563306ec7a",
   "metadata": {},
   "outputs": [
    {
     "name": "stdout",
     "output_type": "stream",
     "text": [
      "  Variation    gendr  count\n",
      "0   Control   Female   7542\n",
      "1   Control     Male   7970\n",
      "2   Control  Unknown   8014\n",
      "3      Test   Female   8716\n",
      "4      Test     Male   8977\n",
      "5      Test    Other      2\n",
      "6      Test  Unknown   9266\n"
     ]
    }
   ],
   "source": [
    "#  Breakdown by gender\n",
    "gender_dist = df_merged_demo.groupby([\"Variation\", \"gendr\"]).size().reset_index(name=\"count\")\n",
    "print(gender_dist)"
   ]
  },
  {
   "cell_type": "code",
   "execution_count": 251,
   "id": "ed64b0ab-6909-4227-90d9-09dbd60abba3",
   "metadata": {},
   "outputs": [
    {
     "name": "stdout",
     "output_type": "stream",
     "text": [
      "  Variation    avg_age\n",
      "0   Control  47.498427\n",
      "1      Test  47.163922\n"
     ]
    }
   ],
   "source": [
    "# Average age per group\n",
    "age_avg = df_merged_demo.groupby(\"Variation\")[\"clnt_age\"].mean().reset_index(name=\"avg_age\")\n",
    "print(age_avg)"
   ]
  },
  {
   "cell_type": "code",
   "execution_count": 252,
   "id": "ed28414d-108b-4614-99e0-c6e5cef33cae",
   "metadata": {},
   "outputs": [
    {
     "data": {
      "image/png": "[encoded data removed]",
      "text/plain": [
       "<Figure size 640x480 with 1 Axes>"
      ]
     },
     "metadata": {},
     "output_type": "display_data"
    }
   ],
   "source": [
    "# Age histogram or boxplots\n",
    "import seaborn as sns\n",
    "import matplotlib.pyplot as plt\n",
    "\n",
    "sns.boxplot(x=\"Variation\", y=\"clnt_age\", data=df_merged_demo)\n",
    "plt.title(\"Age distribution by Test/Control Group\")\n",
    "plt.show()\n"
   ]
  },
  {
   "cell_type": "code",
   "execution_count": 253,
   "id": "91f757c8-e9d2-4eed-8758-19489cc8749e",
   "metadata": {},
   "outputs": [],
   "source": [
    "df_merged_demo.to_csv(\"tableau_data_demographics.csv\", index=False)\n",
    "gender_dist.to_csv(\"tableau_gender_distribution.csv\", index=False)\n",
    "age_avg.to_csv(\"tableau_avg_age.csv\", index=False)"
   ]
  },
  {
   "cell_type": "code",
   "execution_count": 255,
   "id": "4e4f851f-18a0-448b-9356-f317a3baad75",
   "metadata": {},
   "outputs": [
    {
     "data": {
      "text/html": [
       "<a href='df_merged_demo.csv' target='_blank'>df_merged_demo.csv</a><br>"
      ],
      "text/plain": [
       "C:\\Users\\proprietaire\\df_merged_demo.csv"
      ]
     },
     "execution_count": 255,
     "metadata": {},
     "output_type": "execute_result"
    }
   ],
   "source": [
    "df_merged_demo.to_csv(\"df_merged_demo.csv\", index=False)\n",
    "\n",
    "from IPython.display import FileLink\n",
    "\n",
    "FileLink(\"df_merged_demo.csv\")"
   ]
  },
  {
   "cell_type": "code",
   "execution_count": null,
   "id": "26610ab3-57b6-4efd-baa9-61808ce0d2ab",
   "metadata": {},
   "outputs": [],
   "source": []
  }
 ],
 "metadata": {
  "kernelspec": {
   "display_name": "Python 3 (ipykernel)",
   "language": "python",
   "name": "python3"
  },
  "language_info": {
   "codemirror_mode": {
    "name": "ipython",
    "version": 3
   },
   "file_extension": ".py",
   "mimetype": "text/x-python",
   "name": "python",
   "nbconvert_exporter": "python",
   "pygments_lexer": "ipython3",
   "version": "3.12.7"
  }
 },
 "nbformat": 4,
 "nbformat_minor": 5
}
