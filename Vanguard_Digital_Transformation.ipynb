{
 "cells": [
  {
   "cell_type": "markdown",
   "id": "bb371031-9f02-4d67-9df0-a12df0c28c4e",
   "metadata": {},
   "source": [
    "1. Project Introduction\n",
    "2. Load & Merge Data\n",
    "3. Data Cleaning\n",
    "4. Exploratory Data Analysis (EDA)\n",
    "5. KPI Calculation\n",
    "6. Hypothesis Testing\n",
    "7. Business Insights & Recommendations\n",
    "8. Conclusion"
   ]
  },
  {
   "cell_type": "markdown",
   "id": "e922fb21-9d4f-4c2a-b9b5-73958e8f1b7c",
   "metadata": {},
   "source": [
    "# Vanguard Digital Transformation – A/B Testing Project\n",
    "\n",
    "Objective: Determine if the new user interface (Test group) improves the completion rate compared to the old one (Control group).\n",
    "Approach: Data cleaning, KPI calculation, statistical testing, visualization, and business recommendations."
   ]
  },
  {
   "cell_type": "markdown",
   "id": "193e6ce2-eccf-406d-8870-4232d24ed77f",
   "metadata": {},
   "source": [
    "<span style=\"font-size:40px\">## PART 1 - Exploration of the user path (web_data only)</span>"
   ]
  },
  {
   "cell_type": "markdown",
   "id": "7ce59539-2daf-4a39-a122-91117ec19882",
   "metadata": {},
   "source": [
    "<span style=\"font-size:32px\"># Step 1 - Import Libraries</span>"
   ]
  },
  {
   "cell_type": "code",
   "execution_count": 1,
   "id": "b4240847-6be9-4b09-9b0f-8d3f31920e4d",
   "metadata": {},
   "outputs": [],
   "source": [
    "import pandas as pd\n",
    "import numpy as np\n",
    "import matplotlib.pyplot as plt\n",
    "import seaborn as sns\n"
   ]
  },
  {
   "cell_type": "markdown",
   "id": "c7df2088-7abf-4e27-b6a6-e7608124b367",
   "metadata": {},
   "source": [
    "<span style=\"font-size:32px\"># Step 2 - Load and merge the 2 web_data files cleanly</span>"
   ]
  },
  {
   "cell_type": "code",
   "execution_count": 2,
   "id": "7facccd5-1351-4274-8ab7-c31fcb104ee5",
   "metadata": {},
   "outputs": [
    {
     "ename": "FileNotFoundError",
     "evalue": "[Errno 2] No such file or directory: 'C:\\\\Users\\\\proprietaire\\\\Desktop\\\\Mini_Project_Vanguard_Digital_Transformation\\\\df_final_demo.txt'",
     "output_type": "error",
     "traceback": [
      "\u001b[0;31m---------------------------------------------------------------------------\u001b[0m",
      "\u001b[0;31mFileNotFoundError\u001b[0m                         Traceback (most recent call last)",
      "Cell \u001b[0;32mIn[2], line 2\u001b[0m\n\u001b[1;32m      1\u001b[0m \u001b[38;5;66;03m# Transform the 'df_final_demo' txt file into a csv file\u001b[39;00m\n\u001b[0;32m----> 2\u001b[0m df \u001b[38;5;241m=\u001b[39m pd\u001b[38;5;241m.\u001b[39mread_csv(\u001b[38;5;124mr\u001b[39m\u001b[38;5;124m\"\u001b[39m\u001b[38;5;124mC:\u001b[39m\u001b[38;5;124m\\\u001b[39m\u001b[38;5;124mUsers\u001b[39m\u001b[38;5;124m\\\u001b[39m\u001b[38;5;124mproprietaire\u001b[39m\u001b[38;5;124m\\\u001b[39m\u001b[38;5;124mDesktop\u001b[39m\u001b[38;5;124m\\\u001b[39m\u001b[38;5;124mMini_Project_Vanguard_Digital_Transformation\u001b[39m\u001b[38;5;124m\\\u001b[39m\u001b[38;5;124mdf_final_demo.txt\u001b[39m\u001b[38;5;124m\"\u001b[39m)\n\u001b[1;32m      3\u001b[0m df\u001b[38;5;241m.\u001b[39mto_csv(\u001b[38;5;124m\"\u001b[39m\u001b[38;5;124mdf_final_demo.csv\u001b[39m\u001b[38;5;124m\"\u001b[39m, index\u001b[38;5;241m=\u001b[39m\u001b[38;5;28;01mFalse\u001b[39;00m)\n",
      "File \u001b[0;32m~/opt/anaconda3/lib/python3.12/site-packages/pandas/io/parsers/readers.py:1026\u001b[0m, in \u001b[0;36mread_csv\u001b[0;34m(filepath_or_buffer, sep, delimiter, header, names, index_col, usecols, dtype, engine, converters, true_values, false_values, skipinitialspace, skiprows, skipfooter, nrows, na_values, keep_default_na, na_filter, verbose, skip_blank_lines, parse_dates, infer_datetime_format, keep_date_col, date_parser, date_format, dayfirst, cache_dates, iterator, chunksize, compression, thousands, decimal, lineterminator, quotechar, quoting, doublequote, escapechar, comment, encoding, encoding_errors, dialect, on_bad_lines, delim_whitespace, low_memory, memory_map, float_precision, storage_options, dtype_backend)\u001b[0m\n\u001b[1;32m   1013\u001b[0m kwds_defaults \u001b[38;5;241m=\u001b[39m _refine_defaults_read(\n\u001b[1;32m   1014\u001b[0m     dialect,\n\u001b[1;32m   1015\u001b[0m     delimiter,\n\u001b[0;32m   (...)\u001b[0m\n\u001b[1;32m   1022\u001b[0m     dtype_backend\u001b[38;5;241m=\u001b[39mdtype_backend,\n\u001b[1;32m   1023\u001b[0m )\n\u001b[1;32m   1024\u001b[0m kwds\u001b[38;5;241m.\u001b[39mupdate(kwds_defaults)\n\u001b[0;32m-> 1026\u001b[0m \u001b[38;5;28;01mreturn\u001b[39;00m _read(filepath_or_buffer, kwds)\n",
      "File \u001b[0;32m~/opt/anaconda3/lib/python3.12/site-packages/pandas/io/parsers/readers.py:620\u001b[0m, in \u001b[0;36m_read\u001b[0;34m(filepath_or_buffer, kwds)\u001b[0m\n\u001b[1;32m    617\u001b[0m _validate_names(kwds\u001b[38;5;241m.\u001b[39mget(\u001b[38;5;124m\"\u001b[39m\u001b[38;5;124mnames\u001b[39m\u001b[38;5;124m\"\u001b[39m, \u001b[38;5;28;01mNone\u001b[39;00m))\n\u001b[1;32m    619\u001b[0m \u001b[38;5;66;03m# Create the parser.\u001b[39;00m\n\u001b[0;32m--> 620\u001b[0m parser \u001b[38;5;241m=\u001b[39m TextFileReader(filepath_or_buffer, \u001b[38;5;241m*\u001b[39m\u001b[38;5;241m*\u001b[39mkwds)\n\u001b[1;32m    622\u001b[0m \u001b[38;5;28;01mif\u001b[39;00m chunksize \u001b[38;5;129;01mor\u001b[39;00m iterator:\n\u001b[1;32m    623\u001b[0m     \u001b[38;5;28;01mreturn\u001b[39;00m parser\n",
      "File \u001b[0;32m~/opt/anaconda3/lib/python3.12/site-packages/pandas/io/parsers/readers.py:1620\u001b[0m, in \u001b[0;36mTextFileReader.__init__\u001b[0;34m(self, f, engine, **kwds)\u001b[0m\n\u001b[1;32m   1617\u001b[0m     \u001b[38;5;28mself\u001b[39m\u001b[38;5;241m.\u001b[39moptions[\u001b[38;5;124m\"\u001b[39m\u001b[38;5;124mhas_index_names\u001b[39m\u001b[38;5;124m\"\u001b[39m] \u001b[38;5;241m=\u001b[39m kwds[\u001b[38;5;124m\"\u001b[39m\u001b[38;5;124mhas_index_names\u001b[39m\u001b[38;5;124m\"\u001b[39m]\n\u001b[1;32m   1619\u001b[0m \u001b[38;5;28mself\u001b[39m\u001b[38;5;241m.\u001b[39mhandles: IOHandles \u001b[38;5;241m|\u001b[39m \u001b[38;5;28;01mNone\u001b[39;00m \u001b[38;5;241m=\u001b[39m \u001b[38;5;28;01mNone\u001b[39;00m\n\u001b[0;32m-> 1620\u001b[0m \u001b[38;5;28mself\u001b[39m\u001b[38;5;241m.\u001b[39m_engine \u001b[38;5;241m=\u001b[39m \u001b[38;5;28mself\u001b[39m\u001b[38;5;241m.\u001b[39m_make_engine(f, \u001b[38;5;28mself\u001b[39m\u001b[38;5;241m.\u001b[39mengine)\n",
      "File \u001b[0;32m~/opt/anaconda3/lib/python3.12/site-packages/pandas/io/parsers/readers.py:1880\u001b[0m, in \u001b[0;36mTextFileReader._make_engine\u001b[0;34m(self, f, engine)\u001b[0m\n\u001b[1;32m   1878\u001b[0m     \u001b[38;5;28;01mif\u001b[39;00m \u001b[38;5;124m\"\u001b[39m\u001b[38;5;124mb\u001b[39m\u001b[38;5;124m\"\u001b[39m \u001b[38;5;129;01mnot\u001b[39;00m \u001b[38;5;129;01min\u001b[39;00m mode:\n\u001b[1;32m   1879\u001b[0m         mode \u001b[38;5;241m+\u001b[39m\u001b[38;5;241m=\u001b[39m \u001b[38;5;124m\"\u001b[39m\u001b[38;5;124mb\u001b[39m\u001b[38;5;124m\"\u001b[39m\n\u001b[0;32m-> 1880\u001b[0m \u001b[38;5;28mself\u001b[39m\u001b[38;5;241m.\u001b[39mhandles \u001b[38;5;241m=\u001b[39m get_handle(\n\u001b[1;32m   1881\u001b[0m     f,\n\u001b[1;32m   1882\u001b[0m     mode,\n\u001b[1;32m   1883\u001b[0m     encoding\u001b[38;5;241m=\u001b[39m\u001b[38;5;28mself\u001b[39m\u001b[38;5;241m.\u001b[39moptions\u001b[38;5;241m.\u001b[39mget(\u001b[38;5;124m\"\u001b[39m\u001b[38;5;124mencoding\u001b[39m\u001b[38;5;124m\"\u001b[39m, \u001b[38;5;28;01mNone\u001b[39;00m),\n\u001b[1;32m   1884\u001b[0m     compression\u001b[38;5;241m=\u001b[39m\u001b[38;5;28mself\u001b[39m\u001b[38;5;241m.\u001b[39moptions\u001b[38;5;241m.\u001b[39mget(\u001b[38;5;124m\"\u001b[39m\u001b[38;5;124mcompression\u001b[39m\u001b[38;5;124m\"\u001b[39m, \u001b[38;5;28;01mNone\u001b[39;00m),\n\u001b[1;32m   1885\u001b[0m     memory_map\u001b[38;5;241m=\u001b[39m\u001b[38;5;28mself\u001b[39m\u001b[38;5;241m.\u001b[39moptions\u001b[38;5;241m.\u001b[39mget(\u001b[38;5;124m\"\u001b[39m\u001b[38;5;124mmemory_map\u001b[39m\u001b[38;5;124m\"\u001b[39m, \u001b[38;5;28;01mFalse\u001b[39;00m),\n\u001b[1;32m   1886\u001b[0m     is_text\u001b[38;5;241m=\u001b[39mis_text,\n\u001b[1;32m   1887\u001b[0m     errors\u001b[38;5;241m=\u001b[39m\u001b[38;5;28mself\u001b[39m\u001b[38;5;241m.\u001b[39moptions\u001b[38;5;241m.\u001b[39mget(\u001b[38;5;124m\"\u001b[39m\u001b[38;5;124mencoding_errors\u001b[39m\u001b[38;5;124m\"\u001b[39m, \u001b[38;5;124m\"\u001b[39m\u001b[38;5;124mstrict\u001b[39m\u001b[38;5;124m\"\u001b[39m),\n\u001b[1;32m   1888\u001b[0m     storage_options\u001b[38;5;241m=\u001b[39m\u001b[38;5;28mself\u001b[39m\u001b[38;5;241m.\u001b[39moptions\u001b[38;5;241m.\u001b[39mget(\u001b[38;5;124m\"\u001b[39m\u001b[38;5;124mstorage_options\u001b[39m\u001b[38;5;124m\"\u001b[39m, \u001b[38;5;28;01mNone\u001b[39;00m),\n\u001b[1;32m   1889\u001b[0m )\n\u001b[1;32m   1890\u001b[0m \u001b[38;5;28;01massert\u001b[39;00m \u001b[38;5;28mself\u001b[39m\u001b[38;5;241m.\u001b[39mhandles \u001b[38;5;129;01mis\u001b[39;00m \u001b[38;5;129;01mnot\u001b[39;00m \u001b[38;5;28;01mNone\u001b[39;00m\n\u001b[1;32m   1891\u001b[0m f \u001b[38;5;241m=\u001b[39m \u001b[38;5;28mself\u001b[39m\u001b[38;5;241m.\u001b[39mhandles\u001b[38;5;241m.\u001b[39mhandle\n",
      "File \u001b[0;32m~/opt/anaconda3/lib/python3.12/site-packages/pandas/io/common.py:873\u001b[0m, in \u001b[0;36mget_handle\u001b[0;34m(path_or_buf, mode, encoding, compression, memory_map, is_text, errors, storage_options)\u001b[0m\n\u001b[1;32m    868\u001b[0m \u001b[38;5;28;01melif\u001b[39;00m \u001b[38;5;28misinstance\u001b[39m(handle, \u001b[38;5;28mstr\u001b[39m):\n\u001b[1;32m    869\u001b[0m     \u001b[38;5;66;03m# Check whether the filename is to be opened in binary mode.\u001b[39;00m\n\u001b[1;32m    870\u001b[0m     \u001b[38;5;66;03m# Binary mode does not support 'encoding' and 'newline'.\u001b[39;00m\n\u001b[1;32m    871\u001b[0m     \u001b[38;5;28;01mif\u001b[39;00m ioargs\u001b[38;5;241m.\u001b[39mencoding \u001b[38;5;129;01mand\u001b[39;00m \u001b[38;5;124m\"\u001b[39m\u001b[38;5;124mb\u001b[39m\u001b[38;5;124m\"\u001b[39m \u001b[38;5;129;01mnot\u001b[39;00m \u001b[38;5;129;01min\u001b[39;00m ioargs\u001b[38;5;241m.\u001b[39mmode:\n\u001b[1;32m    872\u001b[0m         \u001b[38;5;66;03m# Encoding\u001b[39;00m\n\u001b[0;32m--> 873\u001b[0m         handle \u001b[38;5;241m=\u001b[39m \u001b[38;5;28mopen\u001b[39m(\n\u001b[1;32m    874\u001b[0m             handle,\n\u001b[1;32m    875\u001b[0m             ioargs\u001b[38;5;241m.\u001b[39mmode,\n\u001b[1;32m    876\u001b[0m             encoding\u001b[38;5;241m=\u001b[39mioargs\u001b[38;5;241m.\u001b[39mencoding,\n\u001b[1;32m    877\u001b[0m             errors\u001b[38;5;241m=\u001b[39merrors,\n\u001b[1;32m    878\u001b[0m             newline\u001b[38;5;241m=\u001b[39m\u001b[38;5;124m\"\u001b[39m\u001b[38;5;124m\"\u001b[39m,\n\u001b[1;32m    879\u001b[0m         )\n\u001b[1;32m    880\u001b[0m     \u001b[38;5;28;01melse\u001b[39;00m:\n\u001b[1;32m    881\u001b[0m         \u001b[38;5;66;03m# Binary mode\u001b[39;00m\n\u001b[1;32m    882\u001b[0m         handle \u001b[38;5;241m=\u001b[39m \u001b[38;5;28mopen\u001b[39m(handle, ioargs\u001b[38;5;241m.\u001b[39mmode)\n",
      "\u001b[0;31mFileNotFoundError\u001b[0m: [Errno 2] No such file or directory: 'C:\\\\Users\\\\proprietaire\\\\Desktop\\\\Mini_Project_Vanguard_Digital_Transformation\\\\df_final_demo.txt'"
     ]
    }
   ],
   "source": [
    "# Transform the 'df_final_demo' txt file into a csv file\n",
    "df = pd.read_csv(r\"C:\\Users\\proprietaire\\Desktop\\Mini_Project_Vanguard_Digital_Transformation\\df_final_demo.txt\")\n",
    "df.to_csv(\"df_final_demo.csv\", index=False)"
   ]
  },
  {
   "cell_type": "code",
   "execution_count": null,
   "id": "63327770-30ef-409b-8cb7-867e3b13f803",
   "metadata": {},
   "outputs": [
    {
     "data": {
      "text/html": [
       "<a href='df_final_demo.csv' target='_blank'>df_final_demo.csv</a><br>"
      ],
      "text/plain": [
       "C:\\Users\\proprietaire\\df_final_demo.csv"
      ]
     },
     "execution_count": 38,
     "metadata": {},
     "output_type": "execute_result"
    }
   ],
   "source": [
    "# Display the 'df_final_demo' csv file\n",
    "\n",
    "from IPython.display import FileLink\n",
    "\n",
    "FileLink(\"df_final_demo.csv\")\n"
   ]
  },
  {
   "cell_type": "code",
   "execution_count": null,
   "id": "33d24579-55ea-42c3-8222-91d09b386ff1",
   "metadata": {},
   "outputs": [],
   "source": [
    "# Transform the 'df_final_web_data_pt_1' txt file into a csv file\n",
    "\n",
    "import pandas as pd\n",
    "\n",
    "df = pd.read_csv(r\"C:\\Users\\proprietaire\\Desktop\\Mini_Project_Vanguard_Digital_Transformation\\df_final_web_data_pt_1.txt\")\n",
    "df.to_csv(\"df_final_web_data_pt_1.csv\", index=False)"
   ]
  },
  {
   "cell_type": "code",
   "execution_count": null,
   "id": "3ac57d7d-2e70-490d-a543-3c8f0affcc1d",
   "metadata": {},
   "outputs": [
    {
     "data": {
      "text/html": [
       "<a href='df_final_web_data_pt_1.csv' target='_blank'>df_final_web_data_pt_1.csv</a><br>"
      ],
      "text/plain": [
       "C:\\Users\\proprietaire\\df_final_web_data_pt_1.csv"
      ]
     },
     "execution_count": 41,
     "metadata": {},
     "output_type": "execute_result"
    }
   ],
   "source": [
    "# Display the 'df_final_web_data_pt_1' csv file\n",
    "\n",
    "from IPython.display import FileLink\n",
    "\n",
    "FileLink(\"df_final_web_data_pt_1.csv\")\n"
   ]
  },
  {
   "cell_type": "code",
   "execution_count": null,
   "id": "ac8e1ef9-ca2c-4b24-a35a-87db96f2d13a",
   "metadata": {},
   "outputs": [],
   "source": [
    "# Transform the 'df_final_web_data_pt_2' txt file into a csv file\n",
    "\n",
    "import pandas as pd\n",
    "\n",
    "df = pd.read_csv(r\"C:\\Users\\proprietaire\\Desktop\\Mini_Project_Vanguard_Digital_Transformation\\df_final_web_data_pt_2.txt\")\n",
    "df.to_csv(\"df_final_web_data_pt_2.csv\", index=False)"
   ]
  },
  {
   "cell_type": "code",
   "execution_count": null,
   "id": "24d88fc9-bf3a-4e9c-95f7-3bc97e37de12",
   "metadata": {},
   "outputs": [
    {
     "data": {
      "text/html": [
       "<a href='df_final_web_data_pt_2.csv' target='_blank'>df_final_web_data_pt_2.csv</a><br>"
      ],
      "text/plain": [
       "C:\\Users\\proprietaire\\df_final_web_data_pt_2.csv"
      ]
     },
     "execution_count": 43,
     "metadata": {},
     "output_type": "execute_result"
    }
   ],
   "source": [
    "# Display the 'df_final_web_data_pt_2' csv file\n",
    "\n",
    "from IPython.display import FileLink\n",
    "\n",
    "FileLink(\"df_final_web_data_pt_2.csv\")"
   ]
  },
  {
   "cell_type": "code",
   "execution_count": null,
   "id": "78859b18-096b-46bc-b961-b85aab261a04",
   "metadata": {},
   "outputs": [],
   "source": [
    "import pandas as pd\n",
    "\n",
    "# Upload the two files\n",
    "df1 = pd.read_csv(r\"C:\\Users\\proprietaire\\Desktop\\Mini_Project_Vanguard_Digital_Transformation\\df_final_web_data_pt_1.csv\")\n",
    "df2 = pd.read_csv(r\"C:\\Users\\proprietaire\\Desktop\\Mini_Project_Vanguard_Digital_Transformation\\df_final_web_data_pt_2.csv\")\n"
   ]
  },
  {
   "cell_type": "code",
   "execution_count": null,
   "id": "245a6d94-2298-4be6-9d85-11aa5224287e",
   "metadata": {},
   "outputs": [
    {
     "name": "stdout",
     "output_type": "stream",
     "text": [
      "Index(['client_id', 'visitor_id', 'visit_id', 'process_step', 'date_time'], dtype='object')\n",
      "Index(['client_id', 'visitor_id', 'visit_id', 'process_step', 'date_time'], dtype='object')\n"
     ]
    }
   ],
   "source": [
    "# Check that they have the same columns\n",
    "print(df1.columns)\n",
    "print(df2.columns)"
   ]
  },
  {
   "cell_type": "code",
   "execution_count": null,
   "id": "0b70a065-03b7-482e-9988-262e3c3fee48",
   "metadata": {},
   "outputs": [],
   "source": [
    "# Transform the 'df_final_web_data_pt_1' txt file into a csv file\n",
    "import pandas as pd\n",
    "\n",
    "df = pd.read_csv(r\"C:\\Users\\proprietaire\\Desktop\\Mini_Project_Vanguard_Digital_Transformation\\df_final_experiment_clients.txt\")\n",
    "df.to_csv(\"df_final_experiment_clients.csv\", index=False)"
   ]
  },
  {
   "cell_type": "code",
   "execution_count": null,
   "id": "da6d20ce-6c03-4030-984f-bc0a91871e82",
   "metadata": {},
   "outputs": [],
   "source": [
    "# Merge the two files\n",
    "df_web = pd.concat([df1, df2], ignore_index=True)"
   ]
  },
  {
   "cell_type": "code",
   "execution_count": null,
   "id": "ababaade-ca87-40a0-ac49-91a57d961929",
   "metadata": {},
   "outputs": [
    {
     "data": {
      "text/html": [
       "<div>\n",
       "<style scoped>\n",
       "    .dataframe tbody tr th:only-of-type {\n",
       "        vertical-align: middle;\n",
       "    }\n",
       "\n",
       "    .dataframe tbody tr th {\n",
       "        vertical-align: top;\n",
       "    }\n",
       "\n",
       "    .dataframe thead th {\n",
       "        text-align: right;\n",
       "    }\n",
       "</style>\n",
       "<table border=\"1\" class=\"dataframe\">\n",
       "  <thead>\n",
       "    <tr style=\"text-align: right;\">\n",
       "      <th></th>\n",
       "      <th>client_id</th>\n",
       "      <th>visitor_id</th>\n",
       "      <th>visit_id</th>\n",
       "      <th>process_step</th>\n",
       "      <th>date_time</th>\n",
       "    </tr>\n",
       "  </thead>\n",
       "  <tbody>\n",
       "    <tr>\n",
       "      <th>0</th>\n",
       "      <td>9988021</td>\n",
       "      <td>580560515_7732621733</td>\n",
       "      <td>781255054_21935453173_531117</td>\n",
       "      <td>step_3</td>\n",
       "      <td>2017-04-17 15:27:07</td>\n",
       "    </tr>\n",
       "    <tr>\n",
       "      <th>1</th>\n",
       "      <td>9988021</td>\n",
       "      <td>580560515_7732621733</td>\n",
       "      <td>781255054_21935453173_531117</td>\n",
       "      <td>step_2</td>\n",
       "      <td>2017-04-17 15:26:51</td>\n",
       "    </tr>\n",
       "    <tr>\n",
       "      <th>2</th>\n",
       "      <td>9988021</td>\n",
       "      <td>580560515_7732621733</td>\n",
       "      <td>781255054_21935453173_531117</td>\n",
       "      <td>step_3</td>\n",
       "      <td>2017-04-17 15:19:22</td>\n",
       "    </tr>\n",
       "    <tr>\n",
       "      <th>3</th>\n",
       "      <td>9988021</td>\n",
       "      <td>580560515_7732621733</td>\n",
       "      <td>781255054_21935453173_531117</td>\n",
       "      <td>step_2</td>\n",
       "      <td>2017-04-17 15:19:13</td>\n",
       "    </tr>\n",
       "    <tr>\n",
       "      <th>4</th>\n",
       "      <td>9988021</td>\n",
       "      <td>580560515_7732621733</td>\n",
       "      <td>781255054_21935453173_531117</td>\n",
       "      <td>step_3</td>\n",
       "      <td>2017-04-17 15:18:04</td>\n",
       "    </tr>\n",
       "  </tbody>\n",
       "</table>\n",
       "</div>"
      ],
      "text/plain": [
       "   client_id            visitor_id                      visit_id process_step  \\\n",
       "0    9988021  580560515_7732621733  781255054_21935453173_531117       step_3   \n",
       "1    9988021  580560515_7732621733  781255054_21935453173_531117       step_2   \n",
       "2    9988021  580560515_7732621733  781255054_21935453173_531117       step_3   \n",
       "3    9988021  580560515_7732621733  781255054_21935453173_531117       step_2   \n",
       "4    9988021  580560515_7732621733  781255054_21935453173_531117       step_3   \n",
       "\n",
       "             date_time  \n",
       "0  2017-04-17 15:27:07  \n",
       "1  2017-04-17 15:26:51  \n",
       "2  2017-04-17 15:19:22  \n",
       "3  2017-04-17 15:19:13  \n",
       "4  2017-04-17 15:18:04  "
      ]
     },
     "execution_count": 48,
     "metadata": {},
     "output_type": "execute_result"
    }
   ],
   "source": [
    "# Print the first lines\n",
    "df_web.head()"
   ]
  },
  {
   "cell_type": "code",
   "execution_count": null,
   "id": "d464f3df-7a9f-411f-a2dd-5e2f26fbf3da",
   "metadata": {},
   "outputs": [
    {
     "data": {
      "text/html": [
       "<div>\n",
       "<style scoped>\n",
       "    .dataframe tbody tr th:only-of-type {\n",
       "        vertical-align: middle;\n",
       "    }\n",
       "\n",
       "    .dataframe tbody tr th {\n",
       "        vertical-align: top;\n",
       "    }\n",
       "\n",
       "    .dataframe thead th {\n",
       "        text-align: right;\n",
       "    }\n",
       "</style>\n",
       "<table border=\"1\" class=\"dataframe\">\n",
       "  <thead>\n",
       "    <tr style=\"text-align: right;\">\n",
       "      <th></th>\n",
       "      <th>client_id</th>\n",
       "      <th>visitor_id</th>\n",
       "      <th>visit_id</th>\n",
       "      <th>process_step</th>\n",
       "      <th>date_time</th>\n",
       "      <th>date</th>\n",
       "      <th>time_diff</th>\n",
       "    </tr>\n",
       "  </thead>\n",
       "  <tbody>\n",
       "    <tr>\n",
       "      <th>285515</th>\n",
       "      <td>169</td>\n",
       "      <td>201385055_71273495308</td>\n",
       "      <td>749567106_99161211863_557568</td>\n",
       "      <td>start</td>\n",
       "      <td>2017-04-12 20:19:36</td>\n",
       "      <td>2017-04-12</td>\n",
       "      <td>NaN</td>\n",
       "    </tr>\n",
       "    <tr>\n",
       "      <th>285514</th>\n",
       "      <td>169</td>\n",
       "      <td>201385055_71273495308</td>\n",
       "      <td>749567106_99161211863_557568</td>\n",
       "      <td>step_1</td>\n",
       "      <td>2017-04-12 20:19:45</td>\n",
       "      <td>2017-04-12</td>\n",
       "      <td>9.0</td>\n",
       "    </tr>\n",
       "    <tr>\n",
       "      <th>285513</th>\n",
       "      <td>169</td>\n",
       "      <td>201385055_71273495308</td>\n",
       "      <td>749567106_99161211863_557568</td>\n",
       "      <td>step_2</td>\n",
       "      <td>2017-04-12 20:20:31</td>\n",
       "      <td>2017-04-12</td>\n",
       "      <td>46.0</td>\n",
       "    </tr>\n",
       "    <tr>\n",
       "      <th>285512</th>\n",
       "      <td>169</td>\n",
       "      <td>201385055_71273495308</td>\n",
       "      <td>749567106_99161211863_557568</td>\n",
       "      <td>step_3</td>\n",
       "      <td>2017-04-12 20:22:05</td>\n",
       "      <td>2017-04-12</td>\n",
       "      <td>94.0</td>\n",
       "    </tr>\n",
       "    <tr>\n",
       "      <th>285511</th>\n",
       "      <td>169</td>\n",
       "      <td>201385055_71273495308</td>\n",
       "      <td>749567106_99161211863_557568</td>\n",
       "      <td>confirm</td>\n",
       "      <td>2017-04-12 20:23:09</td>\n",
       "      <td>2017-04-12</td>\n",
       "      <td>64.0</td>\n",
       "    </tr>\n",
       "    <tr>\n",
       "      <th>628456</th>\n",
       "      <td>336</td>\n",
       "      <td>64757908_3400128256</td>\n",
       "      <td>649044751_80905125055_554468</td>\n",
       "      <td>start</td>\n",
       "      <td>2017-06-01 07:26:55</td>\n",
       "      <td>2017-06-01</td>\n",
       "      <td>NaN</td>\n",
       "    </tr>\n",
       "    <tr>\n",
       "      <th>628331</th>\n",
       "      <td>336</td>\n",
       "      <td>64757908_3400128256</td>\n",
       "      <td>649044751_80905125055_554468</td>\n",
       "      <td>start</td>\n",
       "      <td>2017-06-01 07:42:43</td>\n",
       "      <td>2017-06-01</td>\n",
       "      <td>948.0</td>\n",
       "    </tr>\n",
       "    <tr>\n",
       "      <th>442853</th>\n",
       "      <td>546</td>\n",
       "      <td>475037402_89828530214</td>\n",
       "      <td>731811517_9330176838_94847</td>\n",
       "      <td>confirm</td>\n",
       "      <td>2017-06-17 10:05:42</td>\n",
       "      <td>2017-06-17</td>\n",
       "      <td>23.0</td>\n",
       "    </tr>\n",
       "    <tr>\n",
       "      <th>442854</th>\n",
       "      <td>546</td>\n",
       "      <td>475037402_89828530214</td>\n",
       "      <td>731811517_9330176838_94847</td>\n",
       "      <td>step_3</td>\n",
       "      <td>2017-06-17 10:05:19</td>\n",
       "      <td>2017-06-17</td>\n",
       "      <td>87.0</td>\n",
       "    </tr>\n",
       "    <tr>\n",
       "      <th>442855</th>\n",
       "      <td>546</td>\n",
       "      <td>475037402_89828530214</td>\n",
       "      <td>731811517_9330176838_94847</td>\n",
       "      <td>step_2</td>\n",
       "      <td>2017-06-17 10:03:52</td>\n",
       "      <td>2017-06-17</td>\n",
       "      <td>13.0</td>\n",
       "    </tr>\n",
       "    <tr>\n",
       "      <th>442856</th>\n",
       "      <td>546</td>\n",
       "      <td>475037402_89828530214</td>\n",
       "      <td>731811517_9330176838_94847</td>\n",
       "      <td>step_1</td>\n",
       "      <td>2017-06-17 10:03:39</td>\n",
       "      <td>2017-06-17</td>\n",
       "      <td>10.0</td>\n",
       "    </tr>\n",
       "    <tr>\n",
       "      <th>442857</th>\n",
       "      <td>546</td>\n",
       "      <td>475037402_89828530214</td>\n",
       "      <td>731811517_9330176838_94847</td>\n",
       "      <td>start</td>\n",
       "      <td>2017-06-17 10:03:29</td>\n",
       "      <td>2017-06-17</td>\n",
       "      <td>NaN</td>\n",
       "    </tr>\n",
       "    <tr>\n",
       "      <th>72018</th>\n",
       "      <td>555</td>\n",
       "      <td>402506806_56087378777</td>\n",
       "      <td>637149525_38041617439_716659</td>\n",
       "      <td>start</td>\n",
       "      <td>2017-04-15 12:57:56</td>\n",
       "      <td>2017-04-15</td>\n",
       "      <td>NaN</td>\n",
       "    </tr>\n",
       "    <tr>\n",
       "      <th>72017</th>\n",
       "      <td>555</td>\n",
       "      <td>402506806_56087378777</td>\n",
       "      <td>637149525_38041617439_716659</td>\n",
       "      <td>step_1</td>\n",
       "      <td>2017-04-15 12:58:03</td>\n",
       "      <td>2017-04-15</td>\n",
       "      <td>7.0</td>\n",
       "    </tr>\n",
       "    <tr>\n",
       "      <th>72016</th>\n",
       "      <td>555</td>\n",
       "      <td>402506806_56087378777</td>\n",
       "      <td>637149525_38041617439_716659</td>\n",
       "      <td>step_2</td>\n",
       "      <td>2017-04-15 12:58:35</td>\n",
       "      <td>2017-04-15</td>\n",
       "      <td>32.0</td>\n",
       "    </tr>\n",
       "    <tr>\n",
       "      <th>72015</th>\n",
       "      <td>555</td>\n",
       "      <td>402506806_56087378777</td>\n",
       "      <td>637149525_38041617439_716659</td>\n",
       "      <td>step_3</td>\n",
       "      <td>2017-04-15 13:00:14</td>\n",
       "      <td>2017-04-15</td>\n",
       "      <td>99.0</td>\n",
       "    </tr>\n",
       "    <tr>\n",
       "      <th>72014</th>\n",
       "      <td>555</td>\n",
       "      <td>402506806_56087378777</td>\n",
       "      <td>637149525_38041617439_716659</td>\n",
       "      <td>confirm</td>\n",
       "      <td>2017-04-15 13:00:34</td>\n",
       "      <td>2017-04-15</td>\n",
       "      <td>20.0</td>\n",
       "    </tr>\n",
       "    <tr>\n",
       "      <th>138176</th>\n",
       "      <td>647</td>\n",
       "      <td>66758770_53988066587</td>\n",
       "      <td>40369564_40101682850_311847</td>\n",
       "      <td>confirm</td>\n",
       "      <td>2017-04-12 15:47:45</td>\n",
       "      <td>2017-04-12</td>\n",
       "      <td>163.0</td>\n",
       "    </tr>\n",
       "    <tr>\n",
       "      <th>138180</th>\n",
       "      <td>647</td>\n",
       "      <td>66758770_53988066587</td>\n",
       "      <td>40369564_40101682850_311847</td>\n",
       "      <td>step_2</td>\n",
       "      <td>2017-04-12 15:41:53</td>\n",
       "      <td>2017-04-12</td>\n",
       "      <td>18.0</td>\n",
       "    </tr>\n",
       "    <tr>\n",
       "      <th>138179</th>\n",
       "      <td>647</td>\n",
       "      <td>66758770_53988066587</td>\n",
       "      <td>40369564_40101682850_311847</td>\n",
       "      <td>step_3</td>\n",
       "      <td>2017-04-12 15:45:02</td>\n",
       "      <td>2017-04-12</td>\n",
       "      <td>189.0</td>\n",
       "    </tr>\n",
       "    <tr>\n",
       "      <th>138182</th>\n",
       "      <td>647</td>\n",
       "      <td>66758770_53988066587</td>\n",
       "      <td>40369564_40101682850_311847</td>\n",
       "      <td>start</td>\n",
       "      <td>2017-04-12 15:41:28</td>\n",
       "      <td>2017-04-12</td>\n",
       "      <td>NaN</td>\n",
       "    </tr>\n",
       "    <tr>\n",
       "      <th>138181</th>\n",
       "      <td>647</td>\n",
       "      <td>66758770_53988066587</td>\n",
       "      <td>40369564_40101682850_311847</td>\n",
       "      <td>step_1</td>\n",
       "      <td>2017-04-12 15:41:35</td>\n",
       "      <td>2017-04-12</td>\n",
       "      <td>7.0</td>\n",
       "    </tr>\n",
       "    <tr>\n",
       "      <th>245492</th>\n",
       "      <td>722</td>\n",
       "      <td>919259913_64837298108</td>\n",
       "      <td>984487154_55831795985_521110</td>\n",
       "      <td>confirm</td>\n",
       "      <td>2017-04-19 15:00:09</td>\n",
       "      <td>2017-04-19</td>\n",
       "      <td>162.0</td>\n",
       "    </tr>\n",
       "    <tr>\n",
       "      <th>245493</th>\n",
       "      <td>722</td>\n",
       "      <td>919259913_64837298108</td>\n",
       "      <td>984487154_55831795985_521110</td>\n",
       "      <td>step_3</td>\n",
       "      <td>2017-04-19 14:57:27</td>\n",
       "      <td>2017-04-19</td>\n",
       "      <td>50.0</td>\n",
       "    </tr>\n",
       "    <tr>\n",
       "      <th>245495</th>\n",
       "      <td>722</td>\n",
       "      <td>919259913_64837298108</td>\n",
       "      <td>984487154_55831795985_521110</td>\n",
       "      <td>step_1</td>\n",
       "      <td>2017-04-19 14:56:18</td>\n",
       "      <td>2017-04-19</td>\n",
       "      <td>2.0</td>\n",
       "    </tr>\n",
       "    <tr>\n",
       "      <th>245496</th>\n",
       "      <td>722</td>\n",
       "      <td>919259913_64837298108</td>\n",
       "      <td>984487154_55831795985_521110</td>\n",
       "      <td>start</td>\n",
       "      <td>2017-04-19 14:56:16</td>\n",
       "      <td>2017-04-19</td>\n",
       "      <td>304.0</td>\n",
       "    </tr>\n",
       "    <tr>\n",
       "      <th>245494</th>\n",
       "      <td>722</td>\n",
       "      <td>919259913_64837298108</td>\n",
       "      <td>984487154_55831795985_521110</td>\n",
       "      <td>step_2</td>\n",
       "      <td>2017-04-19 14:56:37</td>\n",
       "      <td>2017-04-19</td>\n",
       "      <td>19.0</td>\n",
       "    </tr>\n",
       "    <tr>\n",
       "      <th>245498</th>\n",
       "      <td>722</td>\n",
       "      <td>919259913_64837298108</td>\n",
       "      <td>984487154_55831795985_521110</td>\n",
       "      <td>step_2</td>\n",
       "      <td>2017-04-19 14:50:56</td>\n",
       "      <td>2017-04-19</td>\n",
       "      <td>36.0</td>\n",
       "    </tr>\n",
       "    <tr>\n",
       "      <th>245499</th>\n",
       "      <td>722</td>\n",
       "      <td>919259913_64837298108</td>\n",
       "      <td>984487154_55831795985_521110</td>\n",
       "      <td>step_1</td>\n",
       "      <td>2017-04-19 14:50:20</td>\n",
       "      <td>2017-04-19</td>\n",
       "      <td>10.0</td>\n",
       "    </tr>\n",
       "    <tr>\n",
       "      <th>245500</th>\n",
       "      <td>722</td>\n",
       "      <td>919259913_64837298108</td>\n",
       "      <td>984487154_55831795985_521110</td>\n",
       "      <td>start</td>\n",
       "      <td>2017-04-19 14:50:10</td>\n",
       "      <td>2017-04-19</td>\n",
       "      <td>NaN</td>\n",
       "    </tr>\n",
       "    <tr>\n",
       "      <th>245497</th>\n",
       "      <td>722</td>\n",
       "      <td>919259913_64837298108</td>\n",
       "      <td>984487154_55831795985_521110</td>\n",
       "      <td>step_1</td>\n",
       "      <td>2017-04-19 14:51:12</td>\n",
       "      <td>2017-04-19</td>\n",
       "      <td>16.0</td>\n",
       "    </tr>\n",
       "    <tr>\n",
       "      <th>444039</th>\n",
       "      <td>786</td>\n",
       "      <td>439747392_30293505155</td>\n",
       "      <td>640294664_79662229470_499394</td>\n",
       "      <td>confirm</td>\n",
       "      <td>2017-06-01 11:05:34</td>\n",
       "      <td>2017-06-01</td>\n",
       "      <td>86.0</td>\n",
       "    </tr>\n",
       "    <tr>\n",
       "      <th>444044</th>\n",
       "      <td>786</td>\n",
       "      <td>439747392_30293505155</td>\n",
       "      <td>640294664_79662229470_499394</td>\n",
       "      <td>start</td>\n",
       "      <td>2017-06-01 11:00:22</td>\n",
       "      <td>2017-06-01</td>\n",
       "      <td>NaN</td>\n",
       "    </tr>\n",
       "    <tr>\n",
       "      <th>444043</th>\n",
       "      <td>786</td>\n",
       "      <td>439747392_30293505155</td>\n",
       "      <td>640294664_79662229470_499394</td>\n",
       "      <td>start</td>\n",
       "      <td>2017-06-01 11:01:20</td>\n",
       "      <td>2017-06-01</td>\n",
       "      <td>58.0</td>\n",
       "    </tr>\n",
       "    <tr>\n",
       "      <th>444042</th>\n",
       "      <td>786</td>\n",
       "      <td>439747392_30293505155</td>\n",
       "      <td>640294664_79662229470_499394</td>\n",
       "      <td>step_1</td>\n",
       "      <td>2017-06-01 11:01:26</td>\n",
       "      <td>2017-06-01</td>\n",
       "      <td>6.0</td>\n",
       "    </tr>\n",
       "    <tr>\n",
       "      <th>444041</th>\n",
       "      <td>786</td>\n",
       "      <td>439747392_30293505155</td>\n",
       "      <td>640294664_79662229470_499394</td>\n",
       "      <td>step_2</td>\n",
       "      <td>2017-06-01 11:03:28</td>\n",
       "      <td>2017-06-01</td>\n",
       "      <td>122.0</td>\n",
       "    </tr>\n",
       "    <tr>\n",
       "      <th>444040</th>\n",
       "      <td>786</td>\n",
       "      <td>439747392_30293505155</td>\n",
       "      <td>640294664_79662229470_499394</td>\n",
       "      <td>step_3</td>\n",
       "      <td>2017-06-01 11:04:08</td>\n",
       "      <td>2017-06-01</td>\n",
       "      <td>40.0</td>\n",
       "    </tr>\n",
       "    <tr>\n",
       "      <th>594427</th>\n",
       "      <td>805</td>\n",
       "      <td>831412807_82548325803</td>\n",
       "      <td>451173196_11661340552_563345</td>\n",
       "      <td>start</td>\n",
       "      <td>2017-06-15 19:11:28</td>\n",
       "      <td>2017-06-15</td>\n",
       "      <td>7.0</td>\n",
       "    </tr>\n",
       "    <tr>\n",
       "      <th>594428</th>\n",
       "      <td>805</td>\n",
       "      <td>831412807_82548325803</td>\n",
       "      <td>451173196_11661340552_563345</td>\n",
       "      <td>step_2</td>\n",
       "      <td>2017-06-15 19:11:21</td>\n",
       "      <td>2017-06-15</td>\n",
       "      <td>115.0</td>\n",
       "    </tr>\n",
       "    <tr>\n",
       "      <th>594491</th>\n",
       "      <td>805</td>\n",
       "      <td>831412807_82548325803</td>\n",
       "      <td>72221519_52513154978_430287</td>\n",
       "      <td>start</td>\n",
       "      <td>2017-06-17 19:23:17</td>\n",
       "      <td>2017-06-17</td>\n",
       "      <td>173509.0</td>\n",
       "    </tr>\n",
       "    <tr>\n",
       "      <th>594429</th>\n",
       "      <td>805</td>\n",
       "      <td>831412807_82548325803</td>\n",
       "      <td>451173196_11661340552_563345</td>\n",
       "      <td>step_2</td>\n",
       "      <td>2017-06-15 19:09:26</td>\n",
       "      <td>2017-06-15</td>\n",
       "      <td>7.0</td>\n",
       "    </tr>\n",
       "    <tr>\n",
       "      <th>594490</th>\n",
       "      <td>805</td>\n",
       "      <td>831412807_82548325803</td>\n",
       "      <td>72221519_52513154978_430287</td>\n",
       "      <td>step_1</td>\n",
       "      <td>2017-06-17 19:23:20</td>\n",
       "      <td>2017-06-17</td>\n",
       "      <td>3.0</td>\n",
       "    </tr>\n",
       "    <tr>\n",
       "      <th>594431</th>\n",
       "      <td>805</td>\n",
       "      <td>831412807_82548325803</td>\n",
       "      <td>451173196_11661340552_563345</td>\n",
       "      <td>start</td>\n",
       "      <td>2017-06-15 19:09:13</td>\n",
       "      <td>2017-06-15</td>\n",
       "      <td>669444.0</td>\n",
       "    </tr>\n",
       "    <tr>\n",
       "      <th>594420</th>\n",
       "      <td>805</td>\n",
       "      <td>831412807_82548325803</td>\n",
       "      <td>905546080_75813398358_250101</td>\n",
       "      <td>step_1</td>\n",
       "      <td>2017-06-08 01:11:49</td>\n",
       "      <td>2017-06-08</td>\n",
       "      <td>80.0</td>\n",
       "    </tr>\n",
       "    <tr>\n",
       "      <th>594421</th>\n",
       "      <td>805</td>\n",
       "      <td>831412807_82548325803</td>\n",
       "      <td>905546080_75813398358_250101</td>\n",
       "      <td>start</td>\n",
       "      <td>2017-06-08 01:10:29</td>\n",
       "      <td>2017-06-08</td>\n",
       "      <td>NaN</td>\n",
       "    </tr>\n",
       "    <tr>\n",
       "      <th>594430</th>\n",
       "      <td>805</td>\n",
       "      <td>831412807_82548325803</td>\n",
       "      <td>451173196_11661340552_563345</td>\n",
       "      <td>step_1</td>\n",
       "      <td>2017-06-15 19:09:19</td>\n",
       "      <td>2017-06-15</td>\n",
       "      <td>6.0</td>\n",
       "    </tr>\n",
       "    <tr>\n",
       "      <th>505108</th>\n",
       "      <td>832</td>\n",
       "      <td>645971208_10952400740</td>\n",
       "      <td>704999523_65579948030_431837</td>\n",
       "      <td>start</td>\n",
       "      <td>2017-06-16 10:38:38</td>\n",
       "      <td>2017-06-16</td>\n",
       "      <td>NaN</td>\n",
       "    </tr>\n",
       "    <tr>\n",
       "      <th>505107</th>\n",
       "      <td>832</td>\n",
       "      <td>645971208_10952400740</td>\n",
       "      <td>704999523_65579948030_431837</td>\n",
       "      <td>step_1</td>\n",
       "      <td>2017-06-16 10:38:47</td>\n",
       "      <td>2017-06-16</td>\n",
       "      <td>9.0</td>\n",
       "    </tr>\n",
       "    <tr>\n",
       "      <th>505106</th>\n",
       "      <td>832</td>\n",
       "      <td>645971208_10952400740</td>\n",
       "      <td>704999523_65579948030_431837</td>\n",
       "      <td>step_2</td>\n",
       "      <td>2017-06-16 10:39:19</td>\n",
       "      <td>2017-06-16</td>\n",
       "      <td>32.0</td>\n",
       "    </tr>\n",
       "    <tr>\n",
       "      <th>505105</th>\n",
       "      <td>832</td>\n",
       "      <td>645971208_10952400740</td>\n",
       "      <td>704999523_65579948030_431837</td>\n",
       "      <td>step_1</td>\n",
       "      <td>2017-06-16 10:39:30</td>\n",
       "      <td>2017-06-16</td>\n",
       "      <td>11.0</td>\n",
       "    </tr>\n",
       "    <tr>\n",
       "      <th>505104</th>\n",
       "      <td>832</td>\n",
       "      <td>645971208_10952400740</td>\n",
       "      <td>704999523_65579948030_431837</td>\n",
       "      <td>step_2</td>\n",
       "      <td>2017-06-16 10:39:49</td>\n",
       "      <td>2017-06-16</td>\n",
       "      <td>19.0</td>\n",
       "    </tr>\n",
       "    <tr>\n",
       "      <th>505103</th>\n",
       "      <td>832</td>\n",
       "      <td>645971208_10952400740</td>\n",
       "      <td>704999523_65579948030_431837</td>\n",
       "      <td>step_3</td>\n",
       "      <td>2017-06-16 10:40:18</td>\n",
       "      <td>2017-06-16</td>\n",
       "      <td>29.0</td>\n",
       "    </tr>\n",
       "    <tr>\n",
       "      <th>505102</th>\n",
       "      <td>832</td>\n",
       "      <td>645971208_10952400740</td>\n",
       "      <td>704999523_65579948030_431837</td>\n",
       "      <td>confirm</td>\n",
       "      <td>2017-06-16 10:40:52</td>\n",
       "      <td>2017-06-16</td>\n",
       "      <td>34.0</td>\n",
       "    </tr>\n",
       "    <tr>\n",
       "      <th>62620</th>\n",
       "      <td>934</td>\n",
       "      <td>810392784_45004760546</td>\n",
       "      <td>7076463_57954418406_971348</td>\n",
       "      <td>start</td>\n",
       "      <td>2017-04-18 02:38:52</td>\n",
       "      <td>2017-04-18</td>\n",
       "      <td>28.0</td>\n",
       "    </tr>\n",
       "    <tr>\n",
       "      <th>62621</th>\n",
       "      <td>934</td>\n",
       "      <td>810392784_45004760546</td>\n",
       "      <td>7076463_57954418406_971348</td>\n",
       "      <td>start</td>\n",
       "      <td>2017-04-18 02:38:24</td>\n",
       "      <td>2017-04-18</td>\n",
       "      <td>82.0</td>\n",
       "    </tr>\n",
       "    <tr>\n",
       "      <th>62622</th>\n",
       "      <td>934</td>\n",
       "      <td>810392784_45004760546</td>\n",
       "      <td>7076463_57954418406_971348</td>\n",
       "      <td>start</td>\n",
       "      <td>2017-04-18 02:37:02</td>\n",
       "      <td>2017-04-18</td>\n",
       "      <td>32.0</td>\n",
       "    </tr>\n",
       "    <tr>\n",
       "      <th>62623</th>\n",
       "      <td>934</td>\n",
       "      <td>810392784_45004760546</td>\n",
       "      <td>7076463_57954418406_971348</td>\n",
       "      <td>start</td>\n",
       "      <td>2017-04-18 02:36:30</td>\n",
       "      <td>2017-04-18</td>\n",
       "      <td>NaN</td>\n",
       "    </tr>\n",
       "    <tr>\n",
       "      <th>132376</th>\n",
       "      <td>1028</td>\n",
       "      <td>42237450_62128060588</td>\n",
       "      <td>557292053_87239438319_391157</td>\n",
       "      <td>start</td>\n",
       "      <td>2017-04-08 18:51:28</td>\n",
       "      <td>2017-04-08</td>\n",
       "      <td>NaN</td>\n",
       "    </tr>\n",
       "    <tr>\n",
       "      <th>132375</th>\n",
       "      <td>1028</td>\n",
       "      <td>42237450_62128060588</td>\n",
       "      <td>557292053_87239438319_391157</td>\n",
       "      <td>step_1</td>\n",
       "      <td>2017-04-08 18:52:17</td>\n",
       "      <td>2017-04-08</td>\n",
       "      <td>49.0</td>\n",
       "    </tr>\n",
       "    <tr>\n",
       "      <th>132374</th>\n",
       "      <td>1028</td>\n",
       "      <td>42237450_62128060588</td>\n",
       "      <td>557292053_87239438319_391157</td>\n",
       "      <td>step_1</td>\n",
       "      <td>2017-04-08 18:53:20</td>\n",
       "      <td>2017-04-08</td>\n",
       "      <td>63.0</td>\n",
       "    </tr>\n",
       "  </tbody>\n",
       "</table>\n",
       "</div>"
      ],
      "text/plain": [
       "        client_id             visitor_id                      visit_id  \\\n",
       "285515        169  201385055_71273495308  749567106_99161211863_557568   \n",
       "285514        169  201385055_71273495308  749567106_99161211863_557568   \n",
       "285513        169  201385055_71273495308  749567106_99161211863_557568   \n",
       "285512        169  201385055_71273495308  749567106_99161211863_557568   \n",
       "285511        169  201385055_71273495308  749567106_99161211863_557568   \n",
       "628456        336    64757908_3400128256  649044751_80905125055_554468   \n",
       "628331        336    64757908_3400128256  649044751_80905125055_554468   \n",
       "442853        546  475037402_89828530214    731811517_9330176838_94847   \n",
       "442854        546  475037402_89828530214    731811517_9330176838_94847   \n",
       "442855        546  475037402_89828530214    731811517_9330176838_94847   \n",
       "442856        546  475037402_89828530214    731811517_9330176838_94847   \n",
       "442857        546  475037402_89828530214    731811517_9330176838_94847   \n",
       "72018         555  402506806_56087378777  637149525_38041617439_716659   \n",
       "72017         555  402506806_56087378777  637149525_38041617439_716659   \n",
       "72016         555  402506806_56087378777  637149525_38041617439_716659   \n",
       "72015         555  402506806_56087378777  637149525_38041617439_716659   \n",
       "72014         555  402506806_56087378777  637149525_38041617439_716659   \n",
       "138176        647   66758770_53988066587   40369564_40101682850_311847   \n",
       "138180        647   66758770_53988066587   40369564_40101682850_311847   \n",
       "138179        647   66758770_53988066587   40369564_40101682850_311847   \n",
       "138182        647   66758770_53988066587   40369564_40101682850_311847   \n",
       "138181        647   66758770_53988066587   40369564_40101682850_311847   \n",
       "245492        722  919259913_64837298108  984487154_55831795985_521110   \n",
       "245493        722  919259913_64837298108  984487154_55831795985_521110   \n",
       "245495        722  919259913_64837298108  984487154_55831795985_521110   \n",
       "245496        722  919259913_64837298108  984487154_55831795985_521110   \n",
       "245494        722  919259913_64837298108  984487154_55831795985_521110   \n",
       "245498        722  919259913_64837298108  984487154_55831795985_521110   \n",
       "245499        722  919259913_64837298108  984487154_55831795985_521110   \n",
       "245500        722  919259913_64837298108  984487154_55831795985_521110   \n",
       "245497        722  919259913_64837298108  984487154_55831795985_521110   \n",
       "444039        786  439747392_30293505155  640294664_79662229470_499394   \n",
       "444044        786  439747392_30293505155  640294664_79662229470_499394   \n",
       "444043        786  439747392_30293505155  640294664_79662229470_499394   \n",
       "444042        786  439747392_30293505155  640294664_79662229470_499394   \n",
       "444041        786  439747392_30293505155  640294664_79662229470_499394   \n",
       "444040        786  439747392_30293505155  640294664_79662229470_499394   \n",
       "594427        805  831412807_82548325803  451173196_11661340552_563345   \n",
       "594428        805  831412807_82548325803  451173196_11661340552_563345   \n",
       "594491        805  831412807_82548325803   72221519_52513154978_430287   \n",
       "594429        805  831412807_82548325803  451173196_11661340552_563345   \n",
       "594490        805  831412807_82548325803   72221519_52513154978_430287   \n",
       "594431        805  831412807_82548325803  451173196_11661340552_563345   \n",
       "594420        805  831412807_82548325803  905546080_75813398358_250101   \n",
       "594421        805  831412807_82548325803  905546080_75813398358_250101   \n",
       "594430        805  831412807_82548325803  451173196_11661340552_563345   \n",
       "505108        832  645971208_10952400740  704999523_65579948030_431837   \n",
       "505107        832  645971208_10952400740  704999523_65579948030_431837   \n",
       "505106        832  645971208_10952400740  704999523_65579948030_431837   \n",
       "505105        832  645971208_10952400740  704999523_65579948030_431837   \n",
       "505104        832  645971208_10952400740  704999523_65579948030_431837   \n",
       "505103        832  645971208_10952400740  704999523_65579948030_431837   \n",
       "505102        832  645971208_10952400740  704999523_65579948030_431837   \n",
       "62620         934  810392784_45004760546    7076463_57954418406_971348   \n",
       "62621         934  810392784_45004760546    7076463_57954418406_971348   \n",
       "62622         934  810392784_45004760546    7076463_57954418406_971348   \n",
       "62623         934  810392784_45004760546    7076463_57954418406_971348   \n",
       "132376       1028   42237450_62128060588  557292053_87239438319_391157   \n",
       "132375       1028   42237450_62128060588  557292053_87239438319_391157   \n",
       "132374       1028   42237450_62128060588  557292053_87239438319_391157   \n",
       "\n",
       "       process_step           date_time        date  time_diff  \n",
       "285515        start 2017-04-12 20:19:36  2017-04-12        NaN  \n",
       "285514       step_1 2017-04-12 20:19:45  2017-04-12        9.0  \n",
       "285513       step_2 2017-04-12 20:20:31  2017-04-12       46.0  \n",
       "285512       step_3 2017-04-12 20:22:05  2017-04-12       94.0  \n",
       "285511      confirm 2017-04-12 20:23:09  2017-04-12       64.0  \n",
       "628456        start 2017-06-01 07:26:55  2017-06-01        NaN  \n",
       "628331        start 2017-06-01 07:42:43  2017-06-01      948.0  \n",
       "442853      confirm 2017-06-17 10:05:42  2017-06-17       23.0  \n",
       "442854       step_3 2017-06-17 10:05:19  2017-06-17       87.0  \n",
       "442855       step_2 2017-06-17 10:03:52  2017-06-17       13.0  \n",
       "442856       step_1 2017-06-17 10:03:39  2017-06-17       10.0  \n",
       "442857        start 2017-06-17 10:03:29  2017-06-17        NaN  \n",
       "72018         start 2017-04-15 12:57:56  2017-04-15        NaN  \n",
       "72017        step_1 2017-04-15 12:58:03  2017-04-15        7.0  \n",
       "72016        step_2 2017-04-15 12:58:35  2017-04-15       32.0  \n",
       "72015        step_3 2017-04-15 13:00:14  2017-04-15       99.0  \n",
       "72014       confirm 2017-04-15 13:00:34  2017-04-15       20.0  \n",
       "138176      confirm 2017-04-12 15:47:45  2017-04-12      163.0  \n",
       "138180       step_2 2017-04-12 15:41:53  2017-04-12       18.0  \n",
       "138179       step_3 2017-04-12 15:45:02  2017-04-12      189.0  \n",
       "138182        start 2017-04-12 15:41:28  2017-04-12        NaN  \n",
       "138181       step_1 2017-04-12 15:41:35  2017-04-12        7.0  \n",
       "245492      confirm 2017-04-19 15:00:09  2017-04-19      162.0  \n",
       "245493       step_3 2017-04-19 14:57:27  2017-04-19       50.0  \n",
       "245495       step_1 2017-04-19 14:56:18  2017-04-19        2.0  \n",
       "245496        start 2017-04-19 14:56:16  2017-04-19      304.0  \n",
       "245494       step_2 2017-04-19 14:56:37  2017-04-19       19.0  \n",
       "245498       step_2 2017-04-19 14:50:56  2017-04-19       36.0  \n",
       "245499       step_1 2017-04-19 14:50:20  2017-04-19       10.0  \n",
       "245500        start 2017-04-19 14:50:10  2017-04-19        NaN  \n",
       "245497       step_1 2017-04-19 14:51:12  2017-04-19       16.0  \n",
       "444039      confirm 2017-06-01 11:05:34  2017-06-01       86.0  \n",
       "444044        start 2017-06-01 11:00:22  2017-06-01        NaN  \n",
       "444043        start 2017-06-01 11:01:20  2017-06-01       58.0  \n",
       "444042       step_1 2017-06-01 11:01:26  2017-06-01        6.0  \n",
       "444041       step_2 2017-06-01 11:03:28  2017-06-01      122.0  \n",
       "444040       step_3 2017-06-01 11:04:08  2017-06-01       40.0  \n",
       "594427        start 2017-06-15 19:11:28  2017-06-15        7.0  \n",
       "594428       step_2 2017-06-15 19:11:21  2017-06-15      115.0  \n",
       "594491        start 2017-06-17 19:23:17  2017-06-17   173509.0  \n",
       "594429       step_2 2017-06-15 19:09:26  2017-06-15        7.0  \n",
       "594490       step_1 2017-06-17 19:23:20  2017-06-17        3.0  \n",
       "594431        start 2017-06-15 19:09:13  2017-06-15   669444.0  \n",
       "594420       step_1 2017-06-08 01:11:49  2017-06-08       80.0  \n",
       "594421        start 2017-06-08 01:10:29  2017-06-08        NaN  \n",
       "594430       step_1 2017-06-15 19:09:19  2017-06-15        6.0  \n",
       "505108        start 2017-06-16 10:38:38  2017-06-16        NaN  \n",
       "505107       step_1 2017-06-16 10:38:47  2017-06-16        9.0  \n",
       "505106       step_2 2017-06-16 10:39:19  2017-06-16       32.0  \n",
       "505105       step_1 2017-06-16 10:39:30  2017-06-16       11.0  \n",
       "505104       step_2 2017-06-16 10:39:49  2017-06-16       19.0  \n",
       "505103       step_3 2017-06-16 10:40:18  2017-06-16       29.0  \n",
       "505102      confirm 2017-06-16 10:40:52  2017-06-16       34.0  \n",
       "62620         start 2017-04-18 02:38:52  2017-04-18       28.0  \n",
       "62621         start 2017-04-18 02:38:24  2017-04-18       82.0  \n",
       "62622         start 2017-04-18 02:37:02  2017-04-18       32.0  \n",
       "62623         start 2017-04-18 02:36:30  2017-04-18        NaN  \n",
       "132376        start 2017-04-08 18:51:28  2017-04-08        NaN  \n",
       "132375       step_1 2017-04-08 18:52:17  2017-04-08       49.0  \n",
       "132374       step_1 2017-04-08 18:53:20  2017-04-08       63.0  "
      ]
     },
     "execution_count": 132,
     "metadata": {},
     "output_type": "execute_result"
    }
   ],
   "source": [
    "df_web.sort_values(by=\"client_id\").head(60)"
   ]
  },
  {
   "cell_type": "code",
   "execution_count": null,
   "id": "b54e99cc-c838-46c3-b8a3-8d5d35bcc271",
   "metadata": {},
   "outputs": [
    {
     "data": {
      "text/html": [
       "<a href='df_final_web_data_merged.csv' target='_blank'>df_final_web_data_merged.csv</a><br>"
      ],
      "text/plain": [
       "C:\\Users\\proprietaire\\df_final_web_data_merged.csv"
      ]
     },
     "execution_count": 133,
     "metadata": {},
     "output_type": "execute_result"
    }
   ],
   "source": [
    "df_web.to_csv(\"df_final_web_data_merged.csv\", index=False)\n",
    "\n",
    "from IPython.display import FileLink\n",
    "\n",
    "FileLink(\"df_final_web_data_merged.csv\")"
   ]
  },
  {
   "cell_type": "markdown",
   "id": "c34605df-f4d3-4363-a228-e8590adf59ed",
   "metadata": {},
   "source": [
    "<span style=\"font-size:32px\"># Step 3 - Exploring the dataset</span>"
   ]
  },
  {
   "cell_type": "code",
   "execution_count": null,
   "id": "899dfb96-1f45-43e1-9da2-b6e843c13482",
   "metadata": {},
   "outputs": [
    {
     "data": {
      "text/plain": [
       "(744641, 7)"
      ]
     },
     "execution_count": 134,
     "metadata": {},
     "output_type": "execute_result"
    }
   ],
   "source": [
    "# Displays the total number of rows and columns in the DataFrame\n",
    "\n",
    "df_web.shape"
   ]
  },
  {
   "cell_type": "code",
   "execution_count": null,
   "id": "e3f78719-2b62-4db9-b821-45606654dad8",
   "metadata": {},
   "outputs": [
    {
     "name": "stdout",
     "output_type": "stream",
     "text": [
      "<class 'pandas.core.frame.DataFrame'>\n",
      "Index: 744641 entries, 285515 to 648529\n",
      "Data columns (total 7 columns):\n",
      " #   Column        Non-Null Count   Dtype         \n",
      "---  ------        --------------   -----         \n",
      " 0   client_id     744641 non-null  int64         \n",
      " 1   visitor_id    744641 non-null  object        \n",
      " 2   visit_id      744641 non-null  object        \n",
      " 3   process_step  744641 non-null  object        \n",
      " 4   date_time     744641 non-null  datetime64[ns]\n",
      " 5   date          744641 non-null  object        \n",
      " 6   time_diff     624484 non-null  float64       \n",
      "dtypes: datetime64[ns](1), float64(1), int64(1), object(4)\n",
      "memory usage: 45.4+ MB\n"
     ]
    }
   ],
   "source": [
    "# Gives general information about the DataFrame: column names, data types and number of non-zero values\n",
    "\n",
    "df_web.info()"
   ]
  },
  {
   "cell_type": "code",
   "execution_count": null,
   "id": "b7c869d2-46ef-47ac-9972-6f58e10cf7e9",
   "metadata": {},
   "outputs": [
    {
     "data": {
      "text/html": [
       "<div>\n",
       "<style scoped>\n",
       "    .dataframe tbody tr th:only-of-type {\n",
       "        vertical-align: middle;\n",
       "    }\n",
       "\n",
       "    .dataframe tbody tr th {\n",
       "        vertical-align: top;\n",
       "    }\n",
       "\n",
       "    .dataframe thead th {\n",
       "        text-align: right;\n",
       "    }\n",
       "</style>\n",
       "<table border=\"1\" class=\"dataframe\">\n",
       "  <thead>\n",
       "    <tr style=\"text-align: right;\">\n",
       "      <th></th>\n",
       "      <th>client_id</th>\n",
       "      <th>visitor_id</th>\n",
       "      <th>visit_id</th>\n",
       "      <th>process_step</th>\n",
       "      <th>date_time</th>\n",
       "      <th>date</th>\n",
       "      <th>time_diff</th>\n",
       "    </tr>\n",
       "  </thead>\n",
       "  <tbody>\n",
       "    <tr>\n",
       "      <th>count</th>\n",
       "      <td>7.446410e+05</td>\n",
       "      <td>744641</td>\n",
       "      <td>744641</td>\n",
       "      <td>744641</td>\n",
       "      <td>744641</td>\n",
       "      <td>744641</td>\n",
       "      <td>6.244840e+05</td>\n",
       "    </tr>\n",
       "    <tr>\n",
       "      <th>unique</th>\n",
       "      <td>NaN</td>\n",
       "      <td>130236</td>\n",
       "      <td>158095</td>\n",
       "      <td>5</td>\n",
       "      <td>NaN</td>\n",
       "      <td>98</td>\n",
       "      <td>NaN</td>\n",
       "    </tr>\n",
       "    <tr>\n",
       "      <th>top</th>\n",
       "      <td>NaN</td>\n",
       "      <td>699275239_82397698587</td>\n",
       "      <td>712824876_8175482950_365042</td>\n",
       "      <td>start</td>\n",
       "      <td>NaN</td>\n",
       "      <td>2017-03-29</td>\n",
       "      <td>NaN</td>\n",
       "    </tr>\n",
       "    <tr>\n",
       "      <th>freq</th>\n",
       "      <td>NaN</td>\n",
       "      <td>74</td>\n",
       "      <td>61</td>\n",
       "      <td>234999</td>\n",
       "      <td>NaN</td>\n",
       "      <td>45713</td>\n",
       "      <td>NaN</td>\n",
       "    </tr>\n",
       "    <tr>\n",
       "      <th>mean</th>\n",
       "      <td>5.014059e+06</td>\n",
       "      <td>NaN</td>\n",
       "      <td>NaN</td>\n",
       "      <td>NaN</td>\n",
       "      <td>2017-05-07 20:56:25.995346944</td>\n",
       "      <td>NaN</td>\n",
       "      <td>5.723273e+04</td>\n",
       "    </tr>\n",
       "    <tr>\n",
       "      <th>min</th>\n",
       "      <td>1.690000e+02</td>\n",
       "      <td>NaN</td>\n",
       "      <td>NaN</td>\n",
       "      <td>NaN</td>\n",
       "      <td>2017-03-15 00:03:03</td>\n",
       "      <td>NaN</td>\n",
       "      <td>0.000000e+00</td>\n",
       "    </tr>\n",
       "    <tr>\n",
       "      <th>25%</th>\n",
       "      <td>2.521851e+06</td>\n",
       "      <td>NaN</td>\n",
       "      <td>NaN</td>\n",
       "      <td>NaN</td>\n",
       "      <td>2017-04-08 16:57:49</td>\n",
       "      <td>NaN</td>\n",
       "      <td>1.400000e+01</td>\n",
       "    </tr>\n",
       "    <tr>\n",
       "      <th>50%</th>\n",
       "      <td>5.031965e+06</td>\n",
       "      <td>NaN</td>\n",
       "      <td>NaN</td>\n",
       "      <td>NaN</td>\n",
       "      <td>2017-05-11 23:29:48</td>\n",
       "      <td>NaN</td>\n",
       "      <td>3.900000e+01</td>\n",
       "    </tr>\n",
       "    <tr>\n",
       "      <th>75%</th>\n",
       "      <td>7.497388e+06</td>\n",
       "      <td>NaN</td>\n",
       "      <td>NaN</td>\n",
       "      <td>NaN</td>\n",
       "      <td>2017-06-03 12:12:46</td>\n",
       "      <td>NaN</td>\n",
       "      <td>1.000000e+02</td>\n",
       "    </tr>\n",
       "    <tr>\n",
       "      <th>max</th>\n",
       "      <td>9.999875e+06</td>\n",
       "      <td>NaN</td>\n",
       "      <td>NaN</td>\n",
       "      <td>NaN</td>\n",
       "      <td>2017-06-20 23:59:57</td>\n",
       "      <td>NaN</td>\n",
       "      <td>8.373840e+06</td>\n",
       "    </tr>\n",
       "    <tr>\n",
       "      <th>std</th>\n",
       "      <td>2.879588e+06</td>\n",
       "      <td>NaN</td>\n",
       "      <td>NaN</td>\n",
       "      <td>NaN</td>\n",
       "      <td>NaN</td>\n",
       "      <td>NaN</td>\n",
       "      <td>4.003669e+05</td>\n",
       "    </tr>\n",
       "  </tbody>\n",
       "</table>\n",
       "</div>"
      ],
      "text/plain": [
       "           client_id             visitor_id                     visit_id  \\\n",
       "count   7.446410e+05                 744641                       744641   \n",
       "unique           NaN                 130236                       158095   \n",
       "top              NaN  699275239_82397698587  712824876_8175482950_365042   \n",
       "freq             NaN                     74                           61   \n",
       "mean    5.014059e+06                    NaN                          NaN   \n",
       "min     1.690000e+02                    NaN                          NaN   \n",
       "25%     2.521851e+06                    NaN                          NaN   \n",
       "50%     5.031965e+06                    NaN                          NaN   \n",
       "75%     7.497388e+06                    NaN                          NaN   \n",
       "max     9.999875e+06                    NaN                          NaN   \n",
       "std     2.879588e+06                    NaN                          NaN   \n",
       "\n",
       "       process_step                      date_time        date     time_diff  \n",
       "count        744641                         744641      744641  6.244840e+05  \n",
       "unique            5                            NaN          98           NaN  \n",
       "top           start                            NaN  2017-03-29           NaN  \n",
       "freq         234999                            NaN       45713           NaN  \n",
       "mean            NaN  2017-05-07 20:56:25.995346944         NaN  5.723273e+04  \n",
       "min             NaN            2017-03-15 00:03:03         NaN  0.000000e+00  \n",
       "25%             NaN            2017-04-08 16:57:49         NaN  1.400000e+01  \n",
       "50%             NaN            2017-05-11 23:29:48         NaN  3.900000e+01  \n",
       "75%             NaN            2017-06-03 12:12:46         NaN  1.000000e+02  \n",
       "max             NaN            2017-06-20 23:59:57         NaN  8.373840e+06  \n",
       "std             NaN                            NaN         NaN  4.003669e+05  "
      ]
     },
     "execution_count": 108,
     "metadata": {},
     "output_type": "execute_result"
    }
   ],
   "source": [
    "# Provides descriptive statistics on all columns, whether numerical or categorical\n",
    "\n",
    "df_web.describe(include=\"all\")"
   ]
  },
  {
   "cell_type": "code",
   "execution_count": null,
   "id": "84ea3bbe-ecd5-43ed-bc12-dcb69fe1d1de",
   "metadata": {},
   "outputs": [
    {
     "data": {
      "text/plain": [
       "Index(['client_id', 'visitor_id', 'visit_id', 'process_step', 'date_time'], dtype='object')"
      ]
     },
     "execution_count": 68,
     "metadata": {},
     "output_type": "execute_result"
    }
   ],
   "source": [
    "# Lists all the column names in the DataFrame\n",
    "\n",
    "df_web.columns"
   ]
  },
  {
   "cell_type": "markdown",
   "id": "81dabc47-4aa8-4368-8bc1-f6c84d12e7b6",
   "metadata": {},
   "source": [
    "<span style=\"font-size:32px\"># Step 4 - Simple, visual cleaning</span>"
   ]
  },
  {
   "cell_type": "code",
   "execution_count": null,
   "id": "9aa59f60-484e-4a79-babd-fdd2ec23cf2d",
   "metadata": {},
   "outputs": [
    {
     "data": {
      "text/plain": [
       "client_id            0\n",
       "visitor_id           0\n",
       "visit_id             0\n",
       "process_step         0\n",
       "date_time            0\n",
       "date                 0\n",
       "time_diff       120157\n",
       "dtype: int64"
      ]
     },
     "execution_count": 109,
     "metadata": {},
     "output_type": "execute_result"
    }
   ],
   "source": [
    "# Displays the number of missing values for each column in the DataFrame\n",
    "\n",
    "df_web.isnull().sum()"
   ]
  },
  {
   "cell_type": "code",
   "execution_count": null,
   "id": "92e2b2c2-bc8d-4bf6-a72f-a2e07b65ed1d",
   "metadata": {},
   "outputs": [],
   "source": [
    "# Deletes duplicate lines if the same record appears more than once\n",
    "df_web = df_web.drop_duplicates()"
   ]
  },
  {
   "cell_type": "code",
   "execution_count": null,
   "id": "f6872252-2448-498e-8d9f-3c273e2fa4fb",
   "metadata": {},
   "outputs": [],
   "source": [
    "# Converts the 'date_time' column into datetime format to allow calculations of duration or chronological sorting\n",
    "\n",
    "df_web[\"date_time\"] = pd.to_datetime(df_web[\"date_time\"])"
   ]
  },
  {
   "cell_type": "markdown",
   "id": "3abb5f4f-dbc2-48d4-9e28-b101a9909302",
   "metadata": {},
   "source": [
    " `# Stage 5 - Visualisation of the user journey and number of customers`"
   ]
  },
  {
   "cell_type": "markdown",
   "id": "84cd650a-a70c-4bc2-842f-cb470487ef8d",
   "metadata": {},
   "source": [
    "<span style=\"font-size:32px\"># Step 5 - Visualisation of the user journey and number of customers</span>"
   ]
  },
  {
   "cell_type": "code",
   "execution_count": null,
   "id": "1e793876-afb2-4f07-85a7-bb91cc08224d",
   "metadata": {},
   "outputs": [
    {
     "name": "stderr",
     "output_type": "stream",
     "text": [
      "C:\\Users\\proprietaire\\AppData\\Local\\Temp\\ipykernel_16180\\2106872874.py:9: FutureWarning: \n",
      "\n",
      "Passing `palette` without assigning `hue` is deprecated and will be removed in v0.14.0. Assign the `x` variable to `hue` and set `legend=False` for the same effect.\n",
      "\n",
      "  ax = sns.countplot(\n"
     ]
    },
    {
     "data": {
      "image/png": "[encoded data removed]",
      "text/plain": [
       "<Figure size 800x500 with 1 Axes>"
      ]
     },
     "metadata": {},
     "output_type": "display_data"
    }
   ],
   "source": [
    "import matplotlib.pyplot as plt\n",
    "import seaborn as sns\n",
    "\n",
    "# Reset global font styles (if you used bold before)\n",
    "plt.rcdefaults()\n",
    "\n",
    "# Create the chart\n",
    "plt.figure(figsize=(8,5))\n",
    "ax = sns.countplot(\n",
    "    data=df_web,\n",
    "    x=\"process_step\",\n",
    "    order=df_web[\"process_step\"].value_counts().index,\n",
    "    palette=\"Set2\"\n",
    ")\n",
    "\n",
    "# Add values above the bars (in normal style)\n",
    "for container in ax.containers:\n",
    "    ax.bar_label(container, fmt='%d', label_type='edge', fontsize=11)\n",
    "\n",
    "# Title in bold only\n",
    "plt.title(\"Number of Interactions per Stage of the Process\", fontsize=14, fontweight='bold')\n",
    "\n",
    "# Axis labels in normal style\n",
    "plt.xlabel(\"Process_step\", fontsize=12, fontweight='normal')\n",
    "plt.ylabel(\"Count\", fontsize=12, fontweight='normal')\n",
    "plt.xticks(rotation=45)\n",
    "\n",
    "plt.tight_layout()\n",
    "plt.show()\n"
   ]
  },
  {
   "cell_type": "code",
   "execution_count": null,
   "id": "6d69766c-a588-47e8-847a-0a9a45eddf94",
   "metadata": {},
   "outputs": [
    {
     "data": {
      "text/plain": [
       "120157"
      ]
     },
     "execution_count": 87,
     "metadata": {},
     "output_type": "execute_result"
    }
   ],
   "source": [
    "# Displays the total number of unique customers in the web dataset\n",
    "df_web[\"client_id\"].nunique()"
   ]
  },
  {
   "cell_type": "code",
   "execution_count": null,
   "id": "495e4742-06f0-4e30-bc0f-8944fd4d930e",
   "metadata": {},
   "outputs": [
    {
     "data": {
      "image/png": "[encoded data removed]",
      "text/plain": [
       "<Figure size 1000x400 with 1 Axes>"
      ]
     },
     "metadata": {},
     "output_type": "display_data"
    }
   ],
   "source": [
    "# Add a “date” column only\n",
    "df_web[\"date\"] = df_web[\"date_time\"].dt.date\n",
    "\n",
    "# Number of interactions per day\n",
    "df_by_day = df_web.groupby(\"date\").size()\n",
    "\n",
    "# Draw the curve\n",
    "plt.figure(figsize=(10,4))\n",
    "df_by_day.plot()\n",
    "plt.title(\"Number of Interactions Per Day\", fontweight=\"bold\")\n",
    "plt.xlabel(\"Date\")\n",
    "plt.ylabel(\"Number of interactions\")\n",
    "plt.grid(True)\n",
    "plt.tight_layout()\n",
    "plt.show()\n"
   ]
  },
  {
   "cell_type": "code",
   "execution_count": null,
   "id": "9e627374-cef5-4fa1-a9c1-3f6bc6c55aeb",
   "metadata": {},
   "outputs": [
    {
     "data": {
      "image/png": "[encoded data removed]",
      "text/plain": [
       "<Figure size 800x500 with 1 Axes>"
      ]
     },
     "metadata": {},
     "output_type": "display_data"
    }
   ],
   "source": [
    "import matplotlib.pyplot as plt\n",
    "\n",
    "# Group average times by stage\n",
    "avg_time_by_step = df_web.groupby(\"process_step\")[\"time_diff\"].mean()\n",
    "\n",
    "# Drawing the plot\n",
    "plt.figure(figsize=(8, 5))\n",
    "bars = plt.bar(avg_time_by_step.index, avg_time_by_step.values, color='skyblue')\n",
    "\n",
    "# Add numerical values above the bars\n",
    "for bar in bars:\n",
    "    height = bar.get_height()\n",
    "    plt.text(\n",
    "        bar.get_x() + bar.get_width() / 2,     # centred horizontal position\n",
    "        height + 1,                            # vertical position (slightly above)\n",
    "        f\"{height:.1f}\",                       # text (rounded to 1 decimal place)\n",
    "        ha='center', va='bottom', fontsize=11\n",
    "    )\n",
    "\n",
    "# Add titles and axes\n",
    "plt.title(\"Average Time Spent at Each Stage (in seconds)\", fontweight=\"bold\")\n",
    "plt.ylabel(\"Average Time (s)\")\n",
    "plt.xlabel(\"Process_step\")\n",
    "plt.xticks(rotation=45)\n",
    "plt.tight_layout()\n",
    "plt.show()\n",
    "\n"
   ]
  },
  {
   "cell_type": "code",
   "execution_count": null,
   "id": "28511024-b559-4010-a123-a433193f2336",
   "metadata": {},
   "outputs": [
    {
     "data": {
      "image/png": "[encoded data removed]",
      "text/plain": [
       "<Figure size 800x500 with 1 Axes>"
      ]
     },
     "metadata": {},
     "output_type": "display_data"
    }
   ],
   "source": [
    "# Number of stages completed per customer\n",
    "steps_by_client = df_web.groupby(\"client_id\")[\"process_step\"].nunique()\n",
    "\n",
    "# Histogram with annotations\n",
    "plt.figure(figsize=(8, 5))\n",
    "ax = sns.histplot(steps_by_client, bins=5, kde=False, color='coral')\n",
    "\n",
    "# Add values above the bars\n",
    "for bar in ax.patches:\n",
    "    height = bar.get_height()\n",
    "    if height > 0:\n",
    "        ax.text(bar.get_x() + bar.get_width() / 2, height + 200, f\"{int(height)}\", \n",
    "                ha='center', va='bottom', fontsize=11)\n",
    "\n",
    "# Formatting\n",
    "plt.title(\"Number of Stages Completed Per User\", fontweight='bold')\n",
    "plt.xlabel(\"Number of unique milestones reached\")\n",
    "plt.ylabel(\"Number of users\")\n",
    "plt.tight_layout()\n",
    "plt.show()"
   ]
  },
  {
   "cell_type": "code",
   "execution_count": null,
   "id": "35216949-0d1c-435f-a746-1b9fa02fe7eb",
   "metadata": {},
   "outputs": [
    {
     "data": {
      "image/png": "[encoded data removed]",
      "text/plain": [
       "<Figure size 800x500 with 1 Axes>"
      ]
     },
     "metadata": {},
     "output_type": "display_data"
    }
   ],
   "source": [
    "# Calcul du taux de complétion\n",
    "completion_df = df_all[df_all[\"process_step\"] == \"confirm\"]\n",
    "completion_rate = completion_df.groupby(\"Variation\")[\"client_id\"].nunique() / df_all.groupby(\"Variation\")[\"client_id\"].nunique()\n",
    "\n",
    "# Drawing the plot\n",
    "plt.figure(figsize=(8, 5))\n",
    "bars = plt.bar(completion_rate.index, completion_rate.values, color=[\"orange\", \"green\"])\n",
    "\n",
    "# Add values (in percentages)\n",
    "for bar in bars:\n",
    "    height = bar.get_height()\n",
    "    plt.text(\n",
    "        bar.get_x() + bar.get_width() / 2,\n",
    "        height + 0.01,\n",
    "        f\"{height*100:.1f}%\",     # Affichage en pourcentage\n",
    "        ha='center', va='bottom', fontsize=11\n",
    "    )\n",
    "\n",
    "# Formating\n",
    "plt.title(\"Completion Rate by Experimental Group\", fontweight=\"bold\")\n",
    "plt.ylabel(\"Completion Rate\")\n",
    "plt.xlabel(\"Group\")\n",
    "plt.ylim(0, 1.1 * completion_rate.max())  # Pour laisser de la place au texte\n",
    "plt.tight_layout()\n",
    "plt.show()\n"
   ]
  },
  {
   "cell_type": "markdown",
   "id": "5de7ed60-cbd3-47c2-9c16-613d729a5e77",
   "metadata": {},
   "source": [
    "<span style=\"font-size:40px\">## PART 2 - A/B test analysis and impact of the new design (merged datasets)</span>"
   ]
  },
  {
   "cell_type": "markdown",
   "id": "c7b8fbba-c114-4778-8273-403bff4fe020",
   "metadata": {},
   "source": [
    "<span style=\"font-size:32px\"># 📦 STEP 1 – Merge the datasets</span>"
   ]
  },
  {
   "cell_type": "code",
   "execution_count": null,
   "id": "f406a69f-7e56-4667-be9e-f02e2e432afc",
   "metadata": {},
   "outputs": [],
   "source": [
    "# Transform the 'df_final_experiment_clients' txt file into a csv file\n",
    "        \n",
    "import pandas as pd\n",
    "\n",
    "df = pd.read_csv(r\"C:\\Users\\proprietaire\\Desktop\\Mini_Project_Vanguard_Digital_Transformation\\df_final_experiment_clients.txt\")\n",
    "df.to_csv(\"df_final_experiment_clients.csv\", index=False)"
   ]
  },
  {
   "cell_type": "code",
   "execution_count": null,
   "id": "f6dc9f49-1c0a-4007-8dac-5fc32e43c7ac",
   "metadata": {},
   "outputs": [
    {
     "data": {
      "text/html": [
       "<a href='df_final_experiment_clients.csv' target='_blank'>df_final_experiment_clients.csv</a><br>"
      ],
      "text/plain": [
       "C:\\Users\\proprietaire\\df_final_experiment_clients.csv"
      ]
     },
     "execution_count": 51,
     "metadata": {},
     "output_type": "execute_result"
    }
   ],
   "source": [
    "#Load experiment groups\n",
    "\n",
    "from IPython.display import FileLink\n",
    "\n",
    "FileLink(\"df_final_experiment_clients.csv\")"
   ]
  },
  {
   "cell_type": "code",
   "execution_count": null,
   "id": "1a423230-5450-4869-b71c-b484ddf7c4a3",
   "metadata": {},
   "outputs": [
    {
     "name": "stdout",
     "output_type": "stream",
     "text": [
      "(70609, 2) (70609, 9) (755405, 5)\n"
     ]
    }
   ],
   "source": [
    "df_groups = pd.read_csv(r\"C:\\Users\\proprietaire\\Desktop\\Mini_Project_Vanguard_Digital_Transformation\\df_final_experiment_clients.csv\")\n",
    "df_demo = pd.read_csv(r\"C:\\Users\\proprietaire\\Desktop\\Mini_Project_Vanguard_Digital_Transformation\\df_final_demo.csv\")\n",
    "df_web = pd.read_csv(r\"C:\\Users\\proprietaire\\Desktop\\Mini_Project_Vanguard_Digital_Transformation\\df_final_web_data_merged.csv\")\n",
    "\n",
    "print(df_groups.shape, df_demo.shape, df_web.shape)\n"
   ]
  },
  {
   "cell_type": "code",
   "execution_count": null,
   "id": "224feb8b-00c0-4ed1-8a24-6aa76b8b6283",
   "metadata": {},
   "outputs": [],
   "source": [
    "df_final_experiment_clients.dropna(inplace=True)"
   ]
  },
  {
   "cell_type": "markdown",
   "id": "bbcbbd7e-a139-4b1c-9cc3-3a9e458b6ef2",
   "metadata": {},
   "source": [
    "<span style=\"font-size:32px\"># 📋 STEP 2 – Check the structure and clean if necessary</span>"
   ]
  },
  {
   "cell_type": "code",
   "execution_count": null,
   "id": "09f8a465-9d02-48d0-a65f-45e0ec79bcab",
   "metadata": {},
   "outputs": [
    {
     "name": "stdout",
     "output_type": "stream",
     "text": [
      "client_id            0\n",
      "visitor_id           0\n",
      "visit_id             0\n",
      "process_step         0\n",
      "date_time            0\n",
      "date                 0\n",
      "time_diff       120157\n",
      "dtype: int64\n",
      "client_id            0\n",
      "clnt_tenure_yr      14\n",
      "clnt_tenure_mnth    14\n",
      "clnt_age            15\n",
      "gendr               14\n",
      "num_accts           14\n",
      "bal                 14\n",
      "calls_6_mnth        14\n",
      "logons_6_mnth       14\n",
      "dtype: int64\n",
      "client_id        0\n",
      "Variation    20109\n",
      "dtype: int64\n",
      "['start' 'step_1' 'step_2' 'step_3' 'confirm']\n"
     ]
    }
   ],
   "source": [
    "# Convert date_time to datetime\n",
    "df_web[\"date_time\"] = pd.to_datetime(df_web[\"date_time\"])\n",
    "\n",
    "# Check missing values\n",
    "print(df_web.isnull().sum())\n",
    "print(df_demo.isnull().sum())\n",
    "print(df_groups.isnull().sum())\n",
    "\n",
    "# Optional: check unique steps\n",
    "print(df_web[\"process_step\"].unique())\n"
   ]
  },
  {
   "cell_type": "code",
   "execution_count": null,
   "id": "10311804-f657-4d1f-8ae6-291bd2141a84",
   "metadata": {},
   "outputs": [
    {
     "name": "stdout",
     "output_type": "stream",
     "text": [
      "(755405, 14)\n"
     ]
    },
    {
     "data": {
      "text/html": [
       "<div>\n",
       "<style scoped>\n",
       "    .dataframe tbody tr th:only-of-type {\n",
       "        vertical-align: middle;\n",
       "    }\n",
       "\n",
       "    .dataframe tbody tr th {\n",
       "        vertical-align: top;\n",
       "    }\n",
       "\n",
       "    .dataframe thead th {\n",
       "        text-align: right;\n",
       "    }\n",
       "</style>\n",
       "<table border=\"1\" class=\"dataframe\">\n",
       "  <thead>\n",
       "    <tr style=\"text-align: right;\">\n",
       "      <th></th>\n",
       "      <th>client_id</th>\n",
       "      <th>visitor_id</th>\n",
       "      <th>visit_id</th>\n",
       "      <th>process_step</th>\n",
       "      <th>date_time</th>\n",
       "      <th>Variation</th>\n",
       "      <th>clnt_tenure_yr</th>\n",
       "      <th>clnt_tenure_mnth</th>\n",
       "      <th>clnt_age</th>\n",
       "      <th>gendr</th>\n",
       "      <th>num_accts</th>\n",
       "      <th>bal</th>\n",
       "      <th>calls_6_mnth</th>\n",
       "      <th>logons_6_mnth</th>\n",
       "    </tr>\n",
       "  </thead>\n",
       "  <tbody>\n",
       "    <tr>\n",
       "      <th>0</th>\n",
       "      <td>9988021</td>\n",
       "      <td>580560515_7732621733</td>\n",
       "      <td>781255054_21935453173_531117</td>\n",
       "      <td>step_3</td>\n",
       "      <td>2017-04-17 15:27:07</td>\n",
       "      <td>Test</td>\n",
       "      <td>5.0</td>\n",
       "      <td>64.0</td>\n",
       "      <td>79.0</td>\n",
       "      <td>U</td>\n",
       "      <td>2.0</td>\n",
       "      <td>189023.86</td>\n",
       "      <td>1.0</td>\n",
       "      <td>4.0</td>\n",
       "    </tr>\n",
       "    <tr>\n",
       "      <th>1</th>\n",
       "      <td>9988021</td>\n",
       "      <td>580560515_7732621733</td>\n",
       "      <td>781255054_21935453173_531117</td>\n",
       "      <td>step_2</td>\n",
       "      <td>2017-04-17 15:26:51</td>\n",
       "      <td>Test</td>\n",
       "      <td>5.0</td>\n",
       "      <td>64.0</td>\n",
       "      <td>79.0</td>\n",
       "      <td>U</td>\n",
       "      <td>2.0</td>\n",
       "      <td>189023.86</td>\n",
       "      <td>1.0</td>\n",
       "      <td>4.0</td>\n",
       "    </tr>\n",
       "    <tr>\n",
       "      <th>2</th>\n",
       "      <td>9988021</td>\n",
       "      <td>580560515_7732621733</td>\n",
       "      <td>781255054_21935453173_531117</td>\n",
       "      <td>step_3</td>\n",
       "      <td>2017-04-17 15:19:22</td>\n",
       "      <td>Test</td>\n",
       "      <td>5.0</td>\n",
       "      <td>64.0</td>\n",
       "      <td>79.0</td>\n",
       "      <td>U</td>\n",
       "      <td>2.0</td>\n",
       "      <td>189023.86</td>\n",
       "      <td>1.0</td>\n",
       "      <td>4.0</td>\n",
       "    </tr>\n",
       "    <tr>\n",
       "      <th>3</th>\n",
       "      <td>9988021</td>\n",
       "      <td>580560515_7732621733</td>\n",
       "      <td>781255054_21935453173_531117</td>\n",
       "      <td>step_2</td>\n",
       "      <td>2017-04-17 15:19:13</td>\n",
       "      <td>Test</td>\n",
       "      <td>5.0</td>\n",
       "      <td>64.0</td>\n",
       "      <td>79.0</td>\n",
       "      <td>U</td>\n",
       "      <td>2.0</td>\n",
       "      <td>189023.86</td>\n",
       "      <td>1.0</td>\n",
       "      <td>4.0</td>\n",
       "    </tr>\n",
       "    <tr>\n",
       "      <th>4</th>\n",
       "      <td>9988021</td>\n",
       "      <td>580560515_7732621733</td>\n",
       "      <td>781255054_21935453173_531117</td>\n",
       "      <td>step_3</td>\n",
       "      <td>2017-04-17 15:18:04</td>\n",
       "      <td>Test</td>\n",
       "      <td>5.0</td>\n",
       "      <td>64.0</td>\n",
       "      <td>79.0</td>\n",
       "      <td>U</td>\n",
       "      <td>2.0</td>\n",
       "      <td>189023.86</td>\n",
       "      <td>1.0</td>\n",
       "      <td>4.0</td>\n",
       "    </tr>\n",
       "  </tbody>\n",
       "</table>\n",
       "</div>"
      ],
      "text/plain": [
       "   client_id            visitor_id                      visit_id process_step  \\\n",
       "0    9988021  580560515_7732621733  781255054_21935453173_531117       step_3   \n",
       "1    9988021  580560515_7732621733  781255054_21935453173_531117       step_2   \n",
       "2    9988021  580560515_7732621733  781255054_21935453173_531117       step_3   \n",
       "3    9988021  580560515_7732621733  781255054_21935453173_531117       step_2   \n",
       "4    9988021  580560515_7732621733  781255054_21935453173_531117       step_3   \n",
       "\n",
       "            date_time Variation  clnt_tenure_yr  clnt_tenure_mnth  clnt_age  \\\n",
       "0 2017-04-17 15:27:07      Test             5.0              64.0      79.0   \n",
       "1 2017-04-17 15:26:51      Test             5.0              64.0      79.0   \n",
       "2 2017-04-17 15:19:22      Test             5.0              64.0      79.0   \n",
       "3 2017-04-17 15:19:13      Test             5.0              64.0      79.0   \n",
       "4 2017-04-17 15:18:04      Test             5.0              64.0      79.0   \n",
       "\n",
       "  gendr  num_accts        bal  calls_6_mnth  logons_6_mnth  \n",
       "0     U        2.0  189023.86           1.0            4.0  \n",
       "1     U        2.0  189023.86           1.0            4.0  \n",
       "2     U        2.0  189023.86           1.0            4.0  \n",
       "3     U        2.0  189023.86           1.0            4.0  \n",
       "4     U        2.0  189023.86           1.0            4.0  "
      ]
     },
     "execution_count": 60,
     "metadata": {},
     "output_type": "execute_result"
    }
   ],
   "source": [
    "# Fusion sur client_id\n",
    "df_merged = df_web.merge(df_groups, on=\"client_id\", how=\"left\")\n",
    "df_all = df_merged.merge(df_demo, on=\"client_id\", how=\"left\")\n",
    "\n",
    "# Vérification du résultat\n",
    "print(df_all.shape)\n",
    "df_all.head()\n"
   ]
  },
  {
   "cell_type": "code",
   "execution_count": null,
   "id": "31e2d901-c2e6-4dbb-934b-145742806d3b",
   "metadata": {},
   "outputs": [
    {
     "data": {
      "text/plain": [
       "Index(['client_id', 'visitor_id', 'visit_id', 'process_step', 'date_time',\n",
       "       'Variation', 'clnt_tenure_yr', 'clnt_tenure_mnth', 'clnt_age', 'gendr',\n",
       "       'num_accts', 'bal', 'calls_6_mnth', 'logons_6_mnth'],\n",
       "      dtype='object')"
      ]
     },
     "execution_count": 61,
     "metadata": {},
     "output_type": "execute_result"
    }
   ],
   "source": [
    "df_all.columns"
   ]
  },
  {
   "cell_type": "code",
   "execution_count": null,
   "id": "8b5f8b1d-369e-478d-a318-50a798ff2ee6",
   "metadata": {},
   "outputs": [
    {
     "name": "stdout",
     "output_type": "stream",
     "text": [
      "(755405, 14)\n",
      "client_id                0\n",
      "visitor_id               0\n",
      "visit_id                 0\n",
      "process_step             0\n",
      "date_time                0\n",
      "Variation           434096\n",
      "clnt_tenure_yr      305689\n",
      "clnt_tenure_mnth    305689\n",
      "clnt_age            305701\n",
      "gendr               305689\n",
      "num_accts           305689\n",
      "bal                 305689\n",
      "calls_6_mnth        305689\n",
      "logons_6_mnth       305689\n",
      "dtype: int64\n"
     ]
    }
   ],
   "source": [
    "print(df_all.shape)\n",
    "print(df_all.isnull().sum())"
   ]
  },
  {
   "cell_type": "code",
   "execution_count": null,
   "id": "e0dc17ed-3d93-425a-8eaf-b31811c3946c",
   "metadata": {},
   "outputs": [],
   "source": [
    "df_all = df_all.dropna()"
   ]
  },
  {
   "cell_type": "code",
   "execution_count": null,
   "id": "2e1c14a6-c9f5-404d-8b6a-eff7da7fa4c3",
   "metadata": {},
   "outputs": [
    {
     "name": "stdout",
     "output_type": "stream",
     "text": [
      "Client Age Summary:\n",
      "count    70594.000000\n",
      "mean        46.442240\n",
      "std         15.591273\n",
      "min         13.500000\n",
      "25%         32.500000\n",
      "50%         47.000000\n",
      "75%         59.000000\n",
      "max         96.000000\n",
      "Name: clnt_age, dtype: float64\n",
      "\n",
      "Client Tenure (Years) Summary:\n",
      "count    70595.000000\n",
      "mean        12.052950\n",
      "std          6.871819\n",
      "min          2.000000\n",
      "25%          6.000000\n",
      "50%         11.000000\n",
      "75%         16.000000\n",
      "max         62.000000\n",
      "Name: clnt_tenure_yr, dtype: float64\n",
      "\n",
      "Gender Distribution:\n",
      "gendr\n",
      "U    0.341696\n",
      "M    0.336058\n",
      "F    0.322204\n",
      "X    0.000042\n",
      "Name: proportion, dtype: float64\n",
      "\n",
      "Most common profile:\n",
      "       client_id  clnt_tenure_yr  clnt_tenure_mnth  clnt_age  num_accts  \\\n",
      "0            169             6.0              58.0      58.5        2.0   \n",
      "1            555             NaN               NaN       NaN        NaN   \n",
      "2            647             NaN               NaN       NaN        NaN   \n",
      "3            722             NaN               NaN       NaN        NaN   \n",
      "4            934             NaN               NaN       NaN        NaN   \n",
      "...          ...             ...               ...       ...        ...   \n",
      "70604    9999400             NaN               NaN       NaN        NaN   \n",
      "70605    9999626             NaN               NaN       NaN        NaN   \n",
      "70606    9999729             NaN               NaN       NaN        NaN   \n",
      "70607    9999832             NaN               NaN       NaN        NaN   \n",
      "70608    9999839             NaN               NaN       NaN        NaN   \n",
      "\n",
      "            bal  calls_6_mnth  logons_6_mnth  \n",
      "0      31188.62           6.0            9.0  \n",
      "1           NaN           NaN            NaN  \n",
      "2           NaN           NaN            NaN  \n",
      "3           NaN           NaN            NaN  \n",
      "4           NaN           NaN            NaN  \n",
      "...         ...           ...            ...  \n",
      "70604       NaN           NaN            NaN  \n",
      "70605       NaN           NaN            NaN  \n",
      "70606       NaN           NaN            NaN  \n",
      "70607       NaN           NaN            NaN  \n",
      "70608       NaN           NaN            NaN  \n",
      "\n",
      "[70609 rows x 8 columns]\n"
     ]
    }
   ],
   "source": [
    "#STEP 2B – Exploratory analysis: Who are the primary clients?\n",
    "\n",
    "# Basic demographics overview\n",
    "print(\"Client Age Summary:\")\n",
    "print(df_demo[\"clnt_age\"].describe())\n",
    "\n",
    "print(\"\\nClient Tenure (Years) Summary:\")\n",
    "print(df_demo[\"clnt_tenure_yr\"].describe())\n",
    "\n",
    "print(\"\\nGender Distribution:\")\n",
    "print(df_demo[\"gendr\"].value_counts(normalize=True))\n",
    "\n",
    "# Optional: Mode to identify dominant profile\n",
    "print(\"\\nMost common profile:\")\n",
    "print(df_demo.mode(numeric_only=True))\n"
   ]
  },
  {
   "cell_type": "markdown",
   "id": "78659644-cd31-49d9-9ceb-595c4ba749d6",
   "metadata": {},
   "source": [
    "## Client Behavior Analysis\n",
    "\n",
    "### Who are the primary clients using this online process?\n",
    "\n",
    "- **Average age** of clients is **46.4 years**, with most clients between **32.5 and 59 years old**.\n",
    "- **Client tenure** (number of years with Vanguard) averages **12 years**, with most clients having between **6 and 16 years** of tenure.\n",
    "- **Gender distribution** is relatively balanced:\n",
    "  - 34.2% Unknown\n",
    "  - 33.6% Male\n",
    "  - 32.2% Female\n",
    "\n",
    "> 🔍 The typical client is a middle-aged, long-standing Vanguard customer with around 12 years of history. The data also shows that gender is not well captured for a significant portion of clients.\n",
    "\n",
    "---\n",
    "\n",
    "### Are the primary clients younger or older, new or long-standing?\n",
    "\n",
    "> Based on averages, the client base skews toward **older and long-tenured users**, rather than newcomers or younger clients.\n",
    "\n",
    "We will explore whether these variables (age, tenure) correlate with completion behavior later in the analysis.\n"
   ]
  },
  {
   "cell_type": "code",
   "execution_count": null,
   "id": "ce3341fb-aca3-478d-bea5-09e7d31f1081",
   "metadata": {},
   "outputs": [
    {
     "name": "stdout",
     "output_type": "stream",
     "text": [
      "\n",
      "Average Age by Completion Status:\n",
      "completed\n",
      "False    48.653097\n",
      "True     47.912910\n",
      "Name: clnt_age, dtype: float64\n",
      "\n",
      "Average Tenure (Years) by Completion Status:\n",
      "completed\n",
      "False    12.144585\n",
      "True     12.382006\n",
      "Name: clnt_tenure_yr, dtype: float64\n"
     ]
    }
   ],
   "source": [
    "# Add 'completed' flag to df_all\n",
    "df_all[\"completed\"] = df_all[\"process_step\"] == \"confirm\"\n",
    "\n",
    "# Compare age by completion\n",
    "print(\"\\nAverage Age by Completion Status:\")\n",
    "print(df_all.groupby(\"completed\")[\"clnt_age\"].mean())\n",
    "\n",
    "# Compare tenure by completion\n",
    "print(\"\\nAverage Tenure (Years) by Completion Status:\")\n",
    "print(df_all.groupby(\"completed\")[\"clnt_tenure_yr\"].mean())\n"
   ]
  },
  {
   "cell_type": "markdown",
   "id": "efe55308-5b47-4974-a886-761948637fdd",
   "metadata": {},
   "source": [
    "### 🧠 Completion Behavior by Client Profile\n",
    "\n",
    "#### ➤ Average Age by Completion Status:\n",
    "- Clients who did **not** complete the process: **48.65 years**\n",
    "- Clients who **completed** the process: **47.91 years**\n",
    "\n",
    "🔎 Insight: Clients who complete the process tend to be **slightly younger**, but the difference is relatively small (~0.7 year).\n",
    "\n",
    "---\n",
    "\n",
    "#### ➤ Average Tenure by Completion Status:\n",
    "- Non-completers: **12.14 years** with Vanguard\n",
    "- Completers: **12.38 years** with Vanguard\n",
    "\n",
    "🔎 Insight: Clients who completed the process also have **slightly longer tenure**, suggesting they might be slightly more engaged or familiar with the platform.\n"
   ]
  },
  {
   "cell_type": "markdown",
   "id": "f9468b8b-1592-4892-8b31-84b35a70c02b",
   "metadata": {},
   "source": [
    "<span style=\"font-size:32px\"># 🕓 STEP 3 – Sort and calculate time difference between steps for each user</span>"
   ]
  },
  {
   "cell_type": "code",
   "execution_count": null,
   "id": "542d7e10-de3a-4a37-9316-3cc6149c7c98",
   "metadata": {},
   "outputs": [
    {
     "name": "stdout",
     "output_type": "stream",
     "text": [
      "\n",
      "✅ STEP 3 completed: 'time_diff' column added. Sample:\n",
      "         client_id process_step           date_time  time_diff\n",
      "72018         555        start 2017-04-15 12:57:56        NaN\n",
      "72017         555       step_1 2017-04-15 12:58:03        7.0\n",
      "72016         555       step_2 2017-04-15 12:58:35       32.0\n",
      "72015         555       step_3 2017-04-15 13:00:14       99.0\n",
      "72014         555      confirm 2017-04-15 13:00:34       20.0\n",
      "138182        647        start 2017-04-12 15:41:28        NaN\n",
      "138181        647       step_1 2017-04-12 15:41:35        7.0\n",
      "138180        647       step_2 2017-04-12 15:41:53       18.0\n",
      "138179        647       step_3 2017-04-12 15:45:02      189.0\n",
      "138176        647      confirm 2017-04-12 15:47:45      163.0\n"
     ]
    }
   ],
   "source": [
    "df_all = df_all.sort_values(by=[\"client_id\", \"date_time\"])\n",
    "df_all[\"time_diff\"] = df_all.groupby(\"client_id\")[\"date_time\"].diff().dt.total_seconds()\n",
    "print(\"\\n✅ STEP 3 completed: 'time_diff' column added. Sample:\\n\", df_all[[\"client_id\", \"process_step\", \"date_time\", \"time_diff\"]].head(10))"
   ]
  },
  {
   "cell_type": "markdown",
   "id": "9ae9e57c-833f-4d54-a5ef-315e6e637ff6",
   "metadata": {},
   "source": [
    "<span style=\"font-size:32px\"># 📊 STEP 4 – Completion Rate by Group</span>"
   ]
  },
  {
   "cell_type": "code",
   "execution_count": null,
   "id": "7a340a8c-8d78-4ab3-bc21-caab315377b0",
   "metadata": {},
   "outputs": [
    {
     "name": "stdout",
     "output_type": "stream",
     "text": [
      "\n",
      "✅ STEP 4 completed: Completion rate by group:\n",
      " Variation\n",
      "Control    0.655785\n",
      "Test       0.692927\n",
      "Name: client_id, dtype: float64\n"
     ]
    }
   ],
   "source": [
    "completed = df_all[df_all[\"process_step\"] == \"confirm\"].groupby(\"Variation\")[\"client_id\"].nunique()\n",
    "total_users = df_all.groupby(\"Variation\")[\"client_id\"].nunique()\n",
    "completion_rate = completed / total_users\n",
    "print(\"\\n✅ STEP 4 completed: Completion rate by group:\\n\", completion_rate)"
   ]
  },
  {
   "cell_type": "markdown",
   "id": "00f2ded4-fa94-460e-a910-bfe44934a1c4",
   "metadata": {},
   "source": [
    "<span style=\"font-size:32px\"># 📈 STEP 5 – Plot completion rate with value labels</span>"
   ]
  },
  {
   "cell_type": "code",
   "execution_count": null,
   "id": "6ca53e80-5379-4997-a66e-7f1b8ef6692a",
   "metadata": {},
   "outputs": [
    {
     "data": {
      "image/png": "[encoded data removed]",
      "text/plain": [
       "<Figure size 800x500 with 1 Axes>"
      ]
     },
     "metadata": {},
     "output_type": "display_data"
    }
   ],
   "source": [
    "import matplotlib.pyplot as plt\n",
    "plt.figure(figsize=(8,5))\n",
    "bars = plt.bar(completion_rate.index, completion_rate.values, color=[\"orange\", \"green\"])\n",
    "\n",
    "for bar in bars:\n",
    "    height = bar.get_height()\n",
    "    plt.text(bar.get_x() + bar.get_width()/2, height + 0.01, f\"{height*100:.1f}%\", \n",
    "             ha='center', va='bottom', fontsize=11)\n",
    "\n",
    "plt.title(\"Completion Rate by Experimental Group\", fontweight=\"bold\")\n",
    "plt.ylabel(\"Completion Rate\")\n",
    "plt.xlabel(\"Group\")\n",
    "plt.ylim(0, 1.1 * max(completion_rate.values))\n",
    "plt.tight_layout()\n",
    "plt.show()\n"
   ]
  },
  {
   "cell_type": "markdown",
   "id": "845b786a-d7e8-4e99-abce-16fddf6c849e",
   "metadata": {},
   "source": [
    "<span style=\"font-size:32px\"># 🧪 STEP 6 – Hypothesis Testing (Proportions Z-test)</span>"
   ]
  },
  {
   "cell_type": "code",
   "execution_count": null,
   "id": "ce459c73-cfc6-432f-990d-d5e9c95ce26e",
   "metadata": {},
   "outputs": [
    {
     "name": "stdout",
     "output_type": "stream",
     "text": [
      "\n",
      "✅ STEP 6 completed: Z-test statistic = 8.893, p-value = 0.0000\n"
     ]
    }
   ],
   "source": [
    "from statsmodels.stats.proportion import proportions_ztest\n",
    "\n",
    "counts = [completed[\"Test\"], completed[\"Control\"]]\n",
    "nobs = [total_users[\"Test\"], total_users[\"Control\"]]\n",
    "\n",
    "stat, pval = proportions_ztest(counts, nobs)\n",
    "print(f\"\\n✅ STEP 6 completed: Z-test statistic = {stat:.3f}, p-value = {pval:.4f}\")"
   ]
  },
  {
   "cell_type": "markdown",
   "id": "41eab448-de08-4ac0-859f-6392ca1ae7be",
   "metadata": {},
   "source": [
    "<span style=\"font-size:32px\"># 🎯 STEP 7 – Business Threshold Test: Is improvement ≥ 5%?</span>"
   ]
  },
  {
   "cell_type": "code",
   "execution_count": null,
   "id": "99869849-e1a1-4072-8a12-8f7286af8d59",
   "metadata": {},
   "outputs": [
    {
     "name": "stdout",
     "output_type": "stream",
     "text": [
      "\n",
      "✅ STEP 7 completed: Completion Rate Improvement = 3.71%\n",
      "⚠️ The improvement is below the 5% business threshold.\n"
     ]
    }
   ],
   "source": [
    "improvement = (completion_rate[\"Test\"] - completion_rate[\"Control\"]) * 100\n",
    "print(f\"\\n✅ STEP 7 completed: Completion Rate Improvement = {improvement:.2f}%\")\n",
    "if improvement >= 5:\n",
    "    print(\"✅ The improvement exceeds the 5% business threshold.\")\n",
    "else:\n",
    "    print(\"⚠️ The improvement is below the 5% business threshold.\")"
   ]
  },
  {
   "cell_type": "markdown",
   "id": "6357ae48-8b93-4e9c-bb65-36827c0b1b39",
   "metadata": {},
   "source": [
    "### 🧠 Insights from Hypothesis Testing\n",
    "\n",
    "✅ **Hypothesis 1 – Completion Rate Significance**\n",
    "- The Z-test gave a p-value of **0.0000**, which is **significantly below 0.05**.\n",
    "- This confirms that the difference in completion rates between the Test and Control groups is **statistically significant**.\n",
    "- Therefore, the new design does have a measurable impact on user behavior.\n",
    "\n",
    "⚠️ **Hypothesis 2 – Business Threshold (≥ 5%)**\n",
    "- The observed improvement was **+3.71%**.\n",
    "- Although statistically significant, it **does not meet the 5% threshold** defined by the business to justify the redesign rollout.\n",
    "- The improvement is positive but **not strong enough** to meet business expectations.\n",
    "\n",
    "---\n",
    "\n",
    "### 📌 Conclusion\n",
    "\n",
    "- The new design **improves completion rates**, and this improvement is **not due to chance**.\n",
    "- However, the gain remains **below the expected business return**, which may raise doubts about the cost-effectiveness of deploying the new UI.\n",
    "- A/B testing shows promise, but further iteration or optimization may be required before a full-scale rollout.\n",
    "\n",
    "📊 Recommendation: Consider further testing or qualitative feedback to understand what limits the completion gain.\n"
   ]
  },
  {
   "cell_type": "markdown",
   "id": "1246285e-d820-473c-ac5b-51afa51fe5d4",
   "metadata": {},
   "source": [
    "<span style=\"font-size:32px\"># 📌 STEP 8 – Optional: Analyze completion by demographic variables</span>"
   ]
  },
  {
   "cell_type": "code",
   "execution_count": null,
   "id": "b3932f96-772f-4b64-85a6-4d15fc9566bc",
   "metadata": {},
   "outputs": [
    {
     "name": "stdout",
     "output_type": "stream",
     "text": [
      "\n",
      "✅ STEP 8 completed: Average client age by completion status:\n",
      " completed\n",
      "False    48.653097\n",
      "True     47.912910\n",
      "Name: clnt_age, dtype: float64\n"
     ]
    }
   ],
   "source": [
    "df_all[\"completed\"] = df_all[\"process_step\"] == \"confirm\"\n",
    "avg_age = df_all.groupby(\"completed\")[\"clnt_age\"].mean()\n",
    "print(\"\\n✅ STEP 8 completed: Average client age by completion status:\\n\", avg_age)"
   ]
  },
  {
   "cell_type": "code",
   "execution_count": null,
   "id": "973e89a5-c552-4228-9a49-a9b21a619cbe",
   "metadata": {},
   "outputs": [
    {
     "name": "stdout",
     "output_type": "stream",
     "text": [
      "\n",
      "📉 STEP 9 – Error Rate calculation\n"
     ]
    }
   ],
   "source": [
    "# 📉 STEP 9 – Error Rate: users who go back to a previous step\n",
    "print(\"\\n📉 STEP 9 – Error Rate calculation\")"
   ]
  },
  {
   "cell_type": "code",
   "execution_count": null,
   "id": "e7229a5b-02c8-4bf1-af5c-d3a6b560de37",
   "metadata": {},
   "outputs": [
    {
     "name": "stdout",
     "output_type": "stream",
     "text": [
      "Mapped step numbers (head):\n",
      "       client_id process_step  step_num\n",
      "72018        555        start         1\n",
      "72017        555       step_1         2\n",
      "72016        555       step_2         3\n",
      "72015        555       step_3         4\n",
      "72014        555      confirm         5\n"
     ]
    }
   ],
   "source": [
    "# Convert process steps to ordered numbers\n",
    "step_order = {'start': 1, 'step_1': 2, 'step_2': 3, 'step_3': 4, 'confirm': 5}\n",
    "df_all['step_num'] = df_all['process_step'].map(step_order)\n",
    "print(\"Mapped step numbers (head):\")\n",
    "print(df_all[['client_id', 'process_step', 'step_num']].head())"
   ]
  },
  {
   "cell_type": "code",
   "execution_count": null,
   "id": "9ccbffe1-9ed1-43d0-bc4b-33ec3bc2d3df",
   "metadata": {},
   "outputs": [
    {
     "name": "stdout",
     "output_type": "stream",
     "text": [
      "Step differences computed (head):\n",
      "       client_id  step_num  step_diff\n",
      "72018        555         1        NaN\n",
      "72017        555         2        1.0\n",
      "72016        555         3        1.0\n",
      "72015        555         4        1.0\n",
      "72014        555         5        1.0\n"
     ]
    }
   ],
   "source": [
    "# Sort again just in case\n",
    "df_all = df_all.sort_values(by=['client_id', 'date_time'])\n",
    "df_all['step_diff'] = df_all.groupby('client_id')['step_num'].diff()\n",
    "print(\"Step differences computed (head):\")\n",
    "print(df_all[['client_id', 'step_num', 'step_diff']].head())"
   ]
  },
  {
   "cell_type": "code",
   "execution_count": null,
   "id": "cab45047-58be-48d2-8725-e584c8202f73",
   "metadata": {},
   "outputs": [
    {
     "name": "stdout",
     "output_type": "stream",
     "text": [
      "Sample error flags:\n",
      "        client_id process_step  step_diff  is_error\n",
      "72018         555        start        NaN     False\n",
      "72017         555       step_1        1.0     False\n",
      "72016         555       step_2        1.0     False\n",
      "72015         555       step_3        1.0     False\n",
      "72014         555      confirm        1.0     False\n",
      "138182        647        start        NaN     False\n",
      "138181        647       step_1        1.0     False\n",
      "138180        647       step_2        1.0     False\n",
      "138179        647       step_3        1.0     False\n",
      "138176        647      confirm        1.0     False\n"
     ]
    }
   ],
   "source": [
    "# Flag errors where user went backward\n",
    "df_all['is_error'] = df_all['step_diff'] < 0\n",
    "print(\"Sample error flags:\")\n",
    "print(df_all[['client_id', 'process_step', 'step_diff', 'is_error']].head(10))"
   ]
  },
  {
   "cell_type": "code",
   "execution_count": null,
   "id": "66e101c3-9169-4475-9aa0-de35e965d5e0",
   "metadata": {},
   "outputs": [
    {
     "name": "stdout",
     "output_type": "stream",
     "text": [
      "\n",
      "📊 Error Rate (%) by group:\n",
      "Variation\n",
      "Control    11.119267\n",
      "Test       12.651002\n",
      "dtype: float64\n"
     ]
    }
   ],
   "source": [
    "# Calculate error rate per group\n",
    "error_counts = df_all.groupby('Variation')['is_error'].sum()\n",
    "total_transitions = df_all.groupby('Variation')['step_diff'].count()\n",
    "error_rate = (error_counts / total_transitions) * 100\n",
    "print(\"\\n📊 Error Rate (%) by group:\")\n",
    "print(error_rate)"
   ]
  },
  {
   "cell_type": "code",
   "execution_count": null,
   "id": "c7699aba-3208-4d64-b34a-a8be91452e62",
   "metadata": {},
   "outputs": [],
   "source": []
  },
  {
   "cell_type": "code",
   "execution_count": null,
   "id": "30205dd8-cc5c-4053-9e4c-2f36e44691f5",
   "metadata": {},
   "outputs": [],
   "source": []
  }
 ],
 "metadata": {
  "kernelspec": {
   "display_name": "base",
   "language": "python",
   "name": "python3"
  },
  "language_info": {
   "codemirror_mode": {
    "name": "ipython",
    "version": 3
   },
   "file_extension": ".py",
   "mimetype": "text/x-python",
   "name": "python",
   "nbconvert_exporter": "python",
   "pygments_lexer": "ipython3",
   "version": "3.12.7"
  }
 },
 "nbformat": 4,
 "nbformat_minor": 5
}
