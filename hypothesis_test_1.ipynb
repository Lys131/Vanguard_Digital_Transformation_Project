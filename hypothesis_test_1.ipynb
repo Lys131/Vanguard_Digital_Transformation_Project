{
 "cells": [
  {
   "cell_type": "code",
   "execution_count": 1,
   "id": "b19c2799",
   "metadata": {},
   "outputs": [],
   "source": [
    "import pandas as pd\n",
    "import numpy as np\n",
    "import matplotlib.pyplot as plt\n",
    "import seaborn as sns"
   ]
  },
  {
   "cell_type": "code",
   "execution_count": 2,
   "id": "80df8d6b",
   "metadata": {},
   "outputs": [],
   "source": [
    "path1 = \"/Users/laurasuemitsu/Desktop/DATA_FT_May_2025/Week 5/Project/df_final_web_data_merged.csv\""
   ]
  },
  {
   "cell_type": "code",
   "execution_count": 3,
   "id": "69dcf835",
   "metadata": {},
   "outputs": [],
   "source": [
    "df1 = pd.read_csv(path1)"
   ]
  },
  {
   "cell_type": "code",
   "execution_count": 4,
   "id": "7cbd45a2",
   "metadata": {},
   "outputs": [],
   "source": [
    "path2 = \"/Users/laurasuemitsu/Desktop/DATA_FT_May_2025/Week 5/Project/df_final_experiment_clients.csv\""
   ]
  },
  {
   "cell_type": "code",
   "execution_count": 5,
   "id": "9035f9f5",
   "metadata": {},
   "outputs": [],
   "source": [
    "df2 = pd.read_csv(path2)\n",
    "df2.drop(columns=(\"Unnamed: 0\"), inplace=True)"
   ]
  },
  {
   "cell_type": "code",
   "execution_count": 6,
   "id": "d575747f",
   "metadata": {},
   "outputs": [
    {
     "data": {
      "text/html": [
       "<div>\n",
       "<style scoped>\n",
       "    .dataframe tbody tr th:only-of-type {\n",
       "        vertical-align: middle;\n",
       "    }\n",
       "\n",
       "    .dataframe tbody tr th {\n",
       "        vertical-align: top;\n",
       "    }\n",
       "\n",
       "    .dataframe thead th {\n",
       "        text-align: right;\n",
       "    }\n",
       "</style>\n",
       "<table border=\"1\" class=\"dataframe\">\n",
       "  <thead>\n",
       "    <tr style=\"text-align: right;\">\n",
       "      <th></th>\n",
       "      <th>client_id</th>\n",
       "      <th>visitor_id</th>\n",
       "      <th>visit_id</th>\n",
       "      <th>process_step</th>\n",
       "      <th>date_time</th>\n",
       "      <th>Variation</th>\n",
       "    </tr>\n",
       "  </thead>\n",
       "  <tbody>\n",
       "    <tr>\n",
       "      <th>0</th>\n",
       "      <td>9988021</td>\n",
       "      <td>580560515_7732621733</td>\n",
       "      <td>781255054_21935453173_531117</td>\n",
       "      <td>step_3</td>\n",
       "      <td>2017-04-17 15:27:07</td>\n",
       "      <td>Test</td>\n",
       "    </tr>\n",
       "    <tr>\n",
       "      <th>1</th>\n",
       "      <td>9988021</td>\n",
       "      <td>580560515_7732621733</td>\n",
       "      <td>781255054_21935453173_531117</td>\n",
       "      <td>step_2</td>\n",
       "      <td>2017-04-17 15:26:51</td>\n",
       "      <td>Test</td>\n",
       "    </tr>\n",
       "    <tr>\n",
       "      <th>2</th>\n",
       "      <td>9988021</td>\n",
       "      <td>580560515_7732621733</td>\n",
       "      <td>781255054_21935453173_531117</td>\n",
       "      <td>step_3</td>\n",
       "      <td>2017-04-17 15:19:22</td>\n",
       "      <td>Test</td>\n",
       "    </tr>\n",
       "    <tr>\n",
       "      <th>3</th>\n",
       "      <td>9988021</td>\n",
       "      <td>580560515_7732621733</td>\n",
       "      <td>781255054_21935453173_531117</td>\n",
       "      <td>step_2</td>\n",
       "      <td>2017-04-17 15:19:13</td>\n",
       "      <td>Test</td>\n",
       "    </tr>\n",
       "    <tr>\n",
       "      <th>4</th>\n",
       "      <td>9988021</td>\n",
       "      <td>580560515_7732621733</td>\n",
       "      <td>781255054_21935453173_531117</td>\n",
       "      <td>step_3</td>\n",
       "      <td>2017-04-17 15:18:04</td>\n",
       "      <td>Test</td>\n",
       "    </tr>\n",
       "  </tbody>\n",
       "</table>\n",
       "</div>"
      ],
      "text/plain": [
       "   client_id            visitor_id                      visit_id process_step  \\\n",
       "0    9988021  580560515_7732621733  781255054_21935453173_531117       step_3   \n",
       "1    9988021  580560515_7732621733  781255054_21935453173_531117       step_2   \n",
       "2    9988021  580560515_7732621733  781255054_21935453173_531117       step_3   \n",
       "3    9988021  580560515_7732621733  781255054_21935453173_531117       step_2   \n",
       "4    9988021  580560515_7732621733  781255054_21935453173_531117       step_3   \n",
       "\n",
       "             date_time Variation  \n",
       "0  2017-04-17 15:27:07      Test  \n",
       "1  2017-04-17 15:26:51      Test  \n",
       "2  2017-04-17 15:19:22      Test  \n",
       "3  2017-04-17 15:19:13      Test  \n",
       "4  2017-04-17 15:18:04      Test  "
      ]
     },
     "execution_count": 6,
     "metadata": {},
     "output_type": "execute_result"
    }
   ],
   "source": [
    "df_merged = df1.merge(df2, how=\"left\", on=\"client_id\")\n",
    "df_merged.dropna(inplace=True)\n",
    "df_merged.head()"
   ]
  },
  {
   "cell_type": "code",
   "execution_count": 7,
   "id": "29304481",
   "metadata": {},
   "outputs": [
    {
     "data": {
      "image/png": "[encoded data removed]",
      "text/plain": [
       "<Figure size 800x500 with 1 Axes>"
      ]
     },
     "metadata": {},
     "output_type": "display_data"
    }
   ],
   "source": [
    "completion_df = df_merged[df_merged[\"process_step\"] == \"confirm\"]\n",
    "completion_rate = completion_df.groupby(\"Variation\")[\"visit_id\"].nunique() / df_merged.groupby(\"Variation\")[\"visit_id\"].nunique()\n",
    "\n",
    "# Drawing the plot\n",
    "plt.figure(figsize=(8, 5))\n",
    "bars = plt.bar(completion_rate.index, completion_rate.values, color=[\"orange\", \"green\"])\n",
    "\n",
    "# Add values (in percentages)\n",
    "for bar in bars:\n",
    "    height = bar.get_height()\n",
    "    plt.text(\n",
    "        bar.get_x() + bar.get_width() / 2,\n",
    "        height + 0.01,\n",
    "        f\"{height*100:.1f}%\",     \n",
    "        ha='center', va='bottom', fontsize=11\n",
    "    )\n",
    "\n",
    "# Formating\n",
    "plt.title(\"Completion Rate by Experimental Group\", fontweight=\"bold\")\n",
    "plt.ylabel(\"Completion Rate\")\n",
    "plt.xlabel(\"Group\")\n",
    "plt.ylim(0, 1.1 * completion_rate.max()) \n",
    "plt.tight_layout()\n",
    "plt.show()"
   ]
  },
  {
   "cell_type": "markdown",
   "id": "9df722c2",
   "metadata": {},
   "source": [
    "**H0:** mu completion rate test = completion rate control\n",
    "\n",
    "**H1:** mu completion rate test != completion rate control"
   ]
  },
  {
   "cell_type": "code",
   "execution_count": 12,
   "id": "812524fb",
   "metadata": {},
   "outputs": [],
   "source": [
    "from statsmodels.stats.proportion import proportions_ztest"
   ]
  },
  {
   "cell_type": "code",
   "execution_count": 13,
   "id": "54578f1e",
   "metadata": {},
   "outputs": [
    {
     "data": {
      "text/html": [
       "<div>\n",
       "<style scoped>\n",
       "    .dataframe tbody tr th:only-of-type {\n",
       "        vertical-align: middle;\n",
       "    }\n",
       "\n",
       "    .dataframe tbody tr th {\n",
       "        vertical-align: top;\n",
       "    }\n",
       "\n",
       "    .dataframe thead th {\n",
       "        text-align: right;\n",
       "    }\n",
       "</style>\n",
       "<table border=\"1\" class=\"dataframe\">\n",
       "  <thead>\n",
       "    <tr style=\"text-align: right;\">\n",
       "      <th></th>\n",
       "      <th>client_id</th>\n",
       "      <th>visitor_id</th>\n",
       "      <th>visit_id</th>\n",
       "      <th>process_step</th>\n",
       "      <th>date_time</th>\n",
       "      <th>Variation</th>\n",
       "    </tr>\n",
       "  </thead>\n",
       "  <tbody>\n",
       "    <tr>\n",
       "      <th>8</th>\n",
       "      <td>8320017</td>\n",
       "      <td>39393514_33118319366</td>\n",
       "      <td>960651974_70596002104_312201</td>\n",
       "      <td>confirm</td>\n",
       "      <td>2017-04-05 13:10:05</td>\n",
       "      <td>Test</td>\n",
       "    </tr>\n",
       "    <tr>\n",
       "      <th>13</th>\n",
       "      <td>4033851</td>\n",
       "      <td>762728880_76361333336</td>\n",
       "      <td>949661017_22392791362_127391</td>\n",
       "      <td>confirm</td>\n",
       "      <td>2017-04-05 12:29:03</td>\n",
       "      <td>Control</td>\n",
       "    </tr>\n",
       "    <tr>\n",
       "      <th>14</th>\n",
       "      <td>4033851</td>\n",
       "      <td>762728880_76361333336</td>\n",
       "      <td>949661017_22392791362_127391</td>\n",
       "      <td>confirm</td>\n",
       "      <td>2017-04-05 12:29:01</td>\n",
       "      <td>Control</td>\n",
       "    </tr>\n",
       "    <tr>\n",
       "      <th>15</th>\n",
       "      <td>4033851</td>\n",
       "      <td>762728880_76361333336</td>\n",
       "      <td>949661017_22392791362_127391</td>\n",
       "      <td>confirm</td>\n",
       "      <td>2017-04-05 12:28:52</td>\n",
       "      <td>Control</td>\n",
       "    </tr>\n",
       "    <tr>\n",
       "      <th>24</th>\n",
       "      <td>1982004</td>\n",
       "      <td>618934751_10082078917</td>\n",
       "      <td>132494692_73738638511_70823</td>\n",
       "      <td>confirm</td>\n",
       "      <td>2017-04-17 12:02:42</td>\n",
       "      <td>Test</td>\n",
       "    </tr>\n",
       "    <tr>\n",
       "      <th>...</th>\n",
       "      <td>...</td>\n",
       "      <td>...</td>\n",
       "      <td>...</td>\n",
       "      <td>...</td>\n",
       "      <td>...</td>\n",
       "      <td>...</td>\n",
       "    </tr>\n",
       "    <tr>\n",
       "      <th>637400</th>\n",
       "      <td>6230585</td>\n",
       "      <td>100189756_32488226026</td>\n",
       "      <td>671811152_97876326241_999687</td>\n",
       "      <td>confirm</td>\n",
       "      <td>2017-05-08 09:29:38</td>\n",
       "      <td>Test</td>\n",
       "    </tr>\n",
       "    <tr>\n",
       "      <th>637423</th>\n",
       "      <td>4977550</td>\n",
       "      <td>795300798_27713164444</td>\n",
       "      <td>423005536_66563748376_701196</td>\n",
       "      <td>confirm</td>\n",
       "      <td>2017-05-25 15:19:39</td>\n",
       "      <td>Control</td>\n",
       "    </tr>\n",
       "    <tr>\n",
       "      <th>637462</th>\n",
       "      <td>6426623</td>\n",
       "      <td>27047012_3402532492</td>\n",
       "      <td>685634090_42070675506_389171</td>\n",
       "      <td>confirm</td>\n",
       "      <td>2017-05-19 05:40:14</td>\n",
       "      <td>Control</td>\n",
       "    </tr>\n",
       "    <tr>\n",
       "      <th>637467</th>\n",
       "      <td>433098</td>\n",
       "      <td>5505424_50616523266</td>\n",
       "      <td>773565250_67577573147_389841</td>\n",
       "      <td>confirm</td>\n",
       "      <td>2017-05-13 15:33:04</td>\n",
       "      <td>Control</td>\n",
       "    </tr>\n",
       "    <tr>\n",
       "      <th>637483</th>\n",
       "      <td>1574008</td>\n",
       "      <td>117364417_77840596075</td>\n",
       "      <td>528720790_71583064618_169151</td>\n",
       "      <td>confirm</td>\n",
       "      <td>2017-05-06 23:51:05</td>\n",
       "      <td>Test</td>\n",
       "    </tr>\n",
       "  </tbody>\n",
       "</table>\n",
       "<p>43227 rows × 6 columns</p>\n",
       "</div>"
      ],
      "text/plain": [
       "        client_id             visitor_id                      visit_id  \\\n",
       "8         8320017   39393514_33118319366  960651974_70596002104_312201   \n",
       "13        4033851  762728880_76361333336  949661017_22392791362_127391   \n",
       "14        4033851  762728880_76361333336  949661017_22392791362_127391   \n",
       "15        4033851  762728880_76361333336  949661017_22392791362_127391   \n",
       "24        1982004  618934751_10082078917   132494692_73738638511_70823   \n",
       "...           ...                    ...                           ...   \n",
       "637400    6230585  100189756_32488226026  671811152_97876326241_999687   \n",
       "637423    4977550  795300798_27713164444  423005536_66563748376_701196   \n",
       "637462    6426623    27047012_3402532492  685634090_42070675506_389171   \n",
       "637467     433098    5505424_50616523266  773565250_67577573147_389841   \n",
       "637483    1574008  117364417_77840596075  528720790_71583064618_169151   \n",
       "\n",
       "       process_step            date_time Variation  \n",
       "8           confirm  2017-04-05 13:10:05      Test  \n",
       "13          confirm  2017-04-05 12:29:03   Control  \n",
       "14          confirm  2017-04-05 12:29:01   Control  \n",
       "15          confirm  2017-04-05 12:28:52   Control  \n",
       "24          confirm  2017-04-17 12:02:42      Test  \n",
       "...             ...                  ...       ...  \n",
       "637400      confirm  2017-05-08 09:29:38      Test  \n",
       "637423      confirm  2017-05-25 15:19:39   Control  \n",
       "637462      confirm  2017-05-19 05:40:14   Control  \n",
       "637467      confirm  2017-05-13 15:33:04   Control  \n",
       "637483      confirm  2017-05-06 23:51:05      Test  \n",
       "\n",
       "[43227 rows x 6 columns]"
      ]
     },
     "execution_count": 13,
     "metadata": {},
     "output_type": "execute_result"
    }
   ],
   "source": [
    "completion_df"
   ]
  },
  {
   "cell_type": "code",
   "execution_count": 18,
   "id": "99387e1c",
   "metadata": {},
   "outputs": [
    {
     "data": {
      "text/plain": [
       "Variation\n",
       "Test         25722\n",
       "Control      17505\n",
       "Name: count, dtype: int64"
      ]
     },
     "execution_count": 18,
     "metadata": {},
     "output_type": "execute_result"
    }
   ],
   "source": [
    "successes_df = completion_df.value_counts(subset=[\"Variation\"])\n",
    "successes_df.head()"
   ]
  },
  {
   "cell_type": "code",
   "execution_count": 27,
   "id": "62a83e26",
   "metadata": {},
   "outputs": [],
   "source": [
    "successes = [successes_df[\"Test\"], successes_df[\"Control\"]]\n"
   ]
  },
  {
   "cell_type": "code",
   "execution_count": 25,
   "id": "37a2bc2b",
   "metadata": {},
   "outputs": [],
   "source": [
    "tries_df = df_merged.value_counts(subset=[\"Variation\"])"
   ]
  },
  {
   "cell_type": "code",
   "execution_count": 29,
   "id": "e68aeba8",
   "metadata": {},
   "outputs": [],
   "source": [
    "tries = [tries_df[\"Test\"], tries_df[\"Control\"]]"
   ]
  },
  {
   "cell_type": "code",
   "execution_count": 30,
   "id": "b66c3f2a",
   "metadata": {},
   "outputs": [
    {
     "data": {
      "text/plain": [
       "(18.67324116863663, 8.173840595991908e-78)"
      ]
     },
     "execution_count": 30,
     "metadata": {},
     "output_type": "execute_result"
    }
   ],
   "source": [
    "proportions_ztest(successes, tries)"
   ]
  },
  {
   "cell_type": "code",
   "execution_count": null,
   "id": "6d9510e9",
   "metadata": {},
   "outputs": [],
   "source": []
  }
 ],
 "metadata": {
  "kernelspec": {
   "display_name": "base",
   "language": "python",
   "name": "python3"
  },
  "language_info": {
   "codemirror_mode": {
    "name": "ipython",
    "version": 3
   },
   "file_extension": ".py",
   "mimetype": "text/x-python",
   "name": "python",
   "nbconvert_exporter": "python",
   "pygments_lexer": "ipython3",
   "version": "3.12.7"
  }
 },
 "nbformat": 4,
 "nbformat_minor": 5
}
