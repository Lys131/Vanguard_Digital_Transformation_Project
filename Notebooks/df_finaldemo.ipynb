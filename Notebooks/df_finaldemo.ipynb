{
 "cells": [
  {
   "cell_type": "code",
   "execution_count": 20,
   "id": "8fa8bc54",
   "metadata": {},
   "outputs": [],
   "source": [
    "import pandas as pd "
   ]
  },
  {
   "cell_type": "code",
   "execution_count": 21,
   "id": "3245ba8f",
   "metadata": {},
   "outputs": [],
   "source": [
    "df_final_demo = pd.read_csv(\"/Users/laurasuemitsu/Desktop/DATA_FT_May_2025/Week 5/Project/txt files/df_final_demo.txt\")\n",
    "\n",
    "df_final_demo.to_csv('df_fd.csv', index = False)"
   ]
  },
  {
   "cell_type": "code",
   "execution_count": 22,
   "id": "6846f499",
   "metadata": {},
   "outputs": [],
   "source": [
    "df_fd = pd.read_csv(\"/Users/laurasuemitsu/Desktop/DATA_FT_May_2025/Week 5/Project/CSV files/df_fd.csv\")"
   ]
  },
  {
   "cell_type": "code",
   "execution_count": 23,
   "id": "1771514d",
   "metadata": {},
   "outputs": [],
   "source": [
    "df_grp = pd.read_csv(\"/Users/laurasuemitsu/Desktop/DATA_FT_May_2025/Week 5/Project/CSV files/df_final_experiment_clients.csv\")"
   ]
  },
  {
   "cell_type": "code",
   "execution_count": 24,
   "id": "216fef26",
   "metadata": {},
   "outputs": [],
   "source": [
    "df_grp.drop(columns=[\"Unnamed: 0\"], inplace=True)"
   ]
  },
  {
   "cell_type": "code",
   "execution_count": 25,
   "id": "6e7d16b2",
   "metadata": {},
   "outputs": [],
   "source": [
    "df_demo_grp = pd.merge(left=df_fd, right=df_grp, how=\"inner\", on=\"client_id\")"
   ]
  },
  {
   "cell_type": "markdown",
   "id": "2076e845",
   "metadata": {},
   "source": [
    "## Dataset exploration"
   ]
  },
  {
   "cell_type": "code",
   "execution_count": 26,
   "id": "6051a776",
   "metadata": {},
   "outputs": [
    {
     "data": {
      "text/html": [
       "<div>\n",
       "<style scoped>\n",
       "    .dataframe tbody tr th:only-of-type {\n",
       "        vertical-align: middle;\n",
       "    }\n",
       "\n",
       "    .dataframe tbody tr th {\n",
       "        vertical-align: top;\n",
       "    }\n",
       "\n",
       "    .dataframe thead th {\n",
       "        text-align: right;\n",
       "    }\n",
       "</style>\n",
       "<table border=\"1\" class=\"dataframe\">\n",
       "  <thead>\n",
       "    <tr style=\"text-align: right;\">\n",
       "      <th></th>\n",
       "      <th>client_id</th>\n",
       "      <th>clnt_tenure_yr</th>\n",
       "      <th>clnt_tenure_mnth</th>\n",
       "      <th>clnt_age</th>\n",
       "      <th>gendr</th>\n",
       "      <th>num_accts</th>\n",
       "      <th>bal</th>\n",
       "      <th>calls_6_mnth</th>\n",
       "      <th>logons_6_mnth</th>\n",
       "      <th>Variation</th>\n",
       "    </tr>\n",
       "  </thead>\n",
       "  <tbody>\n",
       "    <tr>\n",
       "      <th>0</th>\n",
       "      <td>836976</td>\n",
       "      <td>6.0</td>\n",
       "      <td>73.0</td>\n",
       "      <td>60.5</td>\n",
       "      <td>U</td>\n",
       "      <td>2.0</td>\n",
       "      <td>45105.30</td>\n",
       "      <td>6.0</td>\n",
       "      <td>9.0</td>\n",
       "      <td>Test</td>\n",
       "    </tr>\n",
       "    <tr>\n",
       "      <th>1</th>\n",
       "      <td>2304905</td>\n",
       "      <td>7.0</td>\n",
       "      <td>94.0</td>\n",
       "      <td>58.0</td>\n",
       "      <td>U</td>\n",
       "      <td>2.0</td>\n",
       "      <td>110860.30</td>\n",
       "      <td>6.0</td>\n",
       "      <td>9.0</td>\n",
       "      <td>Control</td>\n",
       "    </tr>\n",
       "    <tr>\n",
       "      <th>2</th>\n",
       "      <td>1439522</td>\n",
       "      <td>5.0</td>\n",
       "      <td>64.0</td>\n",
       "      <td>32.0</td>\n",
       "      <td>U</td>\n",
       "      <td>2.0</td>\n",
       "      <td>52467.79</td>\n",
       "      <td>6.0</td>\n",
       "      <td>9.0</td>\n",
       "      <td>Test</td>\n",
       "    </tr>\n",
       "    <tr>\n",
       "      <th>3</th>\n",
       "      <td>1562045</td>\n",
       "      <td>16.0</td>\n",
       "      <td>198.0</td>\n",
       "      <td>49.0</td>\n",
       "      <td>M</td>\n",
       "      <td>2.0</td>\n",
       "      <td>67454.65</td>\n",
       "      <td>3.0</td>\n",
       "      <td>6.0</td>\n",
       "      <td>Test</td>\n",
       "    </tr>\n",
       "    <tr>\n",
       "      <th>4</th>\n",
       "      <td>5126305</td>\n",
       "      <td>12.0</td>\n",
       "      <td>145.0</td>\n",
       "      <td>33.0</td>\n",
       "      <td>F</td>\n",
       "      <td>2.0</td>\n",
       "      <td>103671.75</td>\n",
       "      <td>0.0</td>\n",
       "      <td>3.0</td>\n",
       "      <td>Control</td>\n",
       "    </tr>\n",
       "  </tbody>\n",
       "</table>\n",
       "</div>"
      ],
      "text/plain": [
       "   client_id  clnt_tenure_yr  clnt_tenure_mnth  clnt_age gendr  num_accts  \\\n",
       "0     836976             6.0              73.0      60.5     U        2.0   \n",
       "1    2304905             7.0              94.0      58.0     U        2.0   \n",
       "2    1439522             5.0              64.0      32.0     U        2.0   \n",
       "3    1562045            16.0             198.0      49.0     M        2.0   \n",
       "4    5126305            12.0             145.0      33.0     F        2.0   \n",
       "\n",
       "         bal  calls_6_mnth  logons_6_mnth Variation  \n",
       "0   45105.30           6.0            9.0      Test  \n",
       "1  110860.30           6.0            9.0   Control  \n",
       "2   52467.79           6.0            9.0      Test  \n",
       "3   67454.65           3.0            6.0      Test  \n",
       "4  103671.75           0.0            3.0   Control  "
      ]
     },
     "execution_count": 26,
     "metadata": {},
     "output_type": "execute_result"
    }
   ],
   "source": [
    "df_demo_grp.head()"
   ]
  },
  {
   "cell_type": "code",
   "execution_count": 27,
   "id": "c8897a74",
   "metadata": {},
   "outputs": [
    {
     "data": {
      "text/plain": [
       "(70609, 10)"
      ]
     },
     "execution_count": 27,
     "metadata": {},
     "output_type": "execute_result"
    }
   ],
   "source": [
    "df_demo_grp.shape"
   ]
  },
  {
   "cell_type": "code",
   "execution_count": 28,
   "id": "13480586",
   "metadata": {},
   "outputs": [
    {
     "data": {
      "text/plain": [
       "client_id             int64\n",
       "clnt_tenure_yr      float64\n",
       "clnt_tenure_mnth    float64\n",
       "clnt_age            float64\n",
       "gendr                object\n",
       "num_accts           float64\n",
       "bal                 float64\n",
       "calls_6_mnth        float64\n",
       "logons_6_mnth       float64\n",
       "Variation            object\n",
       "dtype: object"
      ]
     },
     "execution_count": 28,
     "metadata": {},
     "output_type": "execute_result"
    }
   ],
   "source": [
    "df_demo_grp.dtypes"
   ]
  },
  {
   "cell_type": "code",
   "execution_count": 29,
   "id": "c40f8d39",
   "metadata": {},
   "outputs": [
    {
     "data": {
      "text/plain": [
       "bal                 70327\n",
       "clnt_tenure_mnth      482\n",
       "clnt_age              165\n",
       "clnt_tenure_yr         54\n",
       "logons_6_mnth           9\n",
       "num_accts               8\n",
       "calls_6_mnth            8\n",
       "dtype: int64"
      ]
     },
     "execution_count": 29,
     "metadata": {},
     "output_type": "execute_result"
    }
   ],
   "source": [
    "df_demo_grp.select_dtypes(\"float\").nunique().sort_values(ascending=False)\n",
    "# didn't use number as dtype, because the client_id variable is for sure a categorical variable"
   ]
  },
  {
   "cell_type": "code",
   "execution_count": 30,
   "id": "25ab5284",
   "metadata": {},
   "outputs": [
    {
     "data": {
      "text/html": [
       "<div>\n",
       "<style scoped>\n",
       "    .dataframe tbody tr th:only-of-type {\n",
       "        vertical-align: middle;\n",
       "    }\n",
       "\n",
       "    .dataframe tbody tr th {\n",
       "        vertical-align: top;\n",
       "    }\n",
       "\n",
       "    .dataframe thead th {\n",
       "        text-align: right;\n",
       "    }\n",
       "</style>\n",
       "<table border=\"1\" class=\"dataframe\">\n",
       "  <thead>\n",
       "    <tr style=\"text-align: right;\">\n",
       "      <th></th>\n",
       "      <th>clnt_tenure_yr</th>\n",
       "      <th>clnt_tenure_mnth</th>\n",
       "      <th>clnt_age</th>\n",
       "      <th>num_accts</th>\n",
       "      <th>bal</th>\n",
       "      <th>calls_6_mnth</th>\n",
       "      <th>logons_6_mnth</th>\n",
       "    </tr>\n",
       "  </thead>\n",
       "  <tbody>\n",
       "    <tr>\n",
       "      <th>0</th>\n",
       "      <td>6.0</td>\n",
       "      <td>73.0</td>\n",
       "      <td>60.5</td>\n",
       "      <td>2.0</td>\n",
       "      <td>45105.30</td>\n",
       "      <td>6.0</td>\n",
       "      <td>9.0</td>\n",
       "    </tr>\n",
       "    <tr>\n",
       "      <th>1</th>\n",
       "      <td>7.0</td>\n",
       "      <td>94.0</td>\n",
       "      <td>58.0</td>\n",
       "      <td>2.0</td>\n",
       "      <td>110860.30</td>\n",
       "      <td>6.0</td>\n",
       "      <td>9.0</td>\n",
       "    </tr>\n",
       "    <tr>\n",
       "      <th>2</th>\n",
       "      <td>5.0</td>\n",
       "      <td>64.0</td>\n",
       "      <td>32.0</td>\n",
       "      <td>2.0</td>\n",
       "      <td>52467.79</td>\n",
       "      <td>6.0</td>\n",
       "      <td>9.0</td>\n",
       "    </tr>\n",
       "    <tr>\n",
       "      <th>3</th>\n",
       "      <td>16.0</td>\n",
       "      <td>198.0</td>\n",
       "      <td>49.0</td>\n",
       "      <td>2.0</td>\n",
       "      <td>67454.65</td>\n",
       "      <td>3.0</td>\n",
       "      <td>6.0</td>\n",
       "    </tr>\n",
       "    <tr>\n",
       "      <th>4</th>\n",
       "      <td>12.0</td>\n",
       "      <td>145.0</td>\n",
       "      <td>33.0</td>\n",
       "      <td>2.0</td>\n",
       "      <td>103671.75</td>\n",
       "      <td>0.0</td>\n",
       "      <td>3.0</td>\n",
       "    </tr>\n",
       "  </tbody>\n",
       "</table>\n",
       "</div>"
      ],
      "text/plain": [
       "   clnt_tenure_yr  clnt_tenure_mnth  clnt_age  num_accts        bal  \\\n",
       "0             6.0              73.0      60.5        2.0   45105.30   \n",
       "1             7.0              94.0      58.0        2.0  110860.30   \n",
       "2             5.0              64.0      32.0        2.0   52467.79   \n",
       "3            16.0             198.0      49.0        2.0   67454.65   \n",
       "4            12.0             145.0      33.0        2.0  103671.75   \n",
       "\n",
       "   calls_6_mnth  logons_6_mnth  \n",
       "0           6.0            9.0  \n",
       "1           6.0            9.0  \n",
       "2           6.0            9.0  \n",
       "3           3.0            6.0  \n",
       "4           0.0            3.0  "
      ]
     },
     "execution_count": 30,
     "metadata": {},
     "output_type": "execute_result"
    }
   ],
   "source": [
    "df_demo_grp_num = df_demo_grp.drop(columns=[\"client_id\", \"gendr\", \"Variation\"])\n",
    "\n",
    "df_demo_grp_num.head()"
   ]
  },
  {
   "cell_type": "code",
   "execution_count": 31,
   "id": "dfed8f76",
   "metadata": {},
   "outputs": [
    {
     "data": {
      "text/html": [
       "<div>\n",
       "<style scoped>\n",
       "    .dataframe tbody tr th:only-of-type {\n",
       "        vertical-align: middle;\n",
       "    }\n",
       "\n",
       "    .dataframe tbody tr th {\n",
       "        vertical-align: top;\n",
       "    }\n",
       "\n",
       "    .dataframe thead th {\n",
       "        text-align: right;\n",
       "    }\n",
       "</style>\n",
       "<table border=\"1\" class=\"dataframe\">\n",
       "  <thead>\n",
       "    <tr style=\"text-align: right;\">\n",
       "      <th></th>\n",
       "      <th>client_id</th>\n",
       "      <th>gendr</th>\n",
       "      <th>Variation</th>\n",
       "    </tr>\n",
       "  </thead>\n",
       "  <tbody>\n",
       "    <tr>\n",
       "      <th>0</th>\n",
       "      <td>836976</td>\n",
       "      <td>U</td>\n",
       "      <td>Test</td>\n",
       "    </tr>\n",
       "    <tr>\n",
       "      <th>1</th>\n",
       "      <td>2304905</td>\n",
       "      <td>U</td>\n",
       "      <td>Control</td>\n",
       "    </tr>\n",
       "    <tr>\n",
       "      <th>2</th>\n",
       "      <td>1439522</td>\n",
       "      <td>U</td>\n",
       "      <td>Test</td>\n",
       "    </tr>\n",
       "    <tr>\n",
       "      <th>3</th>\n",
       "      <td>1562045</td>\n",
       "      <td>M</td>\n",
       "      <td>Test</td>\n",
       "    </tr>\n",
       "    <tr>\n",
       "      <th>4</th>\n",
       "      <td>5126305</td>\n",
       "      <td>F</td>\n",
       "      <td>Control</td>\n",
       "    </tr>\n",
       "  </tbody>\n",
       "</table>\n",
       "</div>"
      ],
      "text/plain": [
       "   client_id gendr Variation\n",
       "0     836976     U      Test\n",
       "1    2304905     U   Control\n",
       "2    1439522     U      Test\n",
       "3    1562045     M      Test\n",
       "4    5126305     F   Control"
      ]
     },
     "execution_count": 31,
     "metadata": {},
     "output_type": "execute_result"
    }
   ],
   "source": [
    "df_demo_grp_cat = df_demo_grp.drop(df_demo_grp_num, axis = 1)\n",
    "df_demo_grp_cat.head()"
   ]
  },
  {
   "cell_type": "code",
   "execution_count": 32,
   "id": "c1710b88",
   "metadata": {},
   "outputs": [
    {
     "data": {
      "text/plain": [
       "0"
      ]
     },
     "execution_count": 32,
     "metadata": {},
     "output_type": "execute_result"
    }
   ],
   "source": [
    "df_demo_grp.duplicated().sum()"
   ]
  },
  {
   "cell_type": "markdown",
   "id": "6591c853",
   "metadata": {},
   "source": [
    "#### **No duplicates in the dataframe**."
   ]
  },
  {
   "cell_type": "code",
   "execution_count": 33,
   "id": "d6d81a71",
   "metadata": {},
   "outputs": [
    {
     "data": {
      "text/plain": [
       "Variation           20109\n",
       "clnt_age               15\n",
       "clnt_tenure_yr         14\n",
       "clnt_tenure_mnth       14\n",
       "gendr                  14\n",
       "num_accts              14\n",
       "bal                    14\n",
       "calls_6_mnth           14\n",
       "logons_6_mnth          14\n",
       "client_id               0\n",
       "dtype: int64"
      ]
     },
     "execution_count": 33,
     "metadata": {},
     "output_type": "execute_result"
    }
   ],
   "source": [
    "df_demo_grp.isnull().sum().sort_values(ascending=False)"
   ]
  },
  {
   "cell_type": "code",
   "execution_count": 34,
   "id": "79cd1224",
   "metadata": {},
   "outputs": [],
   "source": [
    "df_demo_grp = df_demo_grp.dropna(subset=[\"Variation\"])"
   ]
  },
  {
   "cell_type": "code",
   "execution_count": 35,
   "id": "5030bcc3",
   "metadata": {},
   "outputs": [
    {
     "data": {
      "text/plain": [
       "(50500, 10)"
      ]
     },
     "execution_count": 35,
     "metadata": {},
     "output_type": "execute_result"
    }
   ],
   "source": [
    "df_demo_grp.shape"
   ]
  },
  {
   "cell_type": "markdown",
   "id": "79c1ec6f",
   "metadata": {},
   "source": [
    "## Client behavior analysis"
   ]
  },
  {
   "cell_type": "markdown",
   "id": "0da2c1f0",
   "metadata": {},
   "source": [
    "- Who are the primary clients using this online process?\n",
    "- Are the primary clients younger or older, new or long-standing?"
   ]
  },
  {
   "cell_type": "code",
   "execution_count": 36,
   "id": "05587ed5",
   "metadata": {},
   "outputs": [],
   "source": [
    "# Dividing the dataset into the two groups:\n",
    "\n",
    "df_demo_test = df_demo_grp[df_demo_grp[\"Variation\"] == \"Test\"]\n",
    "\n",
    "df_demo_ctrl = df_demo_grp[df_demo_grp[\"Variation\"] == \"Control\"]"
   ]
  },
  {
   "cell_type": "code",
   "execution_count": 37,
   "id": "6754e98e",
   "metadata": {},
   "outputs": [],
   "source": [
    "import seaborn as sns\n",
    "import numpy as np\n",
    "import matplotlib.pyplot as plt"
   ]
  },
  {
   "cell_type": "markdown",
   "id": "8b6698d0",
   "metadata": {},
   "source": [
    "### Clients' age:"
   ]
  },
  {
   "cell_type": "code",
   "execution_count": 38,
   "id": "9af0b626",
   "metadata": {},
   "outputs": [
    {
     "data": {
      "image/png": "[encoded data removed]",
      "text/plain": [
       "<Figure size 640x480 with 1 Axes>"
      ]
     },
     "metadata": {},
     "output_type": "display_data"
    }
   ],
   "source": [
    "sns.histplot(df_demo_test[\"clnt_age\"], kde = True, color = \"steelblue\")\n",
    "plt.xlabel(\"Test Group\")\n",
    "plt.show()"
   ]
  },
  {
   "cell_type": "code",
   "execution_count": 39,
   "id": "912742fb",
   "metadata": {},
   "outputs": [
    {
     "data": {
      "image/png": "[encoded data removed]",
      "text/plain": [
       "<Figure size 640x480 with 1 Axes>"
      ]
     },
     "metadata": {},
     "output_type": "display_data"
    }
   ],
   "source": [
    "sns.histplot(df_demo_ctrl[\"clnt_age\"], kde = True, color = \"steelblue\")\n",
    "plt.xlabel(\"Control Group\")\n",
    "plt.show()"
   ]
  },
  {
   "cell_type": "code",
   "execution_count": 40,
   "id": "b7fb65a0",
   "metadata": {},
   "outputs": [
    {
     "data": {
      "text/plain": [
       "(47.2, 47.5, 29.5)"
      ]
     },
     "execution_count": 40,
     "metadata": {},
     "output_type": "execute_result"
    }
   ],
   "source": [
    "# 1. Test group\n",
    "\n",
    "mean_age_t = round(df_demo_test[\"clnt_age\"].mean(), 1)\n",
    "median_age_t = df_demo_test[\"clnt_age\"].median()\n",
    "mode_age_t = df_demo_test[\"clnt_age\"].mode()[0]\n",
    "\n",
    "mean_age_t, median_age_t, mode_age_t"
   ]
  },
  {
   "cell_type": "code",
   "execution_count": 41,
   "id": "277e75fc",
   "metadata": {},
   "outputs": [
    {
     "data": {
      "text/plain": [
       "(47.5, 48.5, 58.5)"
      ]
     },
     "execution_count": 41,
     "metadata": {},
     "output_type": "execute_result"
    }
   ],
   "source": [
    "# 2. Control group\n",
    "\n",
    "mean_age_c = round(df_demo_ctrl[\"clnt_age\"].mean(), 1)\n",
    "median_age_c = df_demo_ctrl[\"clnt_age\"].median()\n",
    "mode_age_c = df_demo_ctrl[\"clnt_age\"].mode()[0]\n",
    "\n",
    "mean_age_c, median_age_c, mode_age_c"
   ]
  },
  {
   "cell_type": "code",
   "execution_count": 42,
   "id": "2200ec57",
   "metadata": {},
   "outputs": [
    {
     "data": {
      "text/plain": [
       "(96.0, 17.0, 79.0)"
      ]
     },
     "execution_count": 42,
     "metadata": {},
     "output_type": "execute_result"
    }
   ],
   "source": [
    "# 3. Test group\n",
    "max_age_t = df_demo_test[\"clnt_age\"].max()\n",
    "min_age_t = df_demo_test[\"clnt_age\"].min()\n",
    "range_age_t = max_age_t - min_age_t\n",
    "\n",
    "max_age_t, min_age_t, range_age_t"
   ]
  },
  {
   "cell_type": "code",
   "execution_count": 43,
   "id": "9bbc3a79",
   "metadata": {},
   "outputs": [
    {
     "data": {
      "text/plain": [
       "(96.0, 17.0, 79.0)"
      ]
     },
     "execution_count": 43,
     "metadata": {},
     "output_type": "execute_result"
    }
   ],
   "source": [
    "# 4. Control group\n",
    "max_age_c = df_demo_ctrl[\"clnt_age\"].max()\n",
    "min_age_c = df_demo_ctrl[\"clnt_age\"].min()\n",
    "range_age_c = max_age_c- min_age_c\n",
    "\n",
    "max_age_c, min_age_c, range_age_c"
   ]
  },
  {
   "cell_type": "markdown",
   "id": "0bd42898",
   "metadata": {},
   "source": [
    "### Clients' tenure year:"
   ]
  },
  {
   "cell_type": "code",
   "execution_count": 44,
   "id": "8385544c",
   "metadata": {},
   "outputs": [
    {
     "data": {
      "image/png": "[encoded data removed]",
      "text/plain": [
       "<Figure size 640x480 with 1 Axes>"
      ]
     },
     "metadata": {},
     "output_type": "display_data"
    }
   ],
   "source": [
    "sns.histplot(df_demo_test[\"clnt_tenure_yr\"], kde = True, color = \"slategrey\")\n",
    "plt.xlabel(\"Test Group\")\n",
    "plt.show()"
   ]
  },
  {
   "cell_type": "code",
   "execution_count": 45,
   "id": "20a34b32",
   "metadata": {},
   "outputs": [
    {
     "data": {
      "image/png": "[encoded data removed]",
      "text/plain": [
       "<Figure size 640x480 with 1 Axes>"
      ]
     },
     "metadata": {},
     "output_type": "display_data"
    }
   ],
   "source": [
    "sns.histplot(df_demo_ctrl[\"clnt_tenure_yr\"], kde = True, color = \"slategrey\")\n",
    "plt.xlabel(\"Control Group\")\n",
    "plt.show()"
   ]
  },
  {
   "cell_type": "code",
   "execution_count": 46,
   "id": "ba49a070",
   "metadata": {},
   "outputs": [
    {
     "data": {
      "text/plain": [
       "(12.0, 11.0, 5.0)"
      ]
     },
     "execution_count": 46,
     "metadata": {},
     "output_type": "execute_result"
    }
   ],
   "source": [
    "mean_tenure_t = round(df_demo_test[\"clnt_tenure_yr\"].mean(), 1)\n",
    "median_tenure_t = df_demo_test[\"clnt_tenure_yr\"].median()\n",
    "mode_tenure_t = df_demo_test[\"clnt_tenure_yr\"].mode()[0]\n",
    "\n",
    "mean_tenure_t, median_tenure_t, mode_tenure_t"
   ]
  },
  {
   "cell_type": "code",
   "execution_count": 47,
   "id": "4ffd640a",
   "metadata": {},
   "outputs": [
    {
     "data": {
      "text/plain": [
       "(12.1, 11.0, 6.0)"
      ]
     },
     "execution_count": 47,
     "metadata": {},
     "output_type": "execute_result"
    }
   ],
   "source": [
    "mean_tenure_c = round(df_demo_ctrl[\"clnt_tenure_yr\"].mean(), 1)\n",
    "median_tenure_c = df_demo_ctrl[\"clnt_tenure_yr\"].median()\n",
    "mode_tenure_c = df_demo_ctrl[\"clnt_tenure_yr\"].mode()[0]\n",
    "\n",
    "mean_tenure_c, median_tenure_c, mode_tenure_c"
   ]
  },
  {
   "cell_type": "markdown",
   "id": "b2858400",
   "metadata": {},
   "source": [
    "### Clients' balance"
   ]
  },
  {
   "cell_type": "code",
   "execution_count": 48,
   "id": "ab906f02",
   "metadata": {},
   "outputs": [
    {
     "data": {
      "text/plain": [
       "(148962.61, 65468.36, 29389.11)"
      ]
     },
     "execution_count": 48,
     "metadata": {},
     "output_type": "execute_result"
    }
   ],
   "source": [
    "mean_bal_t = round(df_demo_test[\"bal\"].mean(), 2)\n",
    "median_bal_t = df_demo_test[\"bal\"].median()\n",
    "mode_bal_t = df_demo_test[\"bal\"].mode()[0]\n",
    "\n",
    "mean_bal_t, median_bal_t, mode_bal_t"
   ]
  },
  {
   "cell_type": "code",
   "execution_count": 49,
   "id": "06b8a087",
   "metadata": {},
   "outputs": [
    {
     "data": {
      "text/plain": [
       "(150147.33, 66024.18, 31188.62)"
      ]
     },
     "execution_count": 49,
     "metadata": {},
     "output_type": "execute_result"
    }
   ],
   "source": [
    "mean_bal_c = round(df_demo_ctrl[\"bal\"].mean(), 2)\n",
    "median_bal_c = df_demo_ctrl[\"bal\"].median()\n",
    "mode_bal_c = df_demo_ctrl[\"bal\"].mode()[0]\n",
    "\n",
    "mean_bal_c, median_bal_c, mode_bal_c"
   ]
  },
  {
   "cell_type": "code",
   "execution_count": 50,
   "id": "2f29afb4",
   "metadata": {},
   "outputs": [
    {
     "data": {
      "text/plain": [
       "(8292996.21, 23789.61, 8269206.6)"
      ]
     },
     "execution_count": 50,
     "metadata": {},
     "output_type": "execute_result"
    }
   ],
   "source": [
    "max_bal_c = df_demo_ctrl[\"bal\"].max()\n",
    "min_bal_c = df_demo_ctrl[\"bal\"].min()\n",
    "range_bal_c = max_bal_c - min_bal_c\n",
    "\n",
    "max_bal_c, min_bal_c, range_bal_c"
   ]
  },
  {
   "cell_type": "code",
   "execution_count": 51,
   "id": "94b4516d",
   "metadata": {},
   "outputs": [
    {
     "data": {
      "image/png": "[encoded data removed]",
      "text/plain": [
       "<Figure size 640x480 with 1 Axes>"
      ]
     },
     "metadata": {},
     "output_type": "display_data"
    }
   ],
   "source": [
    "df_bal_t = df_demo_test[df_demo_test[\"bal\"] < 200000]\n",
    "sns.histplot(df_bal_t[\"bal\"], kde = True, color=\"lightskyblue\")\n",
    "plt.xlabel(\"Test Group\")\n",
    "plt.show()\n"
   ]
  },
  {
   "cell_type": "code",
   "execution_count": 52,
   "id": "805cefcc",
   "metadata": {},
   "outputs": [
    {
     "data": {
      "image/png": "[encoded data removed]",
      "text/plain": [
       "<Figure size 640x480 with 1 Axes>"
      ]
     },
     "metadata": {},
     "output_type": "display_data"
    }
   ],
   "source": [
    "df_bal_c = df_demo_ctrl[df_demo_ctrl[\"bal\"] < 200000]\n",
    "sns.histplot(df_bal_c[\"bal\"], kde = True, color=\"lightskyblue\")\n",
    "plt.xlabel(\"Control Group\")\n",
    "plt.show()"
   ]
  },
  {
   "cell_type": "code",
   "execution_count": null,
   "id": "34dc97dd",
   "metadata": {},
   "outputs": [],
   "source": []
  }
 ],
 "metadata": {
  "kernelspec": {
   "display_name": "base",
   "language": "python",
   "name": "python3"
  },
  "language_info": {
   "codemirror_mode": {
    "name": "ipython",
    "version": 3
   },
   "file_extension": ".py",
   "mimetype": "text/x-python",
   "name": "python",
   "nbconvert_exporter": "python",
   "pygments_lexer": "ipython3",
   "version": "3.12.7"
  }
 },
 "nbformat": 4,
 "nbformat_minor": 5
}
