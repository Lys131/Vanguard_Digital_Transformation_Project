{
 "cells": [
  {
   "cell_type": "code",
   "execution_count": 59,
   "id": "b19c2799",
   "metadata": {},
   "outputs": [],
   "source": [
    "import pandas as pd\n",
    "import numpy as np\n",
    "import matplotlib.pyplot as plt\n",
    "import seaborn as sns"
   ]
  },
  {
   "cell_type": "code",
   "execution_count": 60,
   "id": "80df8d6b",
   "metadata": {},
   "outputs": [],
   "source": [
    "path1 = \"/Users/laurasuemitsu/Desktop/DATA_FT_May_2025/Week 5/Project/CSV files/df_final_web_data_merged.csv\""
   ]
  },
  {
   "cell_type": "code",
   "execution_count": 61,
   "id": "69dcf835",
   "metadata": {},
   "outputs": [],
   "source": [
    "df1 = pd.read_csv(path1)"
   ]
  },
  {
   "cell_type": "code",
   "execution_count": 62,
   "id": "7cbd45a2",
   "metadata": {},
   "outputs": [],
   "source": [
    "path2 = \"/Users/laurasuemitsu/Desktop/DATA_FT_May_2025/Week 5/Project/CSV files/df_final_experiment_clients.csv\""
   ]
  },
  {
   "cell_type": "code",
   "execution_count": 63,
   "id": "9035f9f5",
   "metadata": {},
   "outputs": [],
   "source": [
    "df2 = pd.read_csv(path2)\n",
    "df2.drop(columns=(\"Unnamed: 0\"), inplace=True)"
   ]
  },
  {
   "cell_type": "code",
   "execution_count": 64,
   "id": "d575747f",
   "metadata": {},
   "outputs": [],
   "source": [
    "df_merged = df1.merge(df2, how=\"inner\", on=\"client_id\")\n",
    "df_merged.dropna(inplace=True)"
   ]
  },
  {
   "cell_type": "code",
   "execution_count": 65,
   "id": "eea37c66",
   "metadata": {},
   "outputs": [
    {
     "data": {
      "text/plain": [
       "(321309, 6)"
      ]
     },
     "execution_count": 65,
     "metadata": {},
     "output_type": "execute_result"
    }
   ],
   "source": [
    "df_merged.shape"
   ]
  },
  {
   "cell_type": "code",
   "execution_count": 166,
   "id": "408a4bb3",
   "metadata": {},
   "outputs": [
    {
     "data": {
      "text/html": [
       "<div>\n",
       "<style scoped>\n",
       "    .dataframe tbody tr th:only-of-type {\n",
       "        vertical-align: middle;\n",
       "    }\n",
       "\n",
       "    .dataframe tbody tr th {\n",
       "        vertical-align: top;\n",
       "    }\n",
       "\n",
       "    .dataframe thead th {\n",
       "        text-align: right;\n",
       "    }\n",
       "</style>\n",
       "<table border=\"1\" class=\"dataframe\">\n",
       "  <thead>\n",
       "    <tr style=\"text-align: right;\">\n",
       "      <th></th>\n",
       "      <th>client_id</th>\n",
       "      <th>visitor_id</th>\n",
       "      <th>visit_id</th>\n",
       "      <th>process_step</th>\n",
       "      <th>date_time</th>\n",
       "      <th>Variation</th>\n",
       "      <th>step_num</th>\n",
       "      <th>step_diff</th>\n",
       "      <th>is_error</th>\n",
       "    </tr>\n",
       "  </thead>\n",
       "  <tbody>\n",
       "    <tr>\n",
       "      <th>70803</th>\n",
       "      <td>555</td>\n",
       "      <td>402506806_56087378777</td>\n",
       "      <td>637149525_38041617439_716659</td>\n",
       "      <td>start</td>\n",
       "      <td>2017-04-15 12:57:56</td>\n",
       "      <td>Test</td>\n",
       "      <td>1</td>\n",
       "      <td>NaN</td>\n",
       "      <td>False</td>\n",
       "    </tr>\n",
       "    <tr>\n",
       "      <th>70802</th>\n",
       "      <td>555</td>\n",
       "      <td>402506806_56087378777</td>\n",
       "      <td>637149525_38041617439_716659</td>\n",
       "      <td>step_1</td>\n",
       "      <td>2017-04-15 12:58:03</td>\n",
       "      <td>Test</td>\n",
       "      <td>2</td>\n",
       "      <td>1.0</td>\n",
       "      <td>False</td>\n",
       "    </tr>\n",
       "    <tr>\n",
       "      <th>70801</th>\n",
       "      <td>555</td>\n",
       "      <td>402506806_56087378777</td>\n",
       "      <td>637149525_38041617439_716659</td>\n",
       "      <td>step_2</td>\n",
       "      <td>2017-04-15 12:58:35</td>\n",
       "      <td>Test</td>\n",
       "      <td>3</td>\n",
       "      <td>1.0</td>\n",
       "      <td>False</td>\n",
       "    </tr>\n",
       "    <tr>\n",
       "      <th>70800</th>\n",
       "      <td>555</td>\n",
       "      <td>402506806_56087378777</td>\n",
       "      <td>637149525_38041617439_716659</td>\n",
       "      <td>step_3</td>\n",
       "      <td>2017-04-15 13:00:14</td>\n",
       "      <td>Test</td>\n",
       "      <td>4</td>\n",
       "      <td>1.0</td>\n",
       "      <td>False</td>\n",
       "    </tr>\n",
       "    <tr>\n",
       "      <th>70799</th>\n",
       "      <td>555</td>\n",
       "      <td>402506806_56087378777</td>\n",
       "      <td>637149525_38041617439_716659</td>\n",
       "      <td>confirm</td>\n",
       "      <td>2017-04-15 13:00:34</td>\n",
       "      <td>Test</td>\n",
       "      <td>5</td>\n",
       "      <td>1.0</td>\n",
       "      <td>False</td>\n",
       "    </tr>\n",
       "  </tbody>\n",
       "</table>\n",
       "</div>"
      ],
      "text/plain": [
       "       client_id             visitor_id                      visit_id  \\\n",
       "70803        555  402506806_56087378777  637149525_38041617439_716659   \n",
       "70802        555  402506806_56087378777  637149525_38041617439_716659   \n",
       "70801        555  402506806_56087378777  637149525_38041617439_716659   \n",
       "70800        555  402506806_56087378777  637149525_38041617439_716659   \n",
       "70799        555  402506806_56087378777  637149525_38041617439_716659   \n",
       "\n",
       "      process_step           date_time Variation  step_num  step_diff  \\\n",
       "70803        start 2017-04-15 12:57:56      Test         1        NaN   \n",
       "70802       step_1 2017-04-15 12:58:03      Test         2        1.0   \n",
       "70801       step_2 2017-04-15 12:58:35      Test         3        1.0   \n",
       "70800       step_3 2017-04-15 13:00:14      Test         4        1.0   \n",
       "70799      confirm 2017-04-15 13:00:34      Test         5        1.0   \n",
       "\n",
       "       is_error  \n",
       "70803     False  \n",
       "70802     False  \n",
       "70801     False  \n",
       "70800     False  \n",
       "70799     False  "
      ]
     },
     "execution_count": 166,
     "metadata": {},
     "output_type": "execute_result"
    }
   ],
   "source": [
    "df_merged.head()"
   ]
  },
  {
   "cell_type": "code",
   "execution_count": 141,
   "id": "29304481",
   "metadata": {},
   "outputs": [
    {
     "data": {
      "image/png": "[encoded data removed]",
      "text/plain": [
       "<Figure size 700x400 with 1 Axes>"
      ]
     },
     "metadata": {},
     "output_type": "display_data"
    }
   ],
   "source": [
    "completion_df = df_merged[df_merged[\"process_step\"] == \"confirm\"]\n",
    "completion_rate = completion_df.groupby(\"Variation\")[\"client_id\"].nunique() / df_merged.groupby(\"Variation\")[\"client_id\"].nunique()\n",
    "\n",
    "# Drawing the plot\n",
    "plt.figure(figsize=(7, 4))\n",
    "bars = completion_rate.plot(kind='bar', color=[\"yellowgreen\", \"green\"])\n",
    "\n",
    "# Formating\n",
    "plt.title(\"Completion Rate by Experimental Group\")\n",
    "plt.ylabel(\"Completion Rate\")\n",
    "plt.xlabel(\"Group\")\n",
    "plt.ylim(0, 1.09 * completion_rate.max())\n",
    "plt.xticks(rotation=0)\n",
    "\n",
    "\n",
    "\n",
    "plt.show()"
   ]
  },
  {
   "cell_type": "markdown",
   "id": "9df722c2",
   "metadata": {},
   "source": [
    "**H0:** mu completion rate test = completion rate control\n",
    "\n",
    "**H1:** mu completion rate test != completion rate control"
   ]
  },
  {
   "cell_type": "code",
   "execution_count": 67,
   "id": "812524fb",
   "metadata": {},
   "outputs": [],
   "source": [
    "from statsmodels.stats.proportion import proportions_ztest"
   ]
  },
  {
   "cell_type": "code",
   "execution_count": 68,
   "id": "54578f1e",
   "metadata": {},
   "outputs": [
    {
     "data": {
      "text/html": [
       "<div>\n",
       "<style scoped>\n",
       "    .dataframe tbody tr th:only-of-type {\n",
       "        vertical-align: middle;\n",
       "    }\n",
       "\n",
       "    .dataframe tbody tr th {\n",
       "        vertical-align: top;\n",
       "    }\n",
       "\n",
       "    .dataframe thead th {\n",
       "        text-align: right;\n",
       "    }\n",
       "</style>\n",
       "<table border=\"1\" class=\"dataframe\">\n",
       "  <thead>\n",
       "    <tr style=\"text-align: right;\">\n",
       "      <th></th>\n",
       "      <th>client_id</th>\n",
       "      <th>visitor_id</th>\n",
       "      <th>visit_id</th>\n",
       "      <th>process_step</th>\n",
       "      <th>date_time</th>\n",
       "      <th>Variation</th>\n",
       "    </tr>\n",
       "  </thead>\n",
       "  <tbody>\n",
       "    <tr>\n",
       "      <th>8</th>\n",
       "      <td>8320017</td>\n",
       "      <td>39393514_33118319366</td>\n",
       "      <td>960651974_70596002104_312201</td>\n",
       "      <td>confirm</td>\n",
       "      <td>2017-04-05 13:10:05</td>\n",
       "      <td>Test</td>\n",
       "    </tr>\n",
       "    <tr>\n",
       "      <th>13</th>\n",
       "      <td>4033851</td>\n",
       "      <td>762728880_76361333336</td>\n",
       "      <td>949661017_22392791362_127391</td>\n",
       "      <td>confirm</td>\n",
       "      <td>2017-04-05 12:29:03</td>\n",
       "      <td>Control</td>\n",
       "    </tr>\n",
       "    <tr>\n",
       "      <th>14</th>\n",
       "      <td>4033851</td>\n",
       "      <td>762728880_76361333336</td>\n",
       "      <td>949661017_22392791362_127391</td>\n",
       "      <td>confirm</td>\n",
       "      <td>2017-04-05 12:29:01</td>\n",
       "      <td>Control</td>\n",
       "    </tr>\n",
       "    <tr>\n",
       "      <th>15</th>\n",
       "      <td>4033851</td>\n",
       "      <td>762728880_76361333336</td>\n",
       "      <td>949661017_22392791362_127391</td>\n",
       "      <td>confirm</td>\n",
       "      <td>2017-04-05 12:28:52</td>\n",
       "      <td>Control</td>\n",
       "    </tr>\n",
       "    <tr>\n",
       "      <th>24</th>\n",
       "      <td>1982004</td>\n",
       "      <td>618934751_10082078917</td>\n",
       "      <td>132494692_73738638511_70823</td>\n",
       "      <td>confirm</td>\n",
       "      <td>2017-04-17 12:02:42</td>\n",
       "      <td>Test</td>\n",
       "    </tr>\n",
       "    <tr>\n",
       "      <th>...</th>\n",
       "      <td>...</td>\n",
       "      <td>...</td>\n",
       "      <td>...</td>\n",
       "      <td>...</td>\n",
       "      <td>...</td>\n",
       "      <td>...</td>\n",
       "    </tr>\n",
       "    <tr>\n",
       "      <th>417623</th>\n",
       "      <td>6230585</td>\n",
       "      <td>100189756_32488226026</td>\n",
       "      <td>671811152_97876326241_999687</td>\n",
       "      <td>confirm</td>\n",
       "      <td>2017-05-08 09:29:38</td>\n",
       "      <td>Test</td>\n",
       "    </tr>\n",
       "    <tr>\n",
       "      <th>417628</th>\n",
       "      <td>4977550</td>\n",
       "      <td>795300798_27713164444</td>\n",
       "      <td>423005536_66563748376_701196</td>\n",
       "      <td>confirm</td>\n",
       "      <td>2017-05-25 15:19:39</td>\n",
       "      <td>Control</td>\n",
       "    </tr>\n",
       "    <tr>\n",
       "      <th>417634</th>\n",
       "      <td>6426623</td>\n",
       "      <td>27047012_3402532492</td>\n",
       "      <td>685634090_42070675506_389171</td>\n",
       "      <td>confirm</td>\n",
       "      <td>2017-05-19 05:40:14</td>\n",
       "      <td>Control</td>\n",
       "    </tr>\n",
       "    <tr>\n",
       "      <th>417639</th>\n",
       "      <td>433098</td>\n",
       "      <td>5505424_50616523266</td>\n",
       "      <td>773565250_67577573147_389841</td>\n",
       "      <td>confirm</td>\n",
       "      <td>2017-05-13 15:33:04</td>\n",
       "      <td>Control</td>\n",
       "    </tr>\n",
       "    <tr>\n",
       "      <th>417646</th>\n",
       "      <td>1574008</td>\n",
       "      <td>117364417_77840596075</td>\n",
       "      <td>528720790_71583064618_169151</td>\n",
       "      <td>confirm</td>\n",
       "      <td>2017-05-06 23:51:05</td>\n",
       "      <td>Test</td>\n",
       "    </tr>\n",
       "  </tbody>\n",
       "</table>\n",
       "<p>43227 rows × 6 columns</p>\n",
       "</div>"
      ],
      "text/plain": [
       "        client_id             visitor_id                      visit_id  \\\n",
       "8         8320017   39393514_33118319366  960651974_70596002104_312201   \n",
       "13        4033851  762728880_76361333336  949661017_22392791362_127391   \n",
       "14        4033851  762728880_76361333336  949661017_22392791362_127391   \n",
       "15        4033851  762728880_76361333336  949661017_22392791362_127391   \n",
       "24        1982004  618934751_10082078917   132494692_73738638511_70823   \n",
       "...           ...                    ...                           ...   \n",
       "417623    6230585  100189756_32488226026  671811152_97876326241_999687   \n",
       "417628    4977550  795300798_27713164444  423005536_66563748376_701196   \n",
       "417634    6426623    27047012_3402532492  685634090_42070675506_389171   \n",
       "417639     433098    5505424_50616523266  773565250_67577573147_389841   \n",
       "417646    1574008  117364417_77840596075  528720790_71583064618_169151   \n",
       "\n",
       "       process_step            date_time Variation  \n",
       "8           confirm  2017-04-05 13:10:05      Test  \n",
       "13          confirm  2017-04-05 12:29:03   Control  \n",
       "14          confirm  2017-04-05 12:29:01   Control  \n",
       "15          confirm  2017-04-05 12:28:52   Control  \n",
       "24          confirm  2017-04-17 12:02:42      Test  \n",
       "...             ...                  ...       ...  \n",
       "417623      confirm  2017-05-08 09:29:38      Test  \n",
       "417628      confirm  2017-05-25 15:19:39   Control  \n",
       "417634      confirm  2017-05-19 05:40:14   Control  \n",
       "417639      confirm  2017-05-13 15:33:04   Control  \n",
       "417646      confirm  2017-05-06 23:51:05      Test  \n",
       "\n",
       "[43227 rows x 6 columns]"
      ]
     },
     "execution_count": 68,
     "metadata": {},
     "output_type": "execute_result"
    }
   ],
   "source": [
    "completion_df"
   ]
  },
  {
   "cell_type": "code",
   "execution_count": 69,
   "id": "99387e1c",
   "metadata": {},
   "outputs": [
    {
     "data": {
      "text/plain": [
       "Variation\n",
       "Control    15434\n",
       "Test       18687\n",
       "Name: client_id, dtype: int64"
      ]
     },
     "execution_count": 69,
     "metadata": {},
     "output_type": "execute_result"
    }
   ],
   "source": [
    "successes_df = completion_df.groupby(\"Variation\")[\"client_id\"].nunique()\n",
    "successes_df.head()"
   ]
  },
  {
   "cell_type": "code",
   "execution_count": 70,
   "id": "62a83e26",
   "metadata": {},
   "outputs": [],
   "source": [
    "successes = [successes_df[\"Test\"], successes_df[\"Control\"]]\n"
   ]
  },
  {
   "cell_type": "code",
   "execution_count": 71,
   "id": "37a2bc2b",
   "metadata": {},
   "outputs": [],
   "source": [
    "tries_df = df_merged.groupby(\"Variation\")[\"client_id\"].nunique()"
   ]
  },
  {
   "cell_type": "code",
   "execution_count": 72,
   "id": "e68aeba8",
   "metadata": {},
   "outputs": [],
   "source": [
    "tries = [tries_df[\"Test\"], tries_df[\"Control\"]]"
   ]
  },
  {
   "cell_type": "code",
   "execution_count": 73,
   "id": "b66c3f2a",
   "metadata": {},
   "outputs": [
    {
     "data": {
      "text/plain": [
       "(8.8745141890702, 7.023933247581432e-19)"
      ]
     },
     "execution_count": 73,
     "metadata": {},
     "output_type": "execute_result"
    }
   ],
   "source": [
    "proportions_ztest(successes, tries)"
   ]
  },
  {
   "cell_type": "code",
   "execution_count": 90,
   "id": "b7685c2c",
   "metadata": {},
   "outputs": [
    {
     "name": "stdout",
     "output_type": "stream",
     "text": [
      "client_id  Variation\n",
      "555        Test             158.0\n",
      "647        Test             377.0\n",
      "934        Test             142.0\n",
      "1336       Test            8268.0\n",
      "1346       Test             495.0\n",
      "1516       Test          110207.0\n",
      "1643       Test         4812895.0\n",
      "1702       Test         6127401.0\n",
      "1755       Test          329392.0\n",
      "1836       Test          139707.0\n",
      "Name: duration_sec, dtype: float64\n",
      " \n",
      "client_id  Variation\n",
      "1028       Control          538.0\n",
      "1104       Control       744135.0\n",
      "1186       Control         7568.0\n",
      "1195       Control          245.0\n",
      "1197       Control           95.0\n",
      "3647       Control      4505594.0\n",
      "3743       Control          292.0\n",
      "5354       Control        85958.0\n",
      "6642       Control          443.0\n",
      "6977       Control          227.0\n",
      "Name: duration_sec, dtype: float64\n",
      "\n",
      "⏱️ T-test on journey duration:\n",
      "Stat = -4.783, p-value = 1.73e-06\n"
     ]
    }
   ],
   "source": [
    "\n",
    "df_merged[\"date_time\"] = pd.to_datetime(df_merged[\"date_time\"])\n",
    "\n",
    "# -> Calculate total journey duration per user\n",
    "# Group by client_id and group, and calculate the min and max datetime\n",
    "duration_df = df_merged.groupby([\"client_id\", \"Variation\"])[\"date_time\"].agg([\"min\", \"max\"])\n",
    "\n",
    "# Calculate journey duration in seconds\n",
    "duration_df[\"duration_sec\"] = (duration_df[\"max\"] - duration_df[\"min\"]).dt.total_seconds()\n",
    "\n",
    "# Sort by duration\n",
    "duration_df.sort_values(by=[\"duration_sec\"])\n",
    "\n",
    "# Remove zeros\n",
    "clean_duration_df = duration_df[duration_df[\"duration_sec\"] > 0]\n",
    "\n",
    "# Division into test and control groups\n",
    "test_durations = clean_duration_df[clean_duration_df.index.get_level_values(\"Variation\") == \"Test\"][\"duration_sec\"]\n",
    "\n",
    "control_durations = clean_duration_df[clean_duration_df.index.get_level_values(\"Variation\") == \"Control\"][\"duration_sec\"]\n",
    "\n",
    "print(test_durations.head(10))\n",
    "print(\" \")\n",
    "print(control_durations.head(10))\n",
    "\n",
    "# T-test code\n",
    "from scipy.stats import ttest_ind\n",
    "\n",
    "stat, pval = ttest_ind(test_durations, control_durations, nan_policy='omit')\n",
    "\n",
    "print(f\"\\n⏱️ T-test on journey duration:\\nStat = {stat:.3f}, p-value = {pval:.2e}\")"
   ]
  },
  {
   "cell_type": "code",
   "execution_count": 101,
   "id": "984b7d45",
   "metadata": {},
   "outputs": [
    {
     "data": {
      "text/html": [
       "<div>\n",
       "<style scoped>\n",
       "    .dataframe tbody tr th:only-of-type {\n",
       "        vertical-align: middle;\n",
       "    }\n",
       "\n",
       "    .dataframe tbody tr th {\n",
       "        vertical-align: top;\n",
       "    }\n",
       "\n",
       "    .dataframe thead th {\n",
       "        text-align: right;\n",
       "    }\n",
       "</style>\n",
       "<table border=\"1\" class=\"dataframe\">\n",
       "  <thead>\n",
       "    <tr style=\"text-align: right;\">\n",
       "      <th></th>\n",
       "      <th></th>\n",
       "      <th>min</th>\n",
       "      <th>max</th>\n",
       "      <th>duration_sec</th>\n",
       "    </tr>\n",
       "    <tr>\n",
       "      <th>client_id</th>\n",
       "      <th>Variation</th>\n",
       "      <th></th>\n",
       "      <th></th>\n",
       "      <th></th>\n",
       "    </tr>\n",
       "  </thead>\n",
       "  <tbody>\n",
       "    <tr>\n",
       "      <th>555</th>\n",
       "      <th>Test</th>\n",
       "      <td>2017-04-15 12:57:56</td>\n",
       "      <td>2017-04-15 13:00:34</td>\n",
       "      <td>158.0</td>\n",
       "    </tr>\n",
       "    <tr>\n",
       "      <th>647</th>\n",
       "      <th>Test</th>\n",
       "      <td>2017-04-12 15:41:28</td>\n",
       "      <td>2017-04-12 15:47:45</td>\n",
       "      <td>377.0</td>\n",
       "    </tr>\n",
       "    <tr>\n",
       "      <th>934</th>\n",
       "      <th>Test</th>\n",
       "      <td>2017-04-18 02:36:30</td>\n",
       "      <td>2017-04-18 02:38:52</td>\n",
       "      <td>142.0</td>\n",
       "    </tr>\n",
       "    <tr>\n",
       "      <th>1028</th>\n",
       "      <th>Control</th>\n",
       "      <td>2017-04-08 18:51:28</td>\n",
       "      <td>2017-04-08 19:00:26</td>\n",
       "      <td>538.0</td>\n",
       "    </tr>\n",
       "    <tr>\n",
       "      <th>1104</th>\n",
       "      <th>Control</th>\n",
       "      <td>2017-06-12 07:49:18</td>\n",
       "      <td>2017-06-20 22:31:33</td>\n",
       "      <td>744135.0</td>\n",
       "    </tr>\n",
       "  </tbody>\n",
       "</table>\n",
       "</div>"
      ],
      "text/plain": [
       "                                    min                 max  duration_sec\n",
       "client_id Variation                                                      \n",
       "555       Test      2017-04-15 12:57:56 2017-04-15 13:00:34         158.0\n",
       "647       Test      2017-04-12 15:41:28 2017-04-12 15:47:45         377.0\n",
       "934       Test      2017-04-18 02:36:30 2017-04-18 02:38:52         142.0\n",
       "1028      Control   2017-04-08 18:51:28 2017-04-08 19:00:26         538.0\n",
       "1104      Control   2017-06-12 07:49:18 2017-06-20 22:31:33      744135.0"
      ]
     },
     "execution_count": 101,
     "metadata": {},
     "output_type": "execute_result"
    }
   ],
   "source": [
    "clean_duration_df.head()"
   ]
  },
  {
   "cell_type": "code",
   "execution_count": 114,
   "id": "03b9e9fd",
   "metadata": {},
   "outputs": [
    {
     "data": {
      "text/html": [
       "<div>\n",
       "<style scoped>\n",
       "    .dataframe tbody tr th:only-of-type {\n",
       "        vertical-align: middle;\n",
       "    }\n",
       "\n",
       "    .dataframe tbody tr th {\n",
       "        vertical-align: top;\n",
       "    }\n",
       "\n",
       "    .dataframe thead th {\n",
       "        text-align: right;\n",
       "    }\n",
       "</style>\n",
       "<table border=\"1\" class=\"dataframe\">\n",
       "  <thead>\n",
       "    <tr style=\"text-align: right;\">\n",
       "      <th></th>\n",
       "      <th></th>\n",
       "      <th>duration_sec</th>\n",
       "    </tr>\n",
       "    <tr>\n",
       "      <th>client_id</th>\n",
       "      <th>Variation</th>\n",
       "      <th></th>\n",
       "    </tr>\n",
       "  </thead>\n",
       "  <tbody>\n",
       "    <tr>\n",
       "      <th>555</th>\n",
       "      <th>Test</th>\n",
       "      <td>158.0</td>\n",
       "    </tr>\n",
       "    <tr>\n",
       "      <th>647</th>\n",
       "      <th>Test</th>\n",
       "      <td>377.0</td>\n",
       "    </tr>\n",
       "    <tr>\n",
       "      <th>934</th>\n",
       "      <th>Test</th>\n",
       "      <td>142.0</td>\n",
       "    </tr>\n",
       "    <tr>\n",
       "      <th>1028</th>\n",
       "      <th>Control</th>\n",
       "      <td>538.0</td>\n",
       "    </tr>\n",
       "    <tr>\n",
       "      <th>1104</th>\n",
       "      <th>Control</th>\n",
       "      <td>744135.0</td>\n",
       "    </tr>\n",
       "  </tbody>\n",
       "</table>\n",
       "</div>"
      ],
      "text/plain": [
       "                     duration_sec\n",
       "client_id Variation              \n",
       "555       Test              158.0\n",
       "647       Test              377.0\n",
       "934       Test              142.0\n",
       "1028      Control           538.0\n",
       "1104      Control        744135.0"
      ]
     },
     "execution_count": 114,
     "metadata": {},
     "output_type": "execute_result"
    }
   ],
   "source": [
    "duration_bar_chart = clean_duration_df.drop(columns=[\"min\", \"max\"])\n",
    "duration_bar_chart.head()"
   ]
  },
  {
   "cell_type": "code",
   "execution_count": 123,
   "id": "9d66c934",
   "metadata": {},
   "outputs": [
    {
     "data": {
      "image/png": "[encoded data removed]",
      "text/plain": [
       "<Figure size 640x480 with 1 Axes>"
      ]
     },
     "metadata": {},
     "output_type": "display_data"
    }
   ],
   "source": [
    "# Group by Variation and calculate the average duration\n",
    "avg_duration = duration_bar_chart.groupby('Variation')['duration_sec'].mean()\n",
    "\n",
    "# Plot the data\n",
    "avg_duration.plot(kind='bar', color=['lightgrey', 'dimgrey'])  # Color can be customized\n",
    "plt.title('Average Journey Duration by Variation')\n",
    "plt.xlabel('Variation')\n",
    "plt.ylabel('Average Duration (s)')\n",
    "plt.xticks(rotation=0)\n",
    "plt.show()"
   ]
  },
  {
   "cell_type": "code",
   "execution_count": 145,
   "id": "a0e64dbb",
   "metadata": {},
   "outputs": [
    {
     "data": {
      "text/html": [
       "<div>\n",
       "<style scoped>\n",
       "    .dataframe tbody tr th:only-of-type {\n",
       "        vertical-align: middle;\n",
       "    }\n",
       "\n",
       "    .dataframe tbody tr th {\n",
       "        vertical-align: top;\n",
       "    }\n",
       "\n",
       "    .dataframe thead th {\n",
       "        text-align: right;\n",
       "    }\n",
       "</style>\n",
       "<table border=\"1\" class=\"dataframe\">\n",
       "  <thead>\n",
       "    <tr style=\"text-align: right;\">\n",
       "      <th></th>\n",
       "      <th>client_id</th>\n",
       "      <th>visitor_id</th>\n",
       "      <th>visit_id</th>\n",
       "      <th>process_step</th>\n",
       "      <th>date_time</th>\n",
       "      <th>Variation</th>\n",
       "      <th>step_num</th>\n",
       "    </tr>\n",
       "  </thead>\n",
       "  <tbody>\n",
       "    <tr>\n",
       "      <th>0</th>\n",
       "      <td>9988021</td>\n",
       "      <td>580560515_7732621733</td>\n",
       "      <td>781255054_21935453173_531117</td>\n",
       "      <td>step_3</td>\n",
       "      <td>2017-04-17 15:27:07</td>\n",
       "      <td>Test</td>\n",
       "      <td>4</td>\n",
       "    </tr>\n",
       "    <tr>\n",
       "      <th>1</th>\n",
       "      <td>9988021</td>\n",
       "      <td>580560515_7732621733</td>\n",
       "      <td>781255054_21935453173_531117</td>\n",
       "      <td>step_2</td>\n",
       "      <td>2017-04-17 15:26:51</td>\n",
       "      <td>Test</td>\n",
       "      <td>3</td>\n",
       "    </tr>\n",
       "    <tr>\n",
       "      <th>2</th>\n",
       "      <td>9988021</td>\n",
       "      <td>580560515_7732621733</td>\n",
       "      <td>781255054_21935453173_531117</td>\n",
       "      <td>step_3</td>\n",
       "      <td>2017-04-17 15:19:22</td>\n",
       "      <td>Test</td>\n",
       "      <td>4</td>\n",
       "    </tr>\n",
       "    <tr>\n",
       "      <th>3</th>\n",
       "      <td>9988021</td>\n",
       "      <td>580560515_7732621733</td>\n",
       "      <td>781255054_21935453173_531117</td>\n",
       "      <td>step_2</td>\n",
       "      <td>2017-04-17 15:19:13</td>\n",
       "      <td>Test</td>\n",
       "      <td>3</td>\n",
       "    </tr>\n",
       "    <tr>\n",
       "      <th>4</th>\n",
       "      <td>9988021</td>\n",
       "      <td>580560515_7732621733</td>\n",
       "      <td>781255054_21935453173_531117</td>\n",
       "      <td>step_3</td>\n",
       "      <td>2017-04-17 15:18:04</td>\n",
       "      <td>Test</td>\n",
       "      <td>4</td>\n",
       "    </tr>\n",
       "  </tbody>\n",
       "</table>\n",
       "</div>"
      ],
      "text/plain": [
       "   client_id            visitor_id                      visit_id process_step  \\\n",
       "0    9988021  580560515_7732621733  781255054_21935453173_531117       step_3   \n",
       "1    9988021  580560515_7732621733  781255054_21935453173_531117       step_2   \n",
       "2    9988021  580560515_7732621733  781255054_21935453173_531117       step_3   \n",
       "3    9988021  580560515_7732621733  781255054_21935453173_531117       step_2   \n",
       "4    9988021  580560515_7732621733  781255054_21935453173_531117       step_3   \n",
       "\n",
       "            date_time Variation  step_num  \n",
       "0 2017-04-17 15:27:07      Test         4  \n",
       "1 2017-04-17 15:26:51      Test         3  \n",
       "2 2017-04-17 15:19:22      Test         4  \n",
       "3 2017-04-17 15:19:13      Test         3  \n",
       "4 2017-04-17 15:18:04      Test         4  "
      ]
     },
     "execution_count": 145,
     "metadata": {},
     "output_type": "execute_result"
    }
   ],
   "source": [
    "step_order = {'start': 1, 'step_1': 2, 'step_2': 3, 'step_3': 4, 'confirm': 5}\n",
    "df_merged['step_num'] = df_merged['process_step'].map(step_order)\n",
    "df_merged.head()"
   ]
  },
  {
   "cell_type": "code",
   "execution_count": 147,
   "id": "8a1e8fd2",
   "metadata": {},
   "outputs": [
    {
     "data": {
      "text/html": [
       "<div>\n",
       "<style scoped>\n",
       "    .dataframe tbody tr th:only-of-type {\n",
       "        vertical-align: middle;\n",
       "    }\n",
       "\n",
       "    .dataframe tbody tr th {\n",
       "        vertical-align: top;\n",
       "    }\n",
       "\n",
       "    .dataframe thead th {\n",
       "        text-align: right;\n",
       "    }\n",
       "</style>\n",
       "<table border=\"1\" class=\"dataframe\">\n",
       "  <thead>\n",
       "    <tr style=\"text-align: right;\">\n",
       "      <th></th>\n",
       "      <th>client_id</th>\n",
       "      <th>visitor_id</th>\n",
       "      <th>visit_id</th>\n",
       "      <th>process_step</th>\n",
       "      <th>date_time</th>\n",
       "      <th>Variation</th>\n",
       "      <th>step_num</th>\n",
       "    </tr>\n",
       "  </thead>\n",
       "  <tbody>\n",
       "    <tr>\n",
       "      <th>70803</th>\n",
       "      <td>555</td>\n",
       "      <td>402506806_56087378777</td>\n",
       "      <td>637149525_38041617439_716659</td>\n",
       "      <td>start</td>\n",
       "      <td>2017-04-15 12:57:56</td>\n",
       "      <td>Test</td>\n",
       "      <td>1</td>\n",
       "    </tr>\n",
       "    <tr>\n",
       "      <th>70802</th>\n",
       "      <td>555</td>\n",
       "      <td>402506806_56087378777</td>\n",
       "      <td>637149525_38041617439_716659</td>\n",
       "      <td>step_1</td>\n",
       "      <td>2017-04-15 12:58:03</td>\n",
       "      <td>Test</td>\n",
       "      <td>2</td>\n",
       "    </tr>\n",
       "    <tr>\n",
       "      <th>70801</th>\n",
       "      <td>555</td>\n",
       "      <td>402506806_56087378777</td>\n",
       "      <td>637149525_38041617439_716659</td>\n",
       "      <td>step_2</td>\n",
       "      <td>2017-04-15 12:58:35</td>\n",
       "      <td>Test</td>\n",
       "      <td>3</td>\n",
       "    </tr>\n",
       "  </tbody>\n",
       "</table>\n",
       "</div>"
      ],
      "text/plain": [
       "       client_id             visitor_id                      visit_id  \\\n",
       "70803        555  402506806_56087378777  637149525_38041617439_716659   \n",
       "70802        555  402506806_56087378777  637149525_38041617439_716659   \n",
       "70801        555  402506806_56087378777  637149525_38041617439_716659   \n",
       "\n",
       "      process_step           date_time Variation  step_num  \n",
       "70803        start 2017-04-15 12:57:56      Test         1  \n",
       "70802       step_1 2017-04-15 12:58:03      Test         2  \n",
       "70801       step_2 2017-04-15 12:58:35      Test         3  "
      ]
     },
     "execution_count": 147,
     "metadata": {},
     "output_type": "execute_result"
    }
   ],
   "source": [
    "df_merged = df_merged.sort_values(by=['client_id', 'date_time'])\n",
    "df_merged.head(3)"
   ]
  },
  {
   "cell_type": "code",
   "execution_count": 157,
   "id": "b820a9f3",
   "metadata": {},
   "outputs": [
    {
     "data": {
      "text/html": [
       "<div>\n",
       "<style scoped>\n",
       "    .dataframe tbody tr th:only-of-type {\n",
       "        vertical-align: middle;\n",
       "    }\n",
       "\n",
       "    .dataframe tbody tr th {\n",
       "        vertical-align: top;\n",
       "    }\n",
       "\n",
       "    .dataframe thead th {\n",
       "        text-align: right;\n",
       "    }\n",
       "</style>\n",
       "<table border=\"1\" class=\"dataframe\">\n",
       "  <thead>\n",
       "    <tr style=\"text-align: right;\">\n",
       "      <th></th>\n",
       "      <th>client_id</th>\n",
       "      <th>visitor_id</th>\n",
       "      <th>visit_id</th>\n",
       "      <th>process_step</th>\n",
       "      <th>date_time</th>\n",
       "      <th>Variation</th>\n",
       "      <th>step_num</th>\n",
       "      <th>step_diff</th>\n",
       "      <th>is_error</th>\n",
       "    </tr>\n",
       "  </thead>\n",
       "  <tbody>\n",
       "    <tr>\n",
       "      <th>70803</th>\n",
       "      <td>555</td>\n",
       "      <td>402506806_56087378777</td>\n",
       "      <td>637149525_38041617439_716659</td>\n",
       "      <td>start</td>\n",
       "      <td>2017-04-15 12:57:56</td>\n",
       "      <td>Test</td>\n",
       "      <td>1</td>\n",
       "      <td>NaN</td>\n",
       "      <td>False</td>\n",
       "    </tr>\n",
       "    <tr>\n",
       "      <th>70802</th>\n",
       "      <td>555</td>\n",
       "      <td>402506806_56087378777</td>\n",
       "      <td>637149525_38041617439_716659</td>\n",
       "      <td>step_1</td>\n",
       "      <td>2017-04-15 12:58:03</td>\n",
       "      <td>Test</td>\n",
       "      <td>2</td>\n",
       "      <td>1.0</td>\n",
       "      <td>False</td>\n",
       "    </tr>\n",
       "    <tr>\n",
       "      <th>70801</th>\n",
       "      <td>555</td>\n",
       "      <td>402506806_56087378777</td>\n",
       "      <td>637149525_38041617439_716659</td>\n",
       "      <td>step_2</td>\n",
       "      <td>2017-04-15 12:58:35</td>\n",
       "      <td>Test</td>\n",
       "      <td>3</td>\n",
       "      <td>1.0</td>\n",
       "      <td>False</td>\n",
       "    </tr>\n",
       "    <tr>\n",
       "      <th>70800</th>\n",
       "      <td>555</td>\n",
       "      <td>402506806_56087378777</td>\n",
       "      <td>637149525_38041617439_716659</td>\n",
       "      <td>step_3</td>\n",
       "      <td>2017-04-15 13:00:14</td>\n",
       "      <td>Test</td>\n",
       "      <td>4</td>\n",
       "      <td>1.0</td>\n",
       "      <td>False</td>\n",
       "    </tr>\n",
       "    <tr>\n",
       "      <th>70799</th>\n",
       "      <td>555</td>\n",
       "      <td>402506806_56087378777</td>\n",
       "      <td>637149525_38041617439_716659</td>\n",
       "      <td>confirm</td>\n",
       "      <td>2017-04-15 13:00:34</td>\n",
       "      <td>Test</td>\n",
       "      <td>5</td>\n",
       "      <td>1.0</td>\n",
       "      <td>False</td>\n",
       "    </tr>\n",
       "  </tbody>\n",
       "</table>\n",
       "</div>"
      ],
      "text/plain": [
       "       client_id             visitor_id                      visit_id  \\\n",
       "70803        555  402506806_56087378777  637149525_38041617439_716659   \n",
       "70802        555  402506806_56087378777  637149525_38041617439_716659   \n",
       "70801        555  402506806_56087378777  637149525_38041617439_716659   \n",
       "70800        555  402506806_56087378777  637149525_38041617439_716659   \n",
       "70799        555  402506806_56087378777  637149525_38041617439_716659   \n",
       "\n",
       "      process_step           date_time Variation  step_num  step_diff  \\\n",
       "70803        start 2017-04-15 12:57:56      Test         1        NaN   \n",
       "70802       step_1 2017-04-15 12:58:03      Test         2        1.0   \n",
       "70801       step_2 2017-04-15 12:58:35      Test         3        1.0   \n",
       "70800       step_3 2017-04-15 13:00:14      Test         4        1.0   \n",
       "70799      confirm 2017-04-15 13:00:34      Test         5        1.0   \n",
       "\n",
       "       is_error  \n",
       "70803     False  \n",
       "70802     False  \n",
       "70801     False  \n",
       "70800     False  \n",
       "70799     False  "
      ]
     },
     "execution_count": 157,
     "metadata": {},
     "output_type": "execute_result"
    }
   ],
   "source": [
    "df_merged['step_diff'] = df_merged.groupby('client_id')['step_num'].diff()\n",
    "\n",
    "df_merged['is_error'] = df_merged['step_diff'] < 0\n",
    "\n",
    "df_merged.head()"
   ]
  },
  {
   "cell_type": "code",
   "execution_count": 158,
   "id": "bb004630",
   "metadata": {},
   "outputs": [],
   "source": [
    "# Calculate error rate per group\n",
    "error_counts = df_merged.groupby('Variation')['is_error'].sum()\n",
    "total_transitions = df_merged.groupby('Variation')['step_diff'].count()\n",
    "error_rate = round((error_counts / total_transitions) * 100, 2)"
   ]
  },
  {
   "cell_type": "code",
   "execution_count": 159,
   "id": "549ab5f2",
   "metadata": {},
   "outputs": [
    {
     "data": {
      "text/plain": [
       "Variation\n",
       "Control    11.12\n",
       "Test       12.65\n",
       "dtype: float64"
      ]
     },
     "execution_count": 159,
     "metadata": {},
     "output_type": "execute_result"
    }
   ],
   "source": [
    "error_rate.head()"
   ]
  },
  {
   "cell_type": "code",
   "execution_count": 165,
   "id": "1a82c8a9",
   "metadata": {},
   "outputs": [
    {
     "data": {
      "image/png": "[encoded data removed]",
      "text/plain": [
       "<Figure size 640x480 with 1 Axes>"
      ]
     },
     "metadata": {},
     "output_type": "display_data"
    }
   ],
   "source": [
    "# Plot the data\n",
    "error_rate.plot(kind='bar', color=['red', 'firebrick'])\n",
    "plt.title('Error Rate')\n",
    "plt.xlabel('Variation')\n",
    "plt.ylabel('Error rate (%)')\n",
    "plt.xticks(rotation=0)\n",
    "plt.ylim(0, 1.1 * error_rate.max())\n",
    "plt.show()"
   ]
  },
  {
   "cell_type": "code",
   "execution_count": null,
   "id": "5f8283f3",
   "metadata": {},
   "outputs": [],
   "source": []
  }
 ],
 "metadata": {
  "kernelspec": {
   "display_name": "base",
   "language": "python",
   "name": "python3"
  },
  "language_info": {
   "codemirror_mode": {
    "name": "ipython",
    "version": 3
   },
   "file_extension": ".py",
   "mimetype": "text/x-python",
   "name": "python",
   "nbconvert_exporter": "python",
   "pygments_lexer": "ipython3",
   "version": "3.12.7"
  }
 },
 "nbformat": 4,
 "nbformat_minor": 5
}
